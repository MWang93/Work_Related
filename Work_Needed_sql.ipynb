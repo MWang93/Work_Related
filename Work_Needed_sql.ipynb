{
 "cells": [
  {
   "cell_type": "markdown",
   "metadata": {},
   "source": [
    "# Postgres Date Function"
   ]
  },
  {
   "cell_type": "markdown",
   "metadata": {},
   "source": [
    "#### Round Off Timestamp with DATE_TRUNC()\n",
    "<pre>SELECT DATE_TRUNC('month','2015-04-12 14:44:18'::date)</pre> "
   ]
  },
  {
   "cell_type": "markdown",
   "metadata": {},
   "source": [
    "#### Finding events relative to the present time with NOW() and CURRENT_DATE\n",
    "<pre>\n",
    "SELECT CURRENT_DATE, CURRENT_DATE - interval '12 hours' as \"twelve hours ago\", NOW(), NOW()::date - interval '1 month'as \"one month ago\"\n",
    "</pre>"
   ]
  },
  {
   "cell_type": "markdown",
   "metadata": {},
   "source": [
    "#### Isolating hour-of-day and day-of-week with EXTRACT\n",
    "<pre>SELECT EXTRACT(dow FROM '2015-02-12'::date)</pre>"
   ]
  },
  {
   "cell_type": "markdown",
   "metadata": {},
   "source": [
    "#### Calculating time elapsed with AGE\n",
    "<pre>\n",
    "SELECT '2012-12-01'::date - '2010-01-01'::date as diff_day, AGE( '2012-12-01'::date,'2010-01-01'::date), AGE('2019-01-01'::date)</pre>"
   ]
  },
  {
   "cell_type": "markdown",
   "metadata": {},
   "source": [
    "#### How long does it take users to complete their profile each month, on average?\n",
    "\n",
    "    Note: extract(epoch 'timestamp' or 'interval') | http://www.postgresqltutorial.com/postgresql-extract/\n",
    "<pre>\n",
    "SELECT DATE_TRUNC('month',started_at) AS month,\n",
    "       EXTRACT(EPOCH FROM AVG(AGE(ended_at,started_at))) AS avg_seconds\n",
    "FROM modeanalytics.profile_creation_events \n",
    "GROUP BY 1\n",
    "ORDER BY 1  \n",
    " </pre>"
   ]
  }
 ],
 "metadata": {
  "kernelspec": {
   "display_name": "Python 3",
   "language": "python",
   "name": "python3"
  },
  "language_info": {
   "codemirror_mode": {
    "name": "ipython",
    "version": 3
   },
   "file_extension": ".py",
   "mimetype": "text/x-python",
   "name": "python",
   "nbconvert_exporter": "python",
   "pygments_lexer": "ipython3",
   "version": "3.6.8"
  }
 },
 "nbformat": 4,
 "nbformat_minor": 2
}
