{
 "cells": [
  {
   "cell_type": "markdown",
   "metadata": {},
   "source": [
    "# Postgres Date Function"
   ]
  },
  {
   "cell_type": "markdown",
   "metadata": {},
   "source": [
    "#### Extract part of the timestamp with DATE_TRUNC()\n",
    "<pre>SELECT DATE_TRUNC('month','2015-04-12 14:44:18'::date)</pre> "
   ]
  },
  {
   "cell_type": "markdown",
   "metadata": {},
   "source": [
    "#### Find events relative to the present time with NOW() and CURRENT_DATE\n",
    "<pre>\n",
    "SELECT CURRENT_DATE, \n",
    "CURRENT_DATE - interval '12 hours' as \"twelve hours ago\", \n",
    "NOW(), NOW()::date - interval '1 month' as \"one month ago\"\n",
    "</pre>"
   ]
  },
  {
   "cell_type": "markdown",
   "metadata": {},
   "source": [
    "#### Isolate hour-of-day and day-of-week with EXTRACT\n",
    "<pre>SELECT EXTRACT(dow FROM '2015-02-12'::date)</pre>"
   ]
  },
  {
   "cell_type": "markdown",
   "metadata": {},
   "source": [
    "#### Calculate the difference between two timesetamps with  AGE, DATE_PART, EXTRACT\n",
    "<pre>\n",
    "SELECT '2019-01-01'::date - now()::date as diff_day, \n",
    "AGE(now()::date, '2019-01-01'::date) as age_date, \n",
    "AGE('2019-01-01'::date) as age_until_now, \n",
    "(-DATE_PART('epoch', '2019-01-01'::date) + DATE_PART('epoch', now()::date))/(60*60*24) as date_part_diff_days,\n",
    "(-extract(epoch from '2019-01-01'::date) + extract(epoch from now()::date))/(60*60*24) as extract_diff_days\n",
    "</pre>"
   ]
  },
  {
   "cell_type": "markdown",
   "metadata": {},
   "source": [
    "#### Between is Inclusive\n",
    "\t1. Expected:\n",
    "\tSELECT * FROM Cases WHERE created_at BETWEEN the beginning of '2013-05-01' AND the end of '2013-05-01'\n",
    "\n",
    "\t2. Reality:\n",
    "\tSELECT * FROM Cases WHERE created_at BETWEEN '2013-05-01 00:00:00+00000' AND '2013-05-01 00:00:00+00000'\n",
    "\n",
    "\t3. Equal:\n",
    "\tSELECT * FROM Cases WHERE created_at = '2013-05-01 00:00:00+00000'\n",
    "\n",
    "\t4. Suggested: # if you still want to use Between \n",
    "\tSELECT * FROM Cases WHERE (created_at >= '20130501' AND created_at < '20130502')"
   ]
  },
  {
   "cell_type": "markdown",
   "metadata": {},
   "source": [
    "#### Example: How long does it take users to complete their profile each month on average?\n",
    "\n",
    "    Note: extract(epoch 'timestamp' or 'interval') | http://www.postgresqltutorial.com/postgresql-extract/\n",
    "<pre>\n",
    "SELECT DATE_TRUNC('month',started_at) AS month,\n",
    "       EXTRACT(EPOCH FROM AVG(AGE(ended_at,started_at))) AS avg_seconds\n",
    "FROM modeanalytics.profile_creation_events \n",
    "GROUP BY 1\n",
    "ORDER BY 1  \n",
    "</pre>"
   ]
  },
  {
   "cell_type": "markdown",
   "metadata": {},
   "source": [
    "# Others"
   ]
  },
  {
   "cell_type": "markdown",
   "metadata": {},
   "source": [
    "#### Generate series for daily/monthly reporting needs\n",
    "<pre>\n",
    "WITH range_values AS (\n",
    "  SELECT date_trunc('week', min(created_at)) as minval,\n",
    "         date_trunc('week', max(created_at)) as maxval\n",
    "  FROM users),\n",
    "\n",
    "week_range AS (\n",
    "  SELECT generate_series(minval, maxval, '1 week'::interval) as week\n",
    "  FROM range_values\n",
    "),\n",
    "\n",
    "weekly_counts AS (\n",
    "  SELECT date_trunc('week', created_at) as week,\n",
    "         count(*) as ct\n",
    "  FROM users\n",
    "  GROUP BY 1\n",
    ")\n",
    "\n",
    "SELECT week_range.week,\n",
    "       weekly_counts.ct\n",
    "FROM week_range\n",
    "LEFT OUTER JOIN weekly_counts on week_range.week = weekly_counts.week;\n",
    "</pre>\n"
   ]
  },
  {
   "cell_type": "markdown",
   "metadata": {},
   "source": [
    "# Analysis"
   ]
  },
  {
   "cell_type": "markdown",
   "metadata": {},
   "source": [
    "#### Get the first row per group\n",
    "<pre>\n",
    "WITH _events (\n",
    "  SELECT *, \n",
    "  row_number() OVER (PARTITION BY  user_id ORDER BY created_at DESC) AS row_number\n",
    "  FROM events\n",
    "  WHERE day = '2018-01-01'::date\n",
    ")\n",
    "\n",
    "SELECT *\n",
    "FROM _events\n",
    "WHERE row_number = 1\n",
    "</pre>"
   ]
  },
  {
   "cell_type": "markdown",
   "metadata": {},
   "source": [
    "#### Avoid Gaps in Data\n",
    "<pre>\n",
    "WITH days AS (\n",
    "  SELECT generate_series(\n",
    "    DATE_TRUNC('day', NOW()) - '30 days'::interval,\n",
    "    DATE_TRUNC('day', NOW()),'1 day'::interval\n",
    "  ) AS day\n",
    ")\n",
    "\n",
    "SELECT days.day, COALESCE(COUNT(users.id),0)\n",
    "FROM days\n",
    "LEFT JOIN users ON DATE_TRUNC('day', users.created_at) = days.day\n",
    "GROUP BY 1\n",
    "</pre>"
   ]
  },
  {
   "cell_type": "markdown",
   "metadata": {},
   "source": [
    "#### Type Casting\n",
    "<pre>\n",
    "-- Cast text to boolean\n",
    "select 'true'::boolean;\n",
    "\n",
    "-- Cast float to integer\n",
    "select 1.0::integer;\n",
    "\n",
    "-- Cast integer to float\n",
    "select '3.33'::float;\n",
    "select 10/3.0; -- This will return a float too\n",
    "\n",
    "-- Cast text to integer\n",
    "select '1'::integer;\n",
    "\n",
    "-- Cast text to timestamp\n",
    "select '2018-01-01 09:00:00'::timestamp;\n",
    "\n",
    "-- Cast text to date\n",
    "select '2018-01-01'::date;\n",
    "\n",
    "-- Cast text to interval\n",
    "select '1 minute'::interval;\n",
    "select '1 hour'::interval;\n",
    "select '1 day'::interval;\n",
    "select '1 week'::interval;\n",
    "select '1 month'::interval;\n",
    "</pre>"
   ]
  },
  {
   "cell_type": "markdown",
   "metadata": {},
   "source": [
    "#### Compare Two Values when One is Null\n",
    "<pre>\n",
    "SELECT count(1)\n",
    "FROM items\n",
    "WHERE width is distinct from height;\n",
    "</pre>\n",
    "\n",
    "<pre>\n",
    "SELECT count(1)\n",
    "FROM items\n",
    "WHERE width != height or width is Null or height is Null\n",
    "</pre>"
   ]
  },
  {
   "cell_type": "markdown",
   "metadata": {},
   "source": [
    "#### Case\n",
    "<pre>\n",
    "SELECT\n",
    "  CASE\n",
    "    WHEN precipitation = 0 THEN 'none'\n",
    "    WHEN precipitation <= 5 THEN 'little'\n",
    "    WHEN precipitation > 5 THEN 'lots'\n",
    "    ELSE 'unknown'\n",
    "  END AS amount_of_rain\n",
    "FROM weather_data;\n",
    "</pre>"
   ]
  },
  {
   "cell_type": "markdown",
   "metadata": {},
   "source": [
    "#### Windows Function => Cumulative Sum Total \n",
    "<pre> # every day new generated users ... \n",
    "WITH daily_new_users AS (\n",
    "  SELECT DATE_TRUNC('day', created_at) AS day, \n",
    "  COUNT(DISTINCT userid) AS daily_users\n",
    "  FROM users\n",
    "  GROUP BY 1\n",
    ")\n",
    "# rolling 7 days sum\n",
    "SELECT day, daily_users, \n",
    "SUM(daily_users) OVER (ORDER BY day ROWS BETWEEN 6 UNBOUNDED PRECEDING AND CURRENT ROW) as cum_users\n",
    "FROM daily_new_users\n",
    "</pre>"
   ]
  },
  {
   "cell_type": "markdown",
   "metadata": {},
   "source": [
    "#### Windows Function => Day over Day Compare (use lag or left join + where)\n",
    "<pre> \n",
    "WITH daily_new_users AS ( # every day new generated users ... \n",
    "  SELECT DATE_TRUNC('day', created_at) AS day, \n",
    "  COUNT(DISTINCT userid) AS daily_users\n",
    "  FROM users\n",
    "  GROUP BY 1\n",
    ")\n",
    "# day to day compare + lag\n",
    "SELECT day, daily_users, \n",
    "TO_CHAR((daily_users - lag(daily_users, 1) over(order by day))*100/lag(daily_users, 1) over(order by day)),'999D99%') as daily_users_change_rate\n",
    "FROM daily_new_users\n",
    "</pre>\n",
    "<pre> \n",
    "WITH daily_new_users AS ( # every day new generated users ... \n",
    "  SELECT DATE_TRUNC('day', created_at) AS day, \n",
    "  COUNT(DISTINCT userid) AS daily_users\n",
    "  FROM users\n",
    "  GROUP BY 1\n",
    ")\n",
    "# day to day compare + left join\n",
    "SELECT day, daily_users, TO_CHAR((u1.daily_users - u2.daily_users)*100.00/u2.daily_users, '999D99%') as daily_users_change_rate\n",
    "FROM daily_new_users u1 left join daily_new_users \n",
    "on u2.day >= u1.day -  INTERVAL '1 Days' AND u2.day < u1.day\n",
    "GROUP BY u1.day\n",
    "</pre>\n"
   ]
  }
 ],
 "metadata": {
  "kernelspec": {
   "display_name": "Python 3",
   "language": "python",
   "name": "python3"
  },
  "language_info": {
   "codemirror_mode": {
    "name": "ipython",
    "version": 3
   },
   "file_extension": ".py",
   "mimetype": "text/x-python",
   "name": "python",
   "nbconvert_exporter": "python",
   "pygments_lexer": "ipython3",
   "version": "3.6.8"
  }
 },
 "nbformat": 4,
 "nbformat_minor": 2
}
