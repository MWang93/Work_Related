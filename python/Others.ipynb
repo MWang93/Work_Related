{
 "cells": [
  {
   "cell_type": "code",
   "execution_count": 34,
   "metadata": {},
   "outputs": [
    {
     "name": "stdout",
     "output_type": "stream",
     "text": [
      "<class 'str'> {'muffin' : 'lolz', 'foo' : 'kitty'}\n",
      "<class 'dict'> {'muffin': 'lolz', 'foo': 'kitty'}\n",
      "\n",
      "\n",
      "<class 'str'> {\"muffin\" : \"lolz\", \"foo\" : \"kitty\"}\n",
      "<class 'dict'> {'muffin': 'lolz', 'foo': 'kitty'}\n",
      "\n",
      "\n",
      "<class 'dict'> {'muffin': 'lolz', 'foo': 'kitty'}\n",
      "<class 'dict'> {'muffin': 'lolz', 'foo': 'kitty'}\n"
     ]
    }
   ],
   "source": [
    "# Convert a String representation of a Dictionary to a dictionary?\n",
    "s = \"{'muffin' : 'lolz', 'foo' : 'kitty'}\"\n",
    "print(type(s), s)\n",
    "\n",
    "import ast\n",
    "print(type(ast.literal_eval(\"{'muffin' : 'lolz', 'foo' : 'kitty'}\")),\n",
    "      ast.literal_eval(\"{'muffin' : 'lolz', 'foo' : 'kitty'}\"))\n",
    "\n",
    "print('\\n')\n",
    "\n",
    "import json\n",
    "json_acceptable_string = s.replace(\"'\",\"\\\"\")\n",
    "print(type(json_acceptable_string), json_acceptable_string)\n",
    "print(type(json.loads(json_acceptable_string)), \n",
    "      json.loads(json_acceptable_string))\n",
    "\n",
    "print('\\n')\n",
    "import yaml\n",
    "print(type(yaml.load(s, Loader=yaml.FullLoader)),\n",
    "     yaml.load(s, Loader=yaml.FullLoader))\n",
    "\n",
    "d = {}\n",
    "elems  = list(filter(str.isalnum,s.split(\"'\")))\n",
    "values = elems[1::2]\n",
    "keys   = elems[0::2]\n",
    "d.update(zip(keys,values))\n",
    "print(type(d),d)"
   ]
  }
 ],
 "metadata": {
  "kernelspec": {
   "display_name": "Python 3",
   "language": "python",
   "name": "python3"
  },
  "language_info": {
   "codemirror_mode": {
    "name": "ipython",
    "version": 3
   },
   "file_extension": ".py",
   "mimetype": "text/x-python",
   "name": "python",
   "nbconvert_exporter": "python",
   "pygments_lexer": "ipython3",
   "version": "3.6.8"
  }
 },
 "nbformat": 4,
 "nbformat_minor": 2
}
