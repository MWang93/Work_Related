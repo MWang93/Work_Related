{
 "cells": [
  {
   "cell_type": "code",
   "execution_count": 1,
   "metadata": {},
   "outputs": [],
   "source": [
    "import os\n",
    "import re\n",
    "from collections import defaultdict\n",
    "\n",
    "import gspread\n",
    "import pandas as pd\n",
    "import numpy as np\n",
    "import matplotlib.pyplot as plt\n",
    "import seaborn as sns\n",
    "%matplotlib inline\n",
    "from oauth2client.service_account import ServiceAccountCredentials"
   ]
  },
  {
   "cell_type": "code",
   "execution_count": 2,
   "metadata": {},
   "outputs": [],
   "source": [
    "# pandas dataframe setting\n",
    "pd.options.display.max_columns = 50  # None -> No Restrictions\n",
    "pd.options.display.max_rows = 200    # None -> Be careful with this \n",
    "pd.options.display.max_colwidth = 100\n",
    "pd.options.display.precision = 3"
   ]
  },
  {
   "cell_type": "code",
   "execution_count": 3,
   "metadata": {},
   "outputs": [],
   "source": [
    "# check missing rate\n",
    "def missing_ratio(df, by='column', drop_ratio=0):\n",
    "    if by=='column':\n",
    "        ratio = df.isnull().sum()/len(df)*100\n",
    "    elif by=='row':\n",
    "        ratio = df.isnull().sum(axis=1)/len(df.columns)*100\n",
    "    else:\n",
    "        ratio = round(df.isnull().sum().values.sum()/df.size,2)\n",
    "    if drop_ratio==0:\n",
    "        return ratio\n",
    "    else:\n",
    "        return ratio[ratio>drop_ratio].index"
   ]
  },
  {
   "cell_type": "code",
   "execution_count": 4,
   "metadata": {},
   "outputs": [],
   "source": [
    "# check value counts\n",
    "def value_counts_bycol(df,dtype=str):\n",
    "    for i in df.columns:\n",
    "        if dtype in [str, int, float]:\n",
    "            index = df[i].value_counts().index.values\n",
    "            print(i, ':', [x for x in index if type(x)==dtype])\n",
    "        else:\n",
    "            print(i, ':', [df[i].value_counts().index.values])"
   ]
  },
  {
   "cell_type": "code",
   "execution_count": 5,
   "metadata": {},
   "outputs": [],
   "source": [
    "# check the current data types \n",
    "def print_dtypes(df):\n",
    "    df_dtypes = df.dtypes.reset_index()\n",
    "    df_dtypes = df_dtypes.rename(columns={0:'type'})\n",
    "    df_dtypes = df_dtypes.groupby('type')['index'].apply(list).reset_index()\n",
    "    df_dtypes['index'] = df_dtypes.apply(lambda x: \",\".join(x['index']), axis=1)\n",
    "    for k,v in df_dtypes.iterrows():\n",
    "        print(v.values[0])\n",
    "        print(v.values[1])\n",
    "        print('\\n')\n",
    "\n",
    "    #df_num = df.select_dtypes(include = ['float64', 'int64'])\n",
    "    return df_dtypes"
   ]
  },
  {
   "cell_type": "code",
   "execution_count": 6,
   "metadata": {},
   "outputs": [],
   "source": [
    "# connect to google sheets api\n",
    "scope = ['https://spreadsheets.google.com/feeds']\n",
    "url = \"...\"\n",
    "creds = ServiceAccountCredentials.from_json_keyfile_name('client_secret.json', scope)\n",
    "client = gspread.authorize(creds)\n",
    "sheet = client.open_by_url(url)"
   ]
  },
  {
   "cell_type": "code",
   "execution_count": 7,
   "metadata": {
    "scrolled": false
   },
   "outputs": [
    {
     "name": "stdout",
     "output_type": "stream",
     "text": [
      "sheet number: 2, finish concating...\n"
     ]
    },
    {
     "name": "stderr",
     "output_type": "stream",
     "text": [
      "/Library/Frameworks/Python.framework/Versions/3.6/lib/python3.6/site-packages/ipykernel_launcher.py:37: FutureWarning: Sorting because non-concatenation axis is not aligned. A future version\n",
      "of pandas will change to not sort by default.\n",
      "\n",
      "To accept the future behavior, pass 'sort=False'.\n",
      "\n",
      "To retain the current behavior and silence the warning, pass 'sort=True'.\n",
      "\n"
     ]
    },
    {
     "name": "stdout",
     "output_type": "stream",
     "text": [
      "sheet number: 3, finish concating...\n",
      "sheet number: 4, finish concating...\n",
      "sheet number: 5, finish concating...\n",
      "sheet number: 6, finish concating...\n",
      "sheet number: 7, pass! nan_percent: 0.79 is greater than 0.5...\n"
     ]
    },
    {
     "data": {
      "text/html": [
       "<div>\n",
       "<style scoped>\n",
       "    .dataframe tbody tr th:only-of-type {\n",
       "        vertical-align: middle;\n",
       "    }\n",
       "\n",
       "    .dataframe tbody tr th {\n",
       "        vertical-align: top;\n",
       "    }\n",
       "\n",
       "    .dataframe thead th {\n",
       "        text-align: right;\n",
       "    }\n",
       "</style>\n",
       "<table border=\"1\" class=\"dataframe\">\n",
       "  <thead>\n",
       "    <tr style=\"text-align: right;\">\n",
       "      <th></th>\n",
       "      <th>%saturationDO</th>\n",
       "      <th>Airtemp</th>\n",
       "      <th>Coliformbacteria</th>\n",
       "      <th>Conductivity</th>\n",
       "      <th>DO</th>\n",
       "      <th>E.Colibacteria</th>\n",
       "      <th>N,ammonia</th>\n",
       "      <th>Nitrates-MR</th>\n",
       "      <th>Nitrites</th>\n",
       "      <th>PH</th>\n",
       "      <th>PO4,Reactive</th>\n",
       "      <th>Time</th>\n",
       "      <th>Turbidity</th>\n",
       "      <th>Watertemp</th>\n",
       "      <th>date</th>\n",
       "      <th>location</th>\n",
       "      <th>weather</th>\n",
       "    </tr>\n",
       "  </thead>\n",
       "  <tbody>\n",
       "    <tr>\n",
       "      <th>0</th>\n",
       "      <td>N/A</td>\n",
       "      <td>13.8</td>\n",
       "      <td>N/A</td>\n",
       "      <td>40.1</td>\n",
       "      <td>12.5</td>\n",
       "      <td>N/A</td>\n",
       "      <td>0.07</td>\n",
       "      <td>0.7</td>\n",
       "      <td>0.006</td>\n",
       "      <td>8.1</td>\n",
       "      <td>0.43</td>\n",
       "      <td>11:35</td>\n",
       "      <td>0.65</td>\n",
       "      <td>9.3</td>\n",
       "      <td>10-12-18</td>\n",
       "      <td>elk creek</td>\n",
       "      <td>sunny</td>\n",
       "    </tr>\n",
       "    <tr>\n",
       "      <th>1</th>\n",
       "      <td>NaN</td>\n",
       "      <td>13.8</td>\n",
       "      <td>NaN</td>\n",
       "      <td>41</td>\n",
       "      <td>NaN</td>\n",
       "      <td>NaN</td>\n",
       "      <td>0.05</td>\n",
       "      <td>0.3</td>\n",
       "      <td>0.011</td>\n",
       "      <td>8.13</td>\n",
       "      <td>0.3</td>\n",
       "      <td>10:23</td>\n",
       "      <td>0.78</td>\n",
       "      <td>7.5</td>\n",
       "      <td>10-26-18</td>\n",
       "      <td>deer creek</td>\n",
       "      <td>cloudy/raining</td>\n",
       "    </tr>\n",
       "    <tr>\n",
       "      <th>2</th>\n",
       "      <td>NaN</td>\n",
       "      <td>13.8</td>\n",
       "      <td>NaN</td>\n",
       "      <td>5.14ms</td>\n",
       "      <td>NaN</td>\n",
       "      <td>NaN</td>\n",
       "      <td>3 plus</td>\n",
       "      <td>0.005</td>\n",
       "      <td>0.3</td>\n",
       "      <td>7.69</td>\n",
       "      <td>0.37</td>\n",
       "      <td>11:56</td>\n",
       "      <td>2.72</td>\n",
       "      <td>31.6</td>\n",
       "      <td>10-26-18</td>\n",
       "      <td>deer creek hs</td>\n",
       "      <td>cloudy/raining</td>\n",
       "    </tr>\n",
       "    <tr>\n",
       "      <th>3</th>\n",
       "      <td>NaN</td>\n",
       "      <td>13.9</td>\n",
       "      <td>NaN</td>\n",
       "      <td>55.1</td>\n",
       "      <td>NaN</td>\n",
       "      <td>NaN</td>\n",
       "      <td>0.03</td>\n",
       "      <td>0.004</td>\n",
       "      <td>0.5</td>\n",
       "      <td>8.28</td>\n",
       "      <td>0.17</td>\n",
       "      <td>12:30</td>\n",
       "      <td>1.24</td>\n",
       "      <td>8.3</td>\n",
       "      <td>10-26-18</td>\n",
       "      <td>horse creek</td>\n",
       "      <td>cloudy/raining</td>\n",
       "    </tr>\n",
       "    <tr>\n",
       "      <th>4</th>\n",
       "      <td>97.6</td>\n",
       "      <td>5.5</td>\n",
       "      <td>NaN</td>\n",
       "      <td>11.1</td>\n",
       "      <td>12</td>\n",
       "      <td>NaN</td>\n",
       "      <td>0.1</td>\n",
       "      <td>0.1</td>\n",
       "      <td>0.01</td>\n",
       "      <td>7.21</td>\n",
       "      <td>0.11</td>\n",
       "      <td>12:38</td>\n",
       "      <td>0.86</td>\n",
       "      <td>6.2-7.5</td>\n",
       "      <td>11-30-18</td>\n",
       "      <td>deer creek</td>\n",
       "      <td>raining</td>\n",
       "    </tr>\n",
       "  </tbody>\n",
       "</table>\n",
       "</div>"
      ],
      "text/plain": [
       "  %saturationDO Airtemp Coliformbacteria Conductivity    DO E.Colibacteria  \\\n",
       "0           N/A    13.8              N/A         40.1  12.5            N/A   \n",
       "1           NaN    13.8              NaN           41   NaN            NaN   \n",
       "2           NaN    13.8              NaN       5.14ms   NaN            NaN   \n",
       "3           NaN    13.9              NaN         55.1   NaN            NaN   \n",
       "4          97.6     5.5              NaN         11.1    12            NaN   \n",
       "\n",
       "  N,ammonia Nitrates-MR Nitrites    PH PO4,Reactive   Time Turbidity  \\\n",
       "0      0.07         0.7    0.006   8.1         0.43  11:35      0.65   \n",
       "1      0.05         0.3    0.011  8.13          0.3  10:23      0.78   \n",
       "2    3 plus       0.005      0.3  7.69         0.37  11:56      2.72   \n",
       "3      0.03       0.004      0.5  8.28         0.17  12:30      1.24   \n",
       "4       0.1         0.1     0.01  7.21         0.11  12:38      0.86   \n",
       "\n",
       "  Watertemp      date       location         weather  \n",
       "0       9.3  10-12-18      elk creek           sunny  \n",
       "1       7.5  10-26-18     deer creek  cloudy/raining  \n",
       "2      31.6  10-26-18  deer creek hs  cloudy/raining  \n",
       "3       8.3  10-26-18    horse creek  cloudy/raining  \n",
       "4   6.2-7.5  11-30-18     deer creek         raining  "
      ]
     },
     "execution_count": 7,
     "metadata": {},
     "output_type": "execute_result"
    }
   ],
   "source": [
    "# create new empty dataframe to store all the worksheets\n",
    "df_total = pd.DataFrame()\n",
    "# create a loop to get data from each sheets and conbine them together\n",
    "for i in range(2,8):\n",
    "    worksheet = sheet.get_worksheet(i)\n",
    "    data = worksheet.get_all_records()\n",
    "    raw_df = pd.DataFrame(data)\n",
    "    \n",
    "    for c in raw_df.columns:\n",
    "        if not c:\n",
    "            raw_df.drop(columns=c, inplace=True)\n",
    "    \n",
    "    # check nan values (add this later)\n",
    "    nan_percent = missing_ratio(df=raw_df.replace('',np.nan), by='total')\n",
    "    \n",
    "    if nan_percent>0.5:\n",
    "        print(\"sheet number: %s, pass! nan_percent: %s is greater than 0.5...\" %(i, nan_percent))\n",
    "        pass\n",
    "    else:\n",
    "        # since raw data is not well formated, we grab date, weather, sites info firstly\n",
    "        date = raw_df.columns.values[0].lower().strip()\n",
    "        weather = raw_df.iloc[0,0].replace(' ', '').lower().strip()\n",
    "        sites = list(map(lambda x:x.lower().strip(), raw_df.iloc[0,2:].to_list()))\n",
    "\n",
    "        # then we grab other main metrics data\n",
    "        main_data = raw_df.iloc[2:,1:].replace('', np.nan).dropna() #drop the empty row\n",
    "        np_main_data = main_data.to_numpy().T #self transpose\n",
    "        columns = [x.replace(':','').replace(' ', '') for x in list(np_main_data[0])] #format the column name, get rid of extra spance or symbol\n",
    "\n",
    "        # concat main metris data with date, weather, sites data\n",
    "        df = pd.DataFrame(np_main_data[1:], columns=columns)\n",
    "        df['weather'] = [weather]*len(df)\n",
    "        df['date'] = [date]*len(df)\n",
    "        df['location'] = sites\n",
    "\n",
    "        # append it to df_total where we want to store all the worksheets\n",
    "        df_total = pd.concat([df_total,df], axis=0, ignore_index=True)\n",
    "        print(\"sheet number: %s, finish concating...\" %i)\n",
    "\n",
    "df_total.head(5)"
   ]
  },
  {
   "cell_type": "code",
   "execution_count": 8,
   "metadata": {
    "scrolled": true
   },
   "outputs": [
    {
     "name": "stdout",
     "output_type": "stream",
     "text": [
      "object\n",
      "%saturationDO,Airtemp,Coliformbacteria,Conductivity,DO,E.Colibacteria,N,ammonia,Nitrates-MR,Nitrites,PH,PO4,Reactive,Time,Turbidity,Watertemp,date,location,weather\n",
      "\n",
      "\n"
     ]
    },
    {
     "data": {
      "text/html": [
       "<div>\n",
       "<style scoped>\n",
       "    .dataframe tbody tr th:only-of-type {\n",
       "        vertical-align: middle;\n",
       "    }\n",
       "\n",
       "    .dataframe tbody tr th {\n",
       "        vertical-align: top;\n",
       "    }\n",
       "\n",
       "    .dataframe thead th {\n",
       "        text-align: right;\n",
       "    }\n",
       "</style>\n",
       "<table border=\"1\" class=\"dataframe\">\n",
       "  <thead>\n",
       "    <tr style=\"text-align: right;\">\n",
       "      <th></th>\n",
       "      <th>type</th>\n",
       "      <th>index</th>\n",
       "    </tr>\n",
       "  </thead>\n",
       "  <tbody>\n",
       "    <tr>\n",
       "      <th>0</th>\n",
       "      <td>object</td>\n",
       "      <td>%saturationDO,Airtemp,Coliformbacteria,Conductivity,DO,E.Colibacteria,N,ammonia,Nitrates-MR,Nitr...</td>\n",
       "    </tr>\n",
       "  </tbody>\n",
       "</table>\n",
       "</div>"
      ],
      "text/plain": [
       "     type  \\\n",
       "0  object   \n",
       "\n",
       "                                                                                                 index  \n",
       "0  %saturationDO,Airtemp,Coliformbacteria,Conductivity,DO,E.Colibacteria,N,ammonia,Nitrates-MR,Nitr...  "
      ]
     },
     "execution_count": 8,
     "metadata": {},
     "output_type": "execute_result"
    }
   ],
   "source": [
    "# check dtypes\n",
    "print_dtypes(df_total)"
   ]
  },
  {
   "cell_type": "markdown",
   "metadata": {},
   "source": [
    "The datatype should be like these:\n",
    "\n",
    "- numeric: %saturationDO,Airtemp,Coliformbacteria,Conductivity,DO,E.Colibacteria,N,ammonia,Nitrates-MR,Nitrites,PH,PO4,Reactive,Turbidity,Watertemp\n",
    "- datetime: Time,date\n",
    "- object: location,weather\n",
    "\n",
    "To do:\n",
    "\n",
    "- for each should-be numeric columns: astype to force it covert to float, if it doesn't work which means there're non digital value here, we need to value counts to see the weired cases, then clean the string and use astype convert again.\n",
    "\n",
    "- for each should-be date columns: astype\n",
    "\n",
    "- for each object columns: check values"
   ]
  },
  {
   "cell_type": "code",
   "execution_count": 9,
   "metadata": {},
   "outputs": [],
   "source": [
    "df_test = df_total.copy()"
   ]
  },
  {
   "cell_type": "code",
   "execution_count": 10,
   "metadata": {},
   "outputs": [],
   "source": [
    "# dtype and fillna"
   ]
  },
  {
   "cell_type": "code",
   "execution_count": 11,
   "metadata": {},
   "outputs": [
    {
     "name": "stdout",
     "output_type": "stream",
     "text": [
      "datetime64[ns]\n",
      "date\n",
      "\n",
      "\n",
      "object\n",
      "Time\n",
      "\n",
      "\n"
     ]
    },
    {
     "data": {
      "text/html": [
       "<div>\n",
       "<style scoped>\n",
       "    .dataframe tbody tr th:only-of-type {\n",
       "        vertical-align: middle;\n",
       "    }\n",
       "\n",
       "    .dataframe tbody tr th {\n",
       "        vertical-align: top;\n",
       "    }\n",
       "\n",
       "    .dataframe thead th {\n",
       "        text-align: right;\n",
       "    }\n",
       "</style>\n",
       "<table border=\"1\" class=\"dataframe\">\n",
       "  <thead>\n",
       "    <tr style=\"text-align: right;\">\n",
       "      <th></th>\n",
       "      <th>type</th>\n",
       "      <th>index</th>\n",
       "    </tr>\n",
       "  </thead>\n",
       "  <tbody>\n",
       "    <tr>\n",
       "      <th>0</th>\n",
       "      <td>datetime64[ns]</td>\n",
       "      <td>date</td>\n",
       "    </tr>\n",
       "    <tr>\n",
       "      <th>1</th>\n",
       "      <td>object</td>\n",
       "      <td>Time</td>\n",
       "    </tr>\n",
       "  </tbody>\n",
       "</table>\n",
       "</div>"
      ],
      "text/plain": [
       "             type index\n",
       "0  datetime64[ns]  date\n",
       "1          object  Time"
      ]
     },
     "execution_count": 11,
     "metadata": {},
     "output_type": "execute_result"
    }
   ],
   "source": [
    "# step1: convert the below two columns to time related type   \n",
    "should_be_date = ['Time', 'date']\n",
    "df_test['Time'] = pd.to_datetime(df_test['Time'], format= '%H:%M').dt.time\n",
    "df_test['date'] = pd.to_datetime(df_test['date']) #.dt.date\n",
    "\n",
    "# check dtypes\n",
    "print_dtypes(df_test[should_be_date])"
   ]
  },
  {
   "cell_type": "markdown",
   "metadata": {},
   "source": [
    "<div class=\"alert alert-block alert-warning\">\n",
    "<b>Warn:</b>\n",
    "    Split Hours to \"Morning, Noon or Afternoon or Night\" ... make more sense?\n",
    "</div>"
   ]
  },
  {
   "cell_type": "code",
   "execution_count": 12,
   "metadata": {},
   "outputs": [
    {
     "name": "stdout",
     "output_type": "stream",
     "text": [
      "convert %saturationDO to float...\n",
      "failed to convert %saturationDO\n",
      "convert Airtemp to float...\n",
      "failed to convert Airtemp\n",
      "convert Coliformbacteria to float...\n",
      "failed to convert Coliformbacteria\n",
      "convert Conductivity to float...\n",
      "failed to convert Conductivity\n",
      "convert DO to float...\n",
      "convert E.Colibacteria to float...\n",
      "failed to convert E.Colibacteria\n",
      "convert N,ammonia to float...\n",
      "failed to convert N,ammonia\n",
      "convert Nitrates-MR to float...\n",
      "convert Nitrites to float...\n",
      "convert PH to float...\n",
      "convert PO4,Reactive to float...\n",
      "convert Turbidity to float...\n",
      "convert Watertemp to float...\n",
      "failed to convert Watertemp\n",
      "float64\n",
      "DO,Nitrates-MR,Nitrites,PH,PO4,Reactive,Turbidity\n",
      "\n",
      "\n",
      "object\n",
      "%saturationDO,Airtemp,Coliformbacteria,Conductivity,E.Colibacteria,N,ammonia,Watertemp\n",
      "\n",
      "\n"
     ]
    },
    {
     "data": {
      "text/html": [
       "<div>\n",
       "<style scoped>\n",
       "    .dataframe tbody tr th:only-of-type {\n",
       "        vertical-align: middle;\n",
       "    }\n",
       "\n",
       "    .dataframe tbody tr th {\n",
       "        vertical-align: top;\n",
       "    }\n",
       "\n",
       "    .dataframe thead th {\n",
       "        text-align: right;\n",
       "    }\n",
       "</style>\n",
       "<table border=\"1\" class=\"dataframe\">\n",
       "  <thead>\n",
       "    <tr style=\"text-align: right;\">\n",
       "      <th></th>\n",
       "      <th>type</th>\n",
       "      <th>index</th>\n",
       "    </tr>\n",
       "  </thead>\n",
       "  <tbody>\n",
       "    <tr>\n",
       "      <th>0</th>\n",
       "      <td>float64</td>\n",
       "      <td>DO,Nitrates-MR,Nitrites,PH,PO4,Reactive,Turbidity</td>\n",
       "    </tr>\n",
       "    <tr>\n",
       "      <th>1</th>\n",
       "      <td>object</td>\n",
       "      <td>%saturationDO,Airtemp,Coliformbacteria,Conductivity,E.Colibacteria,N,ammonia,Watertemp</td>\n",
       "    </tr>\n",
       "  </tbody>\n",
       "</table>\n",
       "</div>"
      ],
      "text/plain": [
       "      type  \\\n",
       "0  float64   \n",
       "1   object   \n",
       "\n",
       "                                                                                    index  \n",
       "0                                       DO,Nitrates-MR,Nitrites,PH,PO4,Reactive,Turbidity  \n",
       "1  %saturationDO,Airtemp,Coliformbacteria,Conductivity,E.Colibacteria,N,ammonia,Watertemp  "
      ]
     },
     "execution_count": 12,
     "metadata": {},
     "output_type": "execute_result"
    }
   ],
   "source": [
    "# step2: convert string to numeric type\n",
    "# step2.1: force to convert string to numeric\n",
    "def force_convert_to_numberic(df):\n",
    "    failed_columns = []\n",
    "    for i in should_be_numeric:\n",
    "        try:\n",
    "            print(\"convert %s to float...\" %i)\n",
    "            df[i] =  df[i].astype('float64')\n",
    "            continue\n",
    "        except:\n",
    "            failed_columns.append(i)\n",
    "            print(\"failed to convert %s\" %i)\n",
    "\n",
    "    return df, failed_columns\n",
    "\n",
    "should_be_numeric = ['%saturationDO', 'Airtemp', 'Coliformbacteria', 'Conductivity', 'DO',\n",
    "                     'E.Colibacteria', 'N,ammonia', 'Nitrates-MR', 'Nitrites', 'PH',\n",
    "                     'PO4,Reactive', 'Turbidity', 'Watertemp']\n",
    "\n",
    "df_test, failed_columns = force_convert_to_numberic(df_test)\n",
    "# check dtypes\n",
    "print_dtypes(df_test[should_be_numeric])"
   ]
  },
  {
   "cell_type": "code",
   "execution_count": 13,
   "metadata": {
    "scrolled": false
   },
   "outputs": [
    {
     "name": "stdout",
     "output_type": "stream",
     "text": [
      "%saturationDO : [array([62.9, 99.4, 97.2, 101, 100.7, 'N/A', 98, 97.6], dtype=object)]\n",
      "Airtemp : [array(['N/A', 5.5, 13.8, 13.9, 4.4, 5], dtype=object)]\n",
      "Coliformbacteria : [array(['N/A'], dtype=object)]\n",
      "Conductivity : [array([32.3, 70, 61.6, 28.1, 31.6, 55.1, 31.8, 51.2, 40.1, 11.12, 41,\n",
      "       72.6, 38.8, '5.14ms'], dtype=object)]\n",
      "E.Colibacteria : [array(['N/A'], dtype=object)]\n",
      "N,ammonia : [array([0.07, 0.03, 0.04, 0.05, 0.08, '3 plus', 0.09, 0.06, 0.1, 0],\n",
      "      dtype=object)]\n",
      "Watertemp : [array([31.6, 5.8, 6, 5.5, 5.2, 4.2, 4.8, 9.3, 8.3, 7.5, 6.3, 5.1, 4.6,\n",
      "       '6.2-7.5', 5.6], dtype=object)]\n"
     ]
    },
    {
     "data": {
      "text/plain": [
       "%saturationDO       46.667\n",
       "Coliformbacteria    93.333\n",
       "DO                  20.000\n",
       "E.Colibacteria      93.333\n",
       "dtype: float64"
      ]
     },
     "execution_count": 13,
     "metadata": {},
     "output_type": "execute_result"
    }
   ],
   "source": [
    "# step2.2: dig more into these columns\n",
    "# step2.2.1: value counts \n",
    "value_counts_bycol(df_test[failed_columns], np.nan)\n",
    "# step2.2.1: missing ratio\n",
    "miss_ratio = missing_ratio(df_test)\n",
    "miss_ratio[miss_ratio>0]"
   ]
  },
  {
   "cell_type": "markdown",
   "metadata": {},
   "source": [
    "With these information:\n",
    "\n",
    "1. %saturationDO, Coliformbacteria, E.Colibacteria has 'N/A' and Nan value\n",
    "2. DO has Nan value\n",
    "3. Airtemp has 'N/A' value\n",
    "4. Conductivity, N,ammonia, Watertemp has weired cases\n",
    "\n",
    "\n",
    "Warn: we may have other weired cases, columns with N/A and Nan value, because currently they're a small part of the whole data.\n",
    "\n",
    "How to do:\n",
    "1. string replace (5.14ms->5.14, 3 plus->3, 6.2-7.5->mean())\n",
    "2. fillna: 0, mean or else?\n",
    "\n",
    "Right now:\n",
    "1. we choose to replace them with 0\n",
    "\n",
    "Future:\n",
    "1. mean, mode or a predicated value."
   ]
  },
  {
   "cell_type": "code",
   "execution_count": 14,
   "metadata": {},
   "outputs": [
    {
     "name": "stdout",
     "output_type": "stream",
     "text": [
      "float64\n",
      "%saturationDO,Airtemp,Coliformbacteria,DO,E.Colibacteria,Nitrates-MR,Nitrites,PH,PO4,Reactive,Turbidity\n",
      "\n",
      "\n",
      "object\n",
      "Conductivity,N,ammonia,Watertemp\n",
      "\n",
      "\n",
      "float64\n",
      "%saturationDO,Airtemp,Coliformbacteria,Conductivity,DO,E.Colibacteria,N,ammonia,Nitrates-MR,Nitrites,PH,PO4,Reactive,Turbidity,Watertemp\n",
      "\n",
      "\n"
     ]
    },
    {
     "data": {
      "text/html": [
       "<div>\n",
       "<style scoped>\n",
       "    .dataframe tbody tr th:only-of-type {\n",
       "        vertical-align: middle;\n",
       "    }\n",
       "\n",
       "    .dataframe tbody tr th {\n",
       "        vertical-align: top;\n",
       "    }\n",
       "\n",
       "    .dataframe thead th {\n",
       "        text-align: right;\n",
       "    }\n",
       "</style>\n",
       "<table border=\"1\" class=\"dataframe\">\n",
       "  <thead>\n",
       "    <tr style=\"text-align: right;\">\n",
       "      <th></th>\n",
       "      <th>type</th>\n",
       "      <th>index</th>\n",
       "    </tr>\n",
       "  </thead>\n",
       "  <tbody>\n",
       "    <tr>\n",
       "      <th>0</th>\n",
       "      <td>float64</td>\n",
       "      <td>%saturationDO,Airtemp,Coliformbacteria,Conductivity,DO,E.Colibacteria,N,ammonia,Nitrates-MR,Nitr...</td>\n",
       "    </tr>\n",
       "  </tbody>\n",
       "</table>\n",
       "</div>"
      ],
      "text/plain": [
       "      type  \\\n",
       "0  float64   \n",
       "\n",
       "                                                                                                 index  \n",
       "0  %saturationDO,Airtemp,Coliformbacteria,Conductivity,DO,E.Colibacteria,N,ammonia,Nitrates-MR,Nitr...  "
      ]
     },
     "execution_count": 14,
     "metadata": {},
     "output_type": "execute_result"
    }
   ],
   "source": [
    "# step2.2.3: take action\n",
    "# fill N/A and NAN with 0\n",
    "df_test = df_test.replace('N/A',0).fillna(0)\n",
    "# check dtypes\n",
    "print_dtypes(df_test[should_be_numeric])\n",
    "\n",
    "\n",
    "# str replace, fill na\n",
    "# 1. convert the below three columns to float type\n",
    "for i in ['Conductivity','N,ammonia','Watertemp']:\n",
    "    df_test[i] = df_test.apply(lambda x: re.findall(r\"([\\d|\\.]+)\\w*\", str(x[i])), axis=1)\n",
    "    df_test[i] = df_test.apply(lambda x: float(x[i][0]) if len(x[i])==1 else np.mean(list(map(float,x[i]))), axis=1)\n",
    "# check dtypes\n",
    "print_dtypes(df_test[should_be_numeric])"
   ]
  },
  {
   "cell_type": "code",
   "execution_count": 15,
   "metadata": {},
   "outputs": [],
   "source": [
    "# step3: check string columns\n",
    "string_columns = ['location', 'weather']"
   ]
  },
  {
   "cell_type": "code",
   "execution_count": 16,
   "metadata": {},
   "outputs": [
    {
     "name": "stdout",
     "output_type": "stream",
     "text": [
      "location\n",
      "['deer creek' 'horse creek' 'south fork' 'rv park' 'blue river'\n",
      " 'deer creek hs' 'elk creek' 'blur river bridge']\n",
      "\n",
      "\n",
      "weather\n",
      "['couldy/cold' 'openforecast' 'cloudy/raining' 'raining' 'sunny']\n",
      "\n",
      "\n"
     ]
    }
   ],
   "source": [
    "# check again\n",
    "for i in string_columns:\n",
    "    print(i)\n",
    "    print(pd.value_counts(df_test[i]).index.values)\n",
    "    print('\\n')"
   ]
  },
  {
   "cell_type": "markdown",
   "metadata": {},
   "source": [
    "<div class=\"alert alert-block alert-warning\">\n",
    "<b>Warn:</b>\n",
    "    1. dear creek vs deer creek hs same? \n",
    "    2. weather ? cloudy/raining vs raining\n",
    "</div>"
   ]
  },
  {
   "cell_type": "code",
   "execution_count": 17,
   "metadata": {},
   "outputs": [],
   "source": [
    "# check outliers"
   ]
  },
  {
   "cell_type": "code",
   "execution_count": 18,
   "metadata": {
    "scrolled": false
   },
   "outputs": [],
   "source": [
    "def check_outliers(df, col):  \n",
    "    plt.figure(figsize=(20,5))\n",
    "    sns.boxplot(x=df[col], color='grey')\n",
    "    plt.xlabel(col, fontsize=14)\n",
    "    plt.show()\n",
    "\n",
    "def cut_outliers_zscore(df, threshold = 3):  \n",
    "    df_num = df.select_dtypes(exclude=['object'])\n",
    "    print(df_num.shape)\n",
    "    df_zscore = df_num[(np.abs(stats.zscore(df_num))<threshold).all(axis=1)]\n",
    "    print(\"shape after rejecting outliers: %s\" %df_zscore.shape)\n",
    "    \n",
    "def check_zscore(df, columns):\n",
    "    from scipy import stats\n",
    "    for i in columns:\n",
    "        if True in list(np.abs(stats.zscore(df[i]))>3):\n",
    "            print(i, ':')\n",
    "            check_outliers(df, i)"
   ]
  },
  {
   "cell_type": "code",
   "execution_count": 19,
   "metadata": {},
   "outputs": [
    {
     "name": "stderr",
     "output_type": "stream",
     "text": [
      "/Users/businessanalytics/Library/Python/3.6/lib/python/site-packages/scipy/stats/stats.py:2281: RuntimeWarning: invalid value encountered in true_divide\n",
      "  return (a - mns) / sstd\n",
      "/Library/Frameworks/Python.framework/Versions/3.6/lib/python3.6/site-packages/ipykernel_launcher.py:16: RuntimeWarning: invalid value encountered in greater\n",
      "  app.launch_new_instance()\n"
     ]
    },
    {
     "name": "stdout",
     "output_type": "stream",
     "text": [
      "N,ammonia :\n"
     ]
    },
    {
     "data": {
      "image/png": "[encoded data removed]",
      "text/plain": [
       "<Figure size 1440x360 with 1 Axes>"
      ]
     },
     "metadata": {
      "needs_background": "light"
     },
     "output_type": "display_data"
    },
    {
     "name": "stdout",
     "output_type": "stream",
     "text": [
      "Watertemp :\n"
     ]
    },
    {
     "data": {
      "image/png": "[encoded data removed]",
      "text/plain": [
       "<Figure size 1440x360 with 1 Axes>"
      ]
     },
     "metadata": {
      "needs_background": "light"
     },
     "output_type": "display_data"
    }
   ],
   "source": [
    "check_zscore(df_test, should_be_numeric)"
   ]
  },
  {
   "cell_type": "code",
   "execution_count": 20,
   "metadata": {},
   "outputs": [
    {
     "data": {
      "text/plain": [
       "<matplotlib.axes._subplots.AxesSubplot at 0x12f82ef60>"
      ]
     },
     "execution_count": 20,
     "metadata": {},
     "output_type": "execute_result"
    },
    {
     "data": {
      "image/png": "[encoded data removed]",
      "text/plain": [
       "<Figure size 1440x360 with 1 Axes>"
      ]
     },
     "metadata": {
      "needs_background": "light"
     },
     "output_type": "display_data"
    }
   ],
   "source": [
    "# simple plot\n",
    "plt.figure(figsize=(20,5))\n",
    "sns.barplot(x='location',y='Turbidity',data=df_total)"
   ]
  }
 ],
 "metadata": {
  "kernelspec": {
   "display_name": "Python 3",
   "language": "python",
   "name": "python3"
  },
  "language_info": {
   "codemirror_mode": {
    "name": "ipython",
    "version": 3
   },
   "file_extension": ".py",
   "mimetype": "text/x-python",
   "name": "python",
   "nbconvert_exporter": "python",
   "pygments_lexer": "ipython3",
   "version": "3.6.8"
  }
 },
 "nbformat": 4,
 "nbformat_minor": 2
}
