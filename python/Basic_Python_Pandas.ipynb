{
 "cells": [
  {
   "cell_type": "code",
   "execution_count": 2,
   "metadata": {},
   "outputs": [],
   "source": [
    "import pandas as pd\n",
    "from collections import OrderedDict\n",
    "from datetime import datetime, date, timedelta"
   ]
  },
  {
   "cell_type": "code",
   "execution_count": 61,
   "metadata": {},
   "outputs": [
    {
     "name": "stdout",
     "output_type": "stream",
     "text": [
      "[('Jason', 2012, 4), ('Molly', 2012, 24), ('Tina', 2013, 31), ('Jake', 2014, 2), ('Amy', 2014, 3)]\n"
     ]
    }
   ],
   "source": [
    "# create df, insert data from a list by rows\n",
    "columns = ['name','year','reports']\n",
    "values_by_columns = [['Jason', 'Molly', 'Tina', 'Jake', 'Amy'],\n",
    "                     [2012, 2012, 2013, 2014, 2014], \n",
    "                     [4, 24, 31, 2, 3]]\n",
    "values_by_rows = list(zip(*values_by_columns)) #list of tuples -> row oriented\n",
    "print(values_by_rows)\n",
    "\n",
    "index = ['Cochice', 'Pima', 'Santa Cruz', 'Maricopa', 'Yuma']\n",
    "df = pd.DataFrame(data = values_by_rows, columns = columns, index = index)"
   ]
  },
  {
   "cell_type": "code",
   "execution_count": null,
   "metadata": {},
   "outputs": [],
   "source": [
    "# some data cleaning method\n",
    "import ast\n",
    "print(\n",
    "'''\n",
    "When to use it.\n",
    "ast.literal_eval(input()) would be useful if you expected a list (or something similar) by the user. \n",
    "For example '[1,2]' would be converted to [1,2].\n",
    "''')"
   ]
  },
  {
   "cell_type": "code",
   "execution_count": 21,
   "metadata": {},
   "outputs": [],
   "source": [
    "# index - > column\n",
    "df1 = df.reset_index(drop=False, inplace=False) #level=0\n",
    "df1 = df1.rename(columns={'index': 'lastname'})\n",
    "\n",
    "# column -> index\n",
    "df2 = df1.set_index('lastname', drop=True) # make lastname column into index also don't drop it\n",
    "df2 = df2.rename(columns={'index': 'lastname'})\n",
    "\n",
    "# drop index\n",
    "df3 = df.reset_index(drop=True, inplace=False)"
   ]
  },
  {
   "cell_type": "code",
   "execution_count": 62,
   "metadata": {},
   "outputs": [],
   "source": [
    "# insert a row by loc index\n",
    "df.loc['April'] = ['Wang', 2013, 5]\n",
    "\n",
    "# insert a row with pd.series\n",
    "# insert a row with dict if you don't awant to pass the index name\n",
    "row = pd.Series({'year':2013, 'name':'Zhu', 'reports':30}, name='Maggie')\n",
    "df = df.append(row)\n",
    "\n",
    "# # replace a row by iloc \n",
    "# df.iloc[2] = ['Test', 2014, 9]\n",
    "\n",
    "\n",
    "# insert a column by list\n",
    "df['age'] = [20, 31, 40, 31, 25, 11, 6]\n",
    "df['test'] = ['test']*df.shape[0]\n",
    "\n",
    "# insert a column by .insert()\n",
    "df.insert(0, 'dept', 'Data Analytics')"
   ]
  },
  {
   "cell_type": "code",
   "execution_count": 71,
   "metadata": {},
   "outputs": [
    {
     "name": "stdout",
     "output_type": "stream",
     "text": [
      "['dept', 'name', 'year', 'reports', 'age', 'test']\n",
      "['dept', 'name', 'year', 'reports', 'age', 'test']\n",
      "['name', 'age']\n"
     ]
    }
   ],
   "source": [
    "# get column names\n",
    "print(list(df))\n",
    "print(list(df.columns))\n",
    "pii = [col for col in list(df) if 'name' in col or 'age' in col]\n",
    "print(pii)"
   ]
  },
  {
   "cell_type": "code",
   "execution_count": 100,
   "metadata": {},
   "outputs": [
    {
     "data": {
      "text/html": [
       "<div>\n",
       "<style scoped>\n",
       "    .dataframe tbody tr th:only-of-type {\n",
       "        vertical-align: middle;\n",
       "    }\n",
       "\n",
       "    .dataframe tbody tr th {\n",
       "        vertical-align: top;\n",
       "    }\n",
       "\n",
       "    .dataframe thead th {\n",
       "        text-align: right;\n",
       "    }\n",
       "</style>\n",
       "<table border=\"1\" class=\"dataframe\">\n",
       "  <thead>\n",
       "    <tr style=\"text-align: right;\">\n",
       "      <th></th>\n",
       "      <th>year</th>\n",
       "      <th>number of people</th>\n",
       "    </tr>\n",
       "  </thead>\n",
       "  <tbody>\n",
       "    <tr>\n",
       "      <th>1</th>\n",
       "      <td>2013</td>\n",
       "      <td>3</td>\n",
       "    </tr>\n",
       "    <tr>\n",
       "      <th>0</th>\n",
       "      <td>2012</td>\n",
       "      <td>2</td>\n",
       "    </tr>\n",
       "    <tr>\n",
       "      <th>2</th>\n",
       "      <td>2014</td>\n",
       "      <td>2</td>\n",
       "    </tr>\n",
       "  </tbody>\n",
       "</table>\n",
       "</div>"
      ],
      "text/plain": [
       "   year  number of people\n",
       "1  2013                 3\n",
       "0  2012                 2\n",
       "2  2014                 2"
      ]
     },
     "execution_count": 100,
     "metadata": {},
     "output_type": "execute_result"
    }
   ],
   "source": [
    "# group by and sort\n",
    "df_agg_df = df.groupby(['year'])['name'].count().reset_index()\n",
    "df_agg_df.rename(columns={'name': 'number of people'}, inplace=True)\n",
    "df_agg_sort = df_agg_df.sort_values(['number of people', 'year'], ascending=[False, True])\n",
    "df_agg_sort"
   ]
  },
  {
   "cell_type": "code",
   "execution_count": 107,
   "metadata": {},
   "outputs": [
    {
     "data": {
      "text/html": [
       "<div>\n",
       "<style scoped>\n",
       "    .dataframe tbody tr th:only-of-type {\n",
       "        vertical-align: middle;\n",
       "    }\n",
       "\n",
       "    .dataframe tbody tr th {\n",
       "        vertical-align: top;\n",
       "    }\n",
       "\n",
       "    .dataframe thead th {\n",
       "        text-align: right;\n",
       "    }\n",
       "</style>\n",
       "<table border=\"1\" class=\"dataframe\">\n",
       "  <thead>\n",
       "    <tr style=\"text-align: right;\">\n",
       "      <th>name</th>\n",
       "      <th>Amy</th>\n",
       "      <th>Jake</th>\n",
       "      <th>Jason</th>\n",
       "      <th>Molly</th>\n",
       "      <th>Tina</th>\n",
       "      <th>Wang</th>\n",
       "      <th>Zhu</th>\n",
       "    </tr>\n",
       "    <tr>\n",
       "      <th>year</th>\n",
       "      <th></th>\n",
       "      <th></th>\n",
       "      <th></th>\n",
       "      <th></th>\n",
       "      <th></th>\n",
       "      <th></th>\n",
       "      <th></th>\n",
       "    </tr>\n",
       "  </thead>\n",
       "  <tbody>\n",
       "    <tr>\n",
       "      <th>2012</th>\n",
       "      <td>Nan</td>\n",
       "      <td>Nan</td>\n",
       "      <td>1</td>\n",
       "      <td>1</td>\n",
       "      <td>Nan</td>\n",
       "      <td>Nan</td>\n",
       "      <td>Nan</td>\n",
       "    </tr>\n",
       "    <tr>\n",
       "      <th>2013</th>\n",
       "      <td>Nan</td>\n",
       "      <td>Nan</td>\n",
       "      <td>Nan</td>\n",
       "      <td>Nan</td>\n",
       "      <td>1</td>\n",
       "      <td>1</td>\n",
       "      <td>1</td>\n",
       "    </tr>\n",
       "    <tr>\n",
       "      <th>2014</th>\n",
       "      <td>1</td>\n",
       "      <td>1</td>\n",
       "      <td>Nan</td>\n",
       "      <td>Nan</td>\n",
       "      <td>Nan</td>\n",
       "      <td>Nan</td>\n",
       "      <td>Nan</td>\n",
       "    </tr>\n",
       "  </tbody>\n",
       "</table>\n",
       "</div>"
      ],
      "text/plain": [
       "name  Amy Jake Jason Molly Tina Wang  Zhu\n",
       "year                                     \n",
       "2012  Nan  Nan     1     1  Nan  Nan  Nan\n",
       "2013  Nan  Nan   Nan   Nan    1    1    1\n",
       "2014    1    1   Nan   Nan  Nan  Nan  Nan"
      ]
     },
     "execution_count": 107,
     "metadata": {},
     "output_type": "execute_result"
    }
   ],
   "source": [
    "# group and unstack\n",
    "# unstack: Unstack switches the rows to columns to get the activity counts as features.\n",
    "df.groupby('year')['name'].value_counts().unstack().fillna('Nan')"
   ]
  },
  {
   "cell_type": "code",
   "execution_count": 74,
   "metadata": {},
   "outputs": [
    {
     "data": {
      "text/plain": [
       "dept       0\n",
       "name       0\n",
       "year       0\n",
       "reports    0\n",
       "age        0\n",
       "test       0\n",
       "dtype: int64"
      ]
     },
     "execution_count": 74,
     "metadata": {},
     "output_type": "execute_result"
    }
   ],
   "source": [
    "# null\n",
    "df.isnull().sum()"
   ]
  },
  {
   "cell_type": "code",
   "execution_count": 108,
   "metadata": {},
   "outputs": [
    {
     "data": {
      "text/html": [
       "<div>\n",
       "<style scoped>\n",
       "    .dataframe tbody tr th:only-of-type {\n",
       "        vertical-align: middle;\n",
       "    }\n",
       "\n",
       "    .dataframe tbody tr th {\n",
       "        vertical-align: top;\n",
       "    }\n",
       "\n",
       "    .dataframe thead th {\n",
       "        text-align: right;\n",
       "    }\n",
       "</style>\n",
       "<table border=\"1\" class=\"dataframe\">\n",
       "  <thead>\n",
       "    <tr style=\"text-align: right;\">\n",
       "      <th></th>\n",
       "      <th>dept</th>\n",
       "      <th>name</th>\n",
       "      <th>year</th>\n",
       "      <th>reports</th>\n",
       "      <th>age</th>\n",
       "      <th>test</th>\n",
       "    </tr>\n",
       "  </thead>\n",
       "  <tbody>\n",
       "    <tr>\n",
       "      <th>Cochice</th>\n",
       "      <td>Data Analytics</td>\n",
       "      <td>Jason</td>\n",
       "      <td>2012</td>\n",
       "      <td>4</td>\n",
       "      <td>20</td>\n",
       "      <td>test</td>\n",
       "    </tr>\n",
       "    <tr>\n",
       "      <th>Pima</th>\n",
       "      <td>Data Analytics</td>\n",
       "      <td>Molly</td>\n",
       "      <td>2012</td>\n",
       "      <td>24</td>\n",
       "      <td>31</td>\n",
       "      <td>test</td>\n",
       "    </tr>\n",
       "    <tr>\n",
       "      <th>Santa Cruz</th>\n",
       "      <td>Data Analytics</td>\n",
       "      <td>Tina</td>\n",
       "      <td>2013</td>\n",
       "      <td>31</td>\n",
       "      <td>40</td>\n",
       "      <td>test</td>\n",
       "    </tr>\n",
       "    <tr>\n",
       "      <th>Maricopa</th>\n",
       "      <td>Data Analytics</td>\n",
       "      <td>Jake</td>\n",
       "      <td>2014</td>\n",
       "      <td>2</td>\n",
       "      <td>31</td>\n",
       "      <td>test</td>\n",
       "    </tr>\n",
       "    <tr>\n",
       "      <th>Yuma</th>\n",
       "      <td>Data Analytics</td>\n",
       "      <td>Amy</td>\n",
       "      <td>2014</td>\n",
       "      <td>3</td>\n",
       "      <td>25</td>\n",
       "      <td>test</td>\n",
       "    </tr>\n",
       "    <tr>\n",
       "      <th>April</th>\n",
       "      <td>Data Analytics</td>\n",
       "      <td>Wang</td>\n",
       "      <td>2013</td>\n",
       "      <td>5</td>\n",
       "      <td>11</td>\n",
       "      <td>test</td>\n",
       "    </tr>\n",
       "    <tr>\n",
       "      <th>Maggie</th>\n",
       "      <td>Data Analytics</td>\n",
       "      <td>Zhu</td>\n",
       "      <td>2013</td>\n",
       "      <td>30</td>\n",
       "      <td>6</td>\n",
       "      <td>test</td>\n",
       "    </tr>\n",
       "  </tbody>\n",
       "</table>\n",
       "</div>"
      ],
      "text/plain": [
       "                      dept   name  year  reports  age  test\n",
       "Cochice     Data Analytics  Jason  2012        4   20  test\n",
       "Pima        Data Analytics  Molly  2012       24   31  test\n",
       "Santa Cruz  Data Analytics   Tina  2013       31   40  test\n",
       "Maricopa    Data Analytics   Jake  2014        2   31  test\n",
       "Yuma        Data Analytics    Amy  2014        3   25  test\n",
       "April       Data Analytics   Wang  2013        5   11  test\n",
       "Maggie      Data Analytics    Zhu  2013       30    6  test"
      ]
     },
     "execution_count": 108,
     "metadata": {},
     "output_type": "execute_result"
    }
   ],
   "source": [
    "df"
   ]
  },
  {
   "cell_type": "code",
   "execution_count": 109,
   "metadata": {},
   "outputs": [],
   "source": [
    "# duplicates -- return true or false\n",
    "duplicates = df.duplicated(subset=['age'])\n",
    "\n",
    "# drop duplicate rows\n",
    "df.drop_duplicates()\n",
    "# drop duplicaate and keep last one\n",
    "df.drop_duplicates(keep='last')\n",
    "# drop duplicate by a column name\n",
    "df.drop_duplicates(['name'], keep='last')"
   ]
  },
  {
   "cell_type": "code",
   "execution_count": 113,
   "metadata": {},
   "outputs": [],
   "source": [
    "bins = [0,10,20,30,40,50,60,70,80,90,100]\n",
    "df['bin'] = pd.cut(df.age, bins)"
   ]
  }
 ],
 "metadata": {
  "kernelspec": {
   "display_name": "Python 3",
   "language": "python",
   "name": "python3"
  },
  "language_info": {
   "codemirror_mode": {
    "name": "ipython",
    "version": 3
   },
   "file_extension": ".py",
   "mimetype": "text/x-python",
   "name": "python",
   "nbconvert_exporter": "python",
   "pygments_lexer": "ipython3",
   "version": "3.6.8"
  }
 },
 "nbformat": 4,
 "nbformat_minor": 2
}
