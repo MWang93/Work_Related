{
 "cells": [
  {
   "cell_type": "code",
   "execution_count": 4,
   "metadata": {},
   "outputs": [],
   "source": [
    "import pandas as pd\n",
    "import numpy as np\n",
    "import datetime as dt"
   ]
  },
  {
   "cell_type": "code",
   "execution_count": 5,
   "metadata": {},
   "outputs": [],
   "source": [
    "df = pd.DataFrame()\n",
    "df['date'] = pd.date_range(start = '2018-01-01',\n",
    "                           end = '2019-04-30')\n",
    "df['v1'] = np.random.randint(0, 100, df.shape[0])\n",
    "#df['v2'] = np.random.choice([1, 9, 20], df.shape[0])"
   ]
  },
  {
   "cell_type": "code",
   "execution_count": 6,
   "metadata": {},
   "outputs": [],
   "source": [
    "df1 = df.copy()"
   ]
  },
  {
   "cell_type": "code",
   "execution_count": 7,
   "metadata": {
    "scrolled": false
   },
   "outputs": [],
   "source": [
    "df1 = df1[df1['date']>'2018-09-30']\n",
    "\n",
    "df1['week_Mon'] = df1['date'] - pd.to_timedelta(df1['date'].dt.dayofweek, unit='d') \n",
    "df1['week_Mon2'] = pd.PeriodIndex(df1.date, freq='W').to_timestamp()\n",
    "df1['daysoffset'] = df1['date'].apply(lambda x: 0 if x.weekday()+1 == 7 else x.weekday()+1)\n",
    "df1['week_Sun'] = df1['date'] - pd.to_timedelta(df1['daysoffset'], unit='d') \n",
    "df1['week_Sun2'] = df1.apply(lambda x: x['date'] - dt.timedelta(days=x['daysoffset']), axis=1)\n",
    "\n",
    "df1['month'] = pd.PeriodIndex(df1.date, freq='M').to_timestamp() \n",
    "df1['month2'] = df1['date'].values.astype('datetime64[M]')\n",
    "df1['month3'] = df1['date'] - pd.to_timedelta(df1['date'].dt.day - 1, unit='d')\n",
    "\n",
    "df1['quarter'] = pd.PeriodIndex(df1.date, freq='Q')\n",
    "df1['quarter_start'] = pd.PeriodIndex(df1.date, freq='Q').to_timestamp()\n",
    "df1['quater_end'] = df1['quarter'].dt.end_time.dt.date\n",
    "\n",
    "df1['year1'] = pd.PeriodIndex(df1.date, freq='Y').to_timestamp() \n",
    "df1['year2'] = df1['date'].values.astype('datetime64[Y]')"
   ]
  },
  {
   "cell_type": "code",
   "execution_count": 8,
   "metadata": {
    "scrolled": true
   },
   "outputs": [
    {
     "data": {
      "text/html": [
       "<div>\n",
       "<style scoped>\n",
       "    .dataframe tbody tr th:only-of-type {\n",
       "        vertical-align: middle;\n",
       "    }\n",
       "\n",
       "    .dataframe tbody tr th {\n",
       "        vertical-align: top;\n",
       "    }\n",
       "\n",
       "    .dataframe thead th {\n",
       "        text-align: right;\n",
       "    }\n",
       "</style>\n",
       "<table border=\"1\" class=\"dataframe\">\n",
       "  <thead>\n",
       "    <tr style=\"text-align: right;\">\n",
       "      <th></th>\n",
       "      <th>date</th>\n",
       "      <th>v1</th>\n",
       "      <th>week_Mon</th>\n",
       "      <th>week_Mon2</th>\n",
       "      <th>daysoffset</th>\n",
       "      <th>week_Sun</th>\n",
       "      <th>week_Sun2</th>\n",
       "      <th>month</th>\n",
       "      <th>month2</th>\n",
       "      <th>month3</th>\n",
       "      <th>quarter</th>\n",
       "      <th>quarter_start</th>\n",
       "      <th>quater_end</th>\n",
       "      <th>year1</th>\n",
       "      <th>year2</th>\n",
       "    </tr>\n",
       "  </thead>\n",
       "  <tbody>\n",
       "    <tr>\n",
       "      <th>273</th>\n",
       "      <td>2018-10-01</td>\n",
       "      <td>33</td>\n",
       "      <td>2018-10-01</td>\n",
       "      <td>2018-10-01</td>\n",
       "      <td>1</td>\n",
       "      <td>2018-09-30</td>\n",
       "      <td>2018-09-30</td>\n",
       "      <td>2018-10-01</td>\n",
       "      <td>2018-10-01</td>\n",
       "      <td>2018-10-01</td>\n",
       "      <td>2018Q4</td>\n",
       "      <td>2018-10-01</td>\n",
       "      <td>2018-12-31</td>\n",
       "      <td>2018-01-01</td>\n",
       "      <td>2018-01-01</td>\n",
       "    </tr>\n",
       "    <tr>\n",
       "      <th>274</th>\n",
       "      <td>2018-10-02</td>\n",
       "      <td>12</td>\n",
       "      <td>2018-10-01</td>\n",
       "      <td>2018-10-01</td>\n",
       "      <td>2</td>\n",
       "      <td>2018-09-30</td>\n",
       "      <td>2018-09-30</td>\n",
       "      <td>2018-10-01</td>\n",
       "      <td>2018-10-01</td>\n",
       "      <td>2018-10-01</td>\n",
       "      <td>2018Q4</td>\n",
       "      <td>2018-10-01</td>\n",
       "      <td>2018-12-31</td>\n",
       "      <td>2018-01-01</td>\n",
       "      <td>2018-01-01</td>\n",
       "    </tr>\n",
       "    <tr>\n",
       "      <th>275</th>\n",
       "      <td>2018-10-03</td>\n",
       "      <td>12</td>\n",
       "      <td>2018-10-01</td>\n",
       "      <td>2018-10-01</td>\n",
       "      <td>3</td>\n",
       "      <td>2018-09-30</td>\n",
       "      <td>2018-09-30</td>\n",
       "      <td>2018-10-01</td>\n",
       "      <td>2018-10-01</td>\n",
       "      <td>2018-10-01</td>\n",
       "      <td>2018Q4</td>\n",
       "      <td>2018-10-01</td>\n",
       "      <td>2018-12-31</td>\n",
       "      <td>2018-01-01</td>\n",
       "      <td>2018-01-01</td>\n",
       "    </tr>\n",
       "    <tr>\n",
       "      <th>276</th>\n",
       "      <td>2018-10-04</td>\n",
       "      <td>58</td>\n",
       "      <td>2018-10-01</td>\n",
       "      <td>2018-10-01</td>\n",
       "      <td>4</td>\n",
       "      <td>2018-09-30</td>\n",
       "      <td>2018-09-30</td>\n",
       "      <td>2018-10-01</td>\n",
       "      <td>2018-10-01</td>\n",
       "      <td>2018-10-01</td>\n",
       "      <td>2018Q4</td>\n",
       "      <td>2018-10-01</td>\n",
       "      <td>2018-12-31</td>\n",
       "      <td>2018-01-01</td>\n",
       "      <td>2018-01-01</td>\n",
       "    </tr>\n",
       "    <tr>\n",
       "      <th>277</th>\n",
       "      <td>2018-10-05</td>\n",
       "      <td>14</td>\n",
       "      <td>2018-10-01</td>\n",
       "      <td>2018-10-01</td>\n",
       "      <td>5</td>\n",
       "      <td>2018-09-30</td>\n",
       "      <td>2018-09-30</td>\n",
       "      <td>2018-10-01</td>\n",
       "      <td>2018-10-01</td>\n",
       "      <td>2018-10-01</td>\n",
       "      <td>2018Q4</td>\n",
       "      <td>2018-10-01</td>\n",
       "      <td>2018-12-31</td>\n",
       "      <td>2018-01-01</td>\n",
       "      <td>2018-01-01</td>\n",
       "    </tr>\n",
       "  </tbody>\n",
       "</table>\n",
       "</div>"
      ],
      "text/plain": [
       "          date  v1   week_Mon  week_Mon2  daysoffset   week_Sun  week_Sun2  \\\n",
       "273 2018-10-01  33 2018-10-01 2018-10-01           1 2018-09-30 2018-09-30   \n",
       "274 2018-10-02  12 2018-10-01 2018-10-01           2 2018-09-30 2018-09-30   \n",
       "275 2018-10-03  12 2018-10-01 2018-10-01           3 2018-09-30 2018-09-30   \n",
       "276 2018-10-04  58 2018-10-01 2018-10-01           4 2018-09-30 2018-09-30   \n",
       "277 2018-10-05  14 2018-10-01 2018-10-01           5 2018-09-30 2018-09-30   \n",
       "\n",
       "         month     month2     month3 quarter quarter_start  quater_end  \\\n",
       "273 2018-10-01 2018-10-01 2018-10-01  2018Q4    2018-10-01  2018-12-31   \n",
       "274 2018-10-01 2018-10-01 2018-10-01  2018Q4    2018-10-01  2018-12-31   \n",
       "275 2018-10-01 2018-10-01 2018-10-01  2018Q4    2018-10-01  2018-12-31   \n",
       "276 2018-10-01 2018-10-01 2018-10-01  2018Q4    2018-10-01  2018-12-31   \n",
       "277 2018-10-01 2018-10-01 2018-10-01  2018Q4    2018-10-01  2018-12-31   \n",
       "\n",
       "         year1      year2  \n",
       "273 2018-01-01 2018-01-01  \n",
       "274 2018-01-01 2018-01-01  \n",
       "275 2018-01-01 2018-01-01  \n",
       "276 2018-01-01 2018-01-01  \n",
       "277 2018-01-01 2018-01-01  "
      ]
     },
     "execution_count": 8,
     "metadata": {},
     "output_type": "execute_result"
    }
   ],
   "source": [
    "df1.head(5)"
   ]
  },
  {
   "cell_type": "code",
   "execution_count": 9,
   "metadata": {},
   "outputs": [],
   "source": [
    "from calendar import monthrange\n",
    "\n",
    "month_year = []\n",
    "def month_year_iter(start_month, start_year, end_month, end_year):\n",
    "    ym_start= 12*start_year + start_month - 1\n",
    "    ym_end= 12*end_year + end_month - 1\n",
    "    for ym in range(ym_start, ym_end+1):\n",
    "        y, m = divmod(ym, 12)\n",
    "        last_day = monthrange(y, m+1)[1]\n",
    "        month_year.append([('%s-%s-01' %(y,m+1)), ('%s-%s-%s' %(y,m+1,last_day))])\n",
    "\n",
    "month_year_iter(1, 2019, 12, 2019)"
   ]
  },
  {
   "cell_type": "code",
   "execution_count": 11,
   "metadata": {},
   "outputs": [
    {
     "data": {
      "text/plain": [
       "[['2019-1-01', '2019-1-31'],\n",
       " ['2019-2-01', '2019-2-28'],\n",
       " ['2019-3-01', '2019-3-31'],\n",
       " ['2019-4-01', '2019-4-30'],\n",
       " ['2019-5-01', '2019-5-31'],\n",
       " ['2019-6-01', '2019-6-30'],\n",
       " ['2019-7-01', '2019-7-31'],\n",
       " ['2019-8-01', '2019-8-31'],\n",
       " ['2019-9-01', '2019-9-30'],\n",
       " ['2019-10-01', '2019-10-31'],\n",
       " ['2019-11-01', '2019-11-30'],\n",
       " ['2019-12-01', '2019-12-31']]"
      ]
     },
     "execution_count": 11,
     "metadata": {},
     "output_type": "execute_result"
    }
   ],
   "source": [
    "month_year"
   ]
  }
 ],
 "metadata": {
  "kernelspec": {
   "display_name": "Python 3",
   "language": "python",
   "name": "python3"
  },
  "language_info": {
   "codemirror_mode": {
    "name": "ipython",
    "version": 3
   },
   "file_extension": ".py",
   "mimetype": "text/x-python",
   "name": "python",
   "nbconvert_exporter": "python",
   "pygments_lexer": "ipython3",
   "version": "3.7.0"
  }
 },
 "nbformat": 4,
 "nbformat_minor": 2
}
