{
 "cells": [
  {
   "cell_type": "code",
   "execution_count": 1,
   "metadata": {},
   "outputs": [],
   "source": [
    "# https://towardsdatascience.com/pandas-series-a-lightweight-intro-b7963a0d62a2"
   ]
  },
  {
   "cell_type": "code",
   "execution_count": 2,
   "metadata": {},
   "outputs": [],
   "source": [
    "import pandas as pd\n",
    "import numpy as np"
   ]
  },
  {
   "cell_type": "code",
   "execution_count": 4,
   "metadata": {
    "scrolled": true
   },
   "outputs": [
    {
     "data": {
      "text/plain": [
       "0    1\n",
       "1    2\n",
       "2    3\n",
       "3    4\n",
       "4    5\n",
       "5    6\n",
       "dtype: int64"
      ]
     },
     "execution_count": 4,
     "metadata": {},
     "output_type": "execute_result"
    }
   ],
   "source": [
    "series_list = pd.Series([1,2,3,4,5,6])\n",
    "series_list"
   ]
  },
  {
   "cell_type": "code",
   "execution_count": 5,
   "metadata": {},
   "outputs": [
    {
     "data": {
      "text/plain": [
       "0    10\n",
       "1    20\n",
       "2    30\n",
       "3    40\n",
       "4    50\n",
       "5    60\n",
       "dtype: int64"
      ]
     },
     "execution_count": 5,
     "metadata": {},
     "output_type": "execute_result"
    }
   ],
   "source": [
    "series_np = pd.Series(np.array([10,20,30,40,50,60]))\n",
    "series_np"
   ]
  },
  {
   "cell_type": "code",
   "execution_count": 6,
   "metadata": {},
   "outputs": [
    {
     "data": {
      "text/plain": [
       "a    10\n",
       "b    20\n",
       "c    30\n",
       "d    40\n",
       "e    50\n",
       "f    60\n",
       "dtype: int64"
      ]
     },
     "execution_count": 6,
     "metadata": {},
     "output_type": "execute_result"
    }
   ],
   "source": [
    "series_index = pd.Series(\n",
    "    np.array([10,20,30,40,50,60]), \n",
    "    index=np.arange(0,12,2))\n",
    "series_index = pd.Series(\n",
    "    np.array([10,20,30,40,50,60]), \n",
    "    index=['a', 'b', 'c', 'd', 'e', 'f' ])\n",
    "series_index "
   ]
  },
  {
   "cell_type": "code",
   "execution_count": 7,
   "metadata": {},
   "outputs": [
    {
     "data": {
      "text/plain": [
       "a    1\n",
       "b    2\n",
       "c    3\n",
       "dtype: int64"
      ]
     },
     "execution_count": 7,
     "metadata": {},
     "output_type": "execute_result"
    }
   ],
   "source": [
    "t_dict = {'a' : 1, 'b': 2, 'c':3}\n",
    "# Creating a Series out of above dict\n",
    "series_dict = pd.Series(t_dict)\n",
    "series_dict"
   ]
  },
  {
   "cell_type": "code",
   "execution_count": 8,
   "metadata": {},
   "outputs": [
    {
     "data": {
      "text/plain": [
       "a      [1, 2, 3]\n",
       "b         [4, 5]\n",
       "c              6\n",
       "d    Hello World\n",
       "dtype: object"
      ]
     },
     "execution_count": 8,
     "metadata": {},
     "output_type": "execute_result"
    }
   ],
   "source": [
    "t_dict_of_list = {'a' : [1,2,3], 'b': [4,5], 'c':6, 'd': \"Hello World\"}\n",
    "# Creating a Series out of above dict\n",
    "series_dict_of_list = pd.Series(t_dict_of_list )\n",
    "series_dict_of_list"
   ]
  },
  {
   "cell_type": "code",
   "execution_count": 9,
   "metadata": {},
   "outputs": [
    {
     "name": "stdout",
     "output_type": "stream",
     "text": [
      "1,2,3,4,5,6,0,1,2,3,4,5,"
     ]
    }
   ],
   "source": [
    "for row_index in series_list:\n",
    "    print(row_index, end=',')\n",
    "\n",
    "for value in series_list.keys():\n",
    "    print(value, end=',')    "
   ]
  },
  {
   "cell_type": "code",
   "execution_count": 10,
   "metadata": {},
   "outputs": [
    {
     "data": {
      "text/plain": [
       "0    1\n",
       "1    2\n",
       "2    3\n",
       "3    4\n",
       "4    5\n",
       "5    6\n",
       "dtype: int64"
      ]
     },
     "execution_count": 10,
     "metadata": {},
     "output_type": "execute_result"
    }
   ],
   "source": [
    "series_list"
   ]
  },
  {
   "cell_type": "code",
   "execution_count": 29,
   "metadata": {},
   "outputs": [
    {
     "name": "stdout",
     "output_type": "stream",
     "text": [
      "3.5\n",
      "6\n",
      "[1 2 3 4 5 6]\n",
      "[1, 2, 3, 4, 5, 6]\n",
      "{0: 1, 1: 2, 2: 3, 3: 4, 4: 5, 5: 6}\n",
      "{0: 1, 1: 2, 2: 3, 3: 4, 4: 5, 5: 6}\n",
      "{0: [1], 1: [2], 2: [3], 3: [4], 4: [5], 5: [6]}\n"
     ]
    }
   ],
   "source": [
    "print(series_list.mean())\n",
    "print(series_list.size)\n",
    "print(series_list.unique())\n",
    "print(series_list.tolist())\n",
    "\n",
    "# converrt pd.series to dict\n",
    "print(series_list.to_dict())\n",
    "\n",
    "id_=series_list.index.values\n",
    "value=series_list.values\n",
    "mydict=dict(zip(id_,value))\n",
    "print(mydict)\n",
    "\n",
    "#not losing duplicate data\n",
    "pdict = dict()\n",
    "for i in series_list.index.unique().tolist():\n",
    "    ptest_slice = series_list[series_list.index == i]\n",
    "    pdict[i] = ptest_slice.values.tolist()\n",
    "print(pdict)"
   ]
  }
 ],
 "metadata": {
  "kernelspec": {
   "display_name": "Python 3",
   "language": "python",
   "name": "python3"
  },
  "language_info": {
   "codemirror_mode": {
    "name": "ipython",
    "version": 3
   },
   "file_extension": ".py",
   "mimetype": "text/x-python",
   "name": "python",
   "nbconvert_exporter": "python",
   "pygments_lexer": "ipython3",
   "version": "3.6.8"
  }
 },
 "nbformat": 4,
 "nbformat_minor": 2
}
