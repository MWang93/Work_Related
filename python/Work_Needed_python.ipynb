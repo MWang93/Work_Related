{
 "cells": [
  {
   "cell_type": "markdown",
   "metadata": {},
   "source": [
    "#### Time Count"
   ]
  },
  {
   "cell_type": "code",
   "execution_count": 178,
   "metadata": {},
   "outputs": [
    {
     "name": "stdout",
     "output_type": "stream",
     "text": [
      "done in 0.000 minutes.\n"
     ]
    }
   ],
   "source": [
    "from time import time\n",
    "t_start = time()\n",
    "print('done in %0.3f minutes.' % ((time() - t_start) / 60))"
   ]
  },
  {
   "cell_type": "markdown",
   "metadata": {},
   "source": [
    "#### Time Related"
   ]
  },
  {
   "cell_type": "code",
   "execution_count": 8,
   "metadata": {},
   "outputs": [
    {
     "name": "stdout",
     "output_type": "stream",
     "text": [
      "2019-01-08 2019-01-06\n",
      "2019-01-08 2019-01-06\n"
     ]
    }
   ],
   "source": [
    "date_format = \"%Y-%m-%d\"\n",
    "from datetime import datetime\n",
    "from datetime import timedelta\n",
    "from datetime import date\n",
    "\n",
    "now = date.today() #datetime.now()\n",
    "yesterday = now + timedelta(days=-2)\n",
    "print(now, yesterday.strftime(date_format))\n",
    "\n",
    "print(now, yesterday)"
   ]
  },
  {
   "cell_type": "code",
   "execution_count": 14,
   "metadata": {},
   "outputs": [
    {
     "name": "stdout",
     "output_type": "stream",
     "text": [
      "0   0 days\n",
      "1   2 days\n",
      "dtype: timedelta64[ns]\n"
     ]
    },
    {
     "data": {
      "text/plain": [
       "0    0\n",
       "1    2\n",
       "dtype: int64"
      ]
     },
     "execution_count": 14,
     "metadata": {},
     "output_type": "execute_result"
    }
   ],
   "source": [
    "# Calculate Difference (Method 1)\n",
    "# Calculate duration between features\n",
    "print(df['Left'] - df['Arrived'])\n",
    "\n",
    "# Calculate Difference (Method 2)\n",
    "# Calculate duration between features\n",
    "pd.Series(delta.days for delta in (df['Left'] - df['Arrived']))"
   ]
  },
  {
   "cell_type": "code",
   "execution_count": 19,
   "metadata": {},
   "outputs": [
    {
     "data": {
      "text/html": [
       "<div>\n",
       "<style scoped>\n",
       "    .dataframe tbody tr th:only-of-type {\n",
       "        vertical-align: middle;\n",
       "    }\n",
       "\n",
       "    .dataframe tbody tr th {\n",
       "        vertical-align: top;\n",
       "    }\n",
       "\n",
       "    .dataframe thead th {\n",
       "        text-align: right;\n",
       "    }\n",
       "</style>\n",
       "<table border=\"1\" class=\"dataframe\">\n",
       "  <thead>\n",
       "    <tr style=\"text-align: right;\">\n",
       "      <th></th>\n",
       "      <th>Arrived</th>\n",
       "      <th>Left</th>\n",
       "    </tr>\n",
       "  </thead>\n",
       "  <tbody>\n",
       "    <tr>\n",
       "      <th>0</th>\n",
       "      <td>2017-01-01</td>\n",
       "      <td>2017-01-01</td>\n",
       "    </tr>\n",
       "    <tr>\n",
       "      <th>1</th>\n",
       "      <td>2017-01-04</td>\n",
       "      <td>2017-01-06</td>\n",
       "    </tr>\n",
       "  </tbody>\n",
       "</table>\n",
       "</div>"
      ],
      "text/plain": [
       "     Arrived       Left\n",
       "0 2017-01-01 2017-01-01\n",
       "1 2017-01-04 2017-01-06"
      ]
     },
     "execution_count": 19,
     "metadata": {},
     "output_type": "execute_result"
    }
   ],
   "source": [
    "# Create data frame\n",
    "import pandas as pd\n",
    "df = pd.DataFrame()\n",
    "\n",
    "# Create two datetime features\n",
    "df['Arrived'] = [pd.Timestamp('01-01-2017'), pd.Timestamp('01-04-2017')]\n",
    "df['Left'] = [pd.Timestamp('01-01-2017'), pd.Timestamp('01-06-2017')]\n",
    "\n",
    "df"
   ]
  },
  {
   "cell_type": "code",
   "execution_count": 8,
   "metadata": {},
   "outputs": [
    {
     "data": {
      "text/html": [
       "<div>\n",
       "<style scoped>\n",
       "    .dataframe tbody tr th:only-of-type {\n",
       "        vertical-align: middle;\n",
       "    }\n",
       "\n",
       "    .dataframe tbody tr th {\n",
       "        vertical-align: top;\n",
       "    }\n",
       "\n",
       "    .dataframe thead th {\n",
       "        text-align: right;\n",
       "    }\n",
       "</style>\n",
       "<table border=\"1\" class=\"dataframe\">\n",
       "  <thead>\n",
       "    <tr style=\"text-align: right;\">\n",
       "      <th></th>\n",
       "      <th>Arrived</th>\n",
       "      <th>Left</th>\n",
       "    </tr>\n",
       "  </thead>\n",
       "  <tbody>\n",
       "    <tr>\n",
       "      <th>1</th>\n",
       "      <td>2017-01-04</td>\n",
       "      <td>2017-01-06</td>\n",
       "    </tr>\n",
       "  </tbody>\n",
       "</table>\n",
       "</div>"
      ],
      "text/plain": [
       "     Arrived       Left\n",
       "1 2017-01-04 2017-01-06"
      ]
     },
     "execution_count": 8,
     "metadata": {},
     "output_type": "execute_result"
    }
   ],
   "source": [
    "# Select Time Range (Method 1)\n",
    "df[df['Arrived']>'2017-01-03']\n",
    "\n",
    "\n",
    "# Select Time Range (Method 2)\n",
    "df = df.set_index(df['Left'])\n",
    "df.loc['2017-01-01':'2017-01-04']"
   ]
  },
  {
   "cell_type": "markdown",
   "metadata": {},
   "source": [
    "#### Time Loop"
   ]
  },
  {
   "cell_type": "code",
   "execution_count": 17,
   "metadata": {},
   "outputs": [
    {
     "name": "stdout",
     "output_type": "stream",
     "text": [
      "2018-08-25 00:00:00 ['2018', '08', '25']\n",
      "2018-08-26 00:00:00 ['2018', '08', '26']\n",
      "2018-08-27 00:00:00 ['2018', '08', '27']\n",
      "2018-08-28 00:00:00 ['2018', '08', '28']\n",
      "2018-08-29 00:00:00 ['2018', '08', '29']\n"
     ]
    }
   ],
   "source": [
    "from datetime import date\n",
    "from dateutil.rrule import rrule, DAILY\n",
    "a = date(2018, 8, 25)\n",
    "b = date(2018, 8, 29)\n",
    "for dt in rrule(DAILY, dtstart=a, until=b):\n",
    "    datelist = dt.strftime('%Y-%m-%d').split('-')\n",
    "    print(dt, datelist)"
   ]
  },
  {
   "cell_type": "markdown",
   "metadata": {},
   "source": [
    "#### List"
   ]
  },
  {
   "cell_type": "code",
   "execution_count": 149,
   "metadata": {},
   "outputs": [],
   "source": [
    "# append\n",
    "stack = ['a','b']\n",
    "stack.append(['e','f'])\n",
    "# extend\n",
    "stack.extend(['e','f'])"
   ]
  },
  {
   "cell_type": "code",
   "execution_count": 374,
   "metadata": {},
   "outputs": [],
   "source": [
    "# sort\n",
    "cars = ['Ford', 'BMW', 'Volvo']\n",
    "cars.sort(reverse=True)"
   ]
  },
  {
   "cell_type": "code",
   "execution_count": 375,
   "metadata": {},
   "outputs": [
    {
     "data": {
      "text/plain": [
       "['Volvo', 'Ford', 'BMW']"
      ]
     },
     "execution_count": 375,
     "metadata": {},
     "output_type": "execute_result"
    }
   ],
   "source": [
    "cars"
   ]
  },
  {
   "cell_type": "code",
   "execution_count": 377,
   "metadata": {},
   "outputs": [
    {
     "data": {
      "text/plain": [
       "['BMW', 'Ford', 'Volvo']"
      ]
     },
     "execution_count": 377,
     "metadata": {},
     "output_type": "execute_result"
    }
   ],
   "source": [
    "sorted(cars,reverse=False)"
   ]
  },
  {
   "cell_type": "code",
   "execution_count": 11,
   "metadata": {},
   "outputs": [
    {
     "name": "stdout",
     "output_type": "stream",
     "text": [
      "[1, 2, 3, 4, 5, 2, 3, 4, 5, 6]\n",
      "[3, 5, 7, 9, 11]\n"
     ]
    }
   ],
   "source": [
    "a = [1,2,3,4,5]\n",
    "b = [2,3,4,5,6]\n",
    "#concat two list\n",
    "print(a+b)\n",
    "#values added\n",
    "print([x+y for x, y in zip(a,b)])"
   ]
  },
  {
   "cell_type": "code",
   "execution_count": 15,
   "metadata": {},
   "outputs": [
    {
     "name": "stdout",
     "output_type": "stream",
     "text": [
      "{'Apple': 3, 'Banana': 1, 'Pear': 1, 'Pineapple': 1}\n",
      "{'Apple': 3, 'Banana': 1, 'Pear': 1, 'Pineapple': 2}\n",
      "[('Apple', 3), ('Pineapple', 2), ('Banana', 1)]\n"
     ]
    }
   ],
   "source": [
    "# Create Counts Of Items\n",
    "from collections import Counter\n",
    "# Create a counter of the fruits eaten today\n",
    "fruit_eaten = Counter(['Apple', 'Apple', 'Apple', 'Banana', 'Pear', 'Pineapple'])\n",
    "# View counter\n",
    "print(dict(fruit_eaten))\n",
    "# Update the count for 'Pineapple' (because you just ate an pineapple)\n",
    "fruit_eaten.update(['Pineapple'])\n",
    "# View the counter\n",
    "print(dict(fruit_eaten))\n",
    "# View the items with the top 3 counts\n",
    "print(fruit_eaten.most_common(3))"
   ]
  },
  {
   "cell_type": "markdown",
   "metadata": {},
   "source": [
    "#### Set"
   ]
  },
  {
   "cell_type": "code",
   "execution_count": 142,
   "metadata": {},
   "outputs": [
    {
     "data": {
      "text/plain": [
       "['BMW', 'Ford', 'Volvo']"
      ]
     },
     "execution_count": 142,
     "metadata": {},
     "output_type": "execute_result"
    }
   ],
   "source": [
    "# sort: there is no .sort() function for set, because set is a randomized order list essentiallyy\n",
    "cars = set(cars)\n",
    "sorted(cars)"
   ]
  },
  {
   "cell_type": "markdown",
   "metadata": {},
   "source": [
    "# DataFrame \n",
    "-  structure: https://chrisalbon.com/python/data_wrangling/pandas_data_structures/\n",
    "-  drop: https://chrisalbon.com/python/data_wrangling/pandas_dropping_column_and_rows/"
   ]
  },
  {
   "cell_type": "markdown",
   "metadata": {},
   "source": [
    "### Create DataFrame"
   ]
  },
  {
   "cell_type": "code",
   "execution_count": 91,
   "metadata": {},
   "outputs": [],
   "source": [
    "# create df, insert data from a lit\n",
    "import pandas as pd\n",
    "columns = ['name','year','reports']\n",
    "values_by_columns = [['Jason', 'Molly', 'Tina', 'Jake', 'Amy'],[2012, 2012, 2013, 2014, 2014], [4, 24, 31, 2, 3]]\n",
    "values_by_rows = list(zip(*values_by_columns))\n",
    "index = ['Cochice', 'Pima', 'Santa Cruz', 'Maricopa', 'Yuma']\n",
    "df = pd.DataFrame(columns = columns)\n",
    "\n",
    "\n",
    "for value in values_by_rows:\n",
    "    df.loc[len(df)] = value\n",
    "\n",
    "df.index = index"
   ]
  },
  {
   "cell_type": "code",
   "execution_count": 92,
   "metadata": {},
   "outputs": [
    {
     "data": {
      "text/html": [
       "<div>\n",
       "<style scoped>\n",
       "    .dataframe tbody tr th:only-of-type {\n",
       "        vertical-align: middle;\n",
       "    }\n",
       "\n",
       "    .dataframe tbody tr th {\n",
       "        vertical-align: top;\n",
       "    }\n",
       "\n",
       "    .dataframe thead th {\n",
       "        text-align: right;\n",
       "    }\n",
       "</style>\n",
       "<table border=\"1\" class=\"dataframe\">\n",
       "  <thead>\n",
       "    <tr style=\"text-align: right;\">\n",
       "      <th></th>\n",
       "      <th>name</th>\n",
       "      <th>year</th>\n",
       "      <th>reports</th>\n",
       "    </tr>\n",
       "  </thead>\n",
       "  <tbody>\n",
       "    <tr>\n",
       "      <th>Cochice</th>\n",
       "      <td>Jason</td>\n",
       "      <td>2012</td>\n",
       "      <td>4</td>\n",
       "    </tr>\n",
       "    <tr>\n",
       "      <th>Pima</th>\n",
       "      <td>Molly</td>\n",
       "      <td>2012</td>\n",
       "      <td>24</td>\n",
       "    </tr>\n",
       "    <tr>\n",
       "      <th>Santa Cruz</th>\n",
       "      <td>Tina</td>\n",
       "      <td>2013</td>\n",
       "      <td>31</td>\n",
       "    </tr>\n",
       "    <tr>\n",
       "      <th>Maricopa</th>\n",
       "      <td>Jake</td>\n",
       "      <td>2014</td>\n",
       "      <td>2</td>\n",
       "    </tr>\n",
       "    <tr>\n",
       "      <th>Yuma</th>\n",
       "      <td>Amy</td>\n",
       "      <td>2014</td>\n",
       "      <td>3</td>\n",
       "    </tr>\n",
       "  </tbody>\n",
       "</table>\n",
       "</div>"
      ],
      "text/plain": [
       "             name  year reports\n",
       "Cochice     Jason  2012       4\n",
       "Pima        Molly  2012      24\n",
       "Santa Cruz   Tina  2013      31\n",
       "Maricopa     Jake  2014       2\n",
       "Yuma          Amy  2014       3"
      ]
     },
     "execution_count": 92,
     "metadata": {},
     "output_type": "execute_result"
    }
   ],
   "source": [
    "df"
   ]
  },
  {
   "cell_type": "markdown",
   "metadata": {},
   "source": [
    "### Indexing, iteration"
   ]
  },
  {
   "cell_type": "markdown",
   "metadata": {},
   "source": [
    "#### Access a single value"
   ]
  },
  {
   "cell_type": "code",
   "execution_count": 93,
   "metadata": {},
   "outputs": [
    {
     "data": {
      "text/plain": [
       "2012"
      ]
     },
     "execution_count": 93,
     "metadata": {},
     "output_type": "execute_result"
    }
   ],
   "source": [
    "# get value in pd\n",
    "df.at['Pima', 'year']\n",
    "df.iat[1, 2]\n",
    "# get value within a Series\n",
    "df.loc['Pima'].at['year']\n",
    "df.loc['Pima'].iat[1]"
   ]
  },
  {
   "cell_type": "markdown",
   "metadata": {},
   "source": [
    "#### Access a group of rows and columns"
   ]
  },
  {
   "cell_type": "code",
   "execution_count": 94,
   "metadata": {},
   "outputs": [
    {
     "name": "stderr",
     "output_type": "stream",
     "text": [
      "/usr/local/lib/python3.6/site-packages/ipykernel_launcher.py:8: DeprecationWarning: \n",
      ".ix is deprecated. Please use\n",
      ".loc for label based indexing or\n",
      ".iloc for positional indexing\n",
      "\n",
      "See the documentation here:\n",
      "http://pandas.pydata.org/pandas-docs/stable/indexing.html#ix-indexer-is-deprecated\n",
      "  \n",
      "/usr/local/lib/python3.6/site-packages/ipykernel_launcher.py:11: DeprecationWarning: \n",
      ".ix is deprecated. Please use\n",
      ".loc for label based indexing or\n",
      ".iloc for positional indexing\n",
      "\n",
      "See the documentation here:\n",
      "http://pandas.pydata.org/pandas-docs/stable/indexing.html#ix-indexer-is-deprecated\n",
      "  # This is added back by InteractiveShellApp.init_path()\n"
     ]
    },
    {
     "data": {
      "text/plain": [
       "'Jake'"
      ]
     },
     "execution_count": 94,
     "metadata": {},
     "output_type": "execute_result"
    }
   ],
   "source": [
    "# filter multiple rows and columns by index\n",
    "df.iloc[0:2,[1,2]]\n",
    "# filter multiple rows and columns by name \n",
    "df.loc[['Pima','Yuma'],['name','year']] \n",
    "\n",
    "\n",
    "# .ix[] is used to index a dataframe by both name and position\n",
    "df.ix[0:2,['name','year']] \n",
    "# view a value - View the value based on row and column\n",
    "df.ix[3,'name']\n",
    "df.name.ix[3] #You can also select the column first with dot notation, then the row index, which looks a little cleaner."
   ]
  },
  {
   "cell_type": "markdown",
   "metadata": {},
   "source": [
    "####  Insert rows "
   ]
  },
  {
   "cell_type": "code",
   "execution_count": 95,
   "metadata": {},
   "outputs": [],
   "source": [
    "# insert a row by index\n",
    "df.loc['April'] = ['Wang',2013,5]\n",
    "\n",
    "# insert a row by append function\n",
    "row = pd.Series({'year':2013,'name':'Zhu','reports':30},name='Maggie')\n",
    "df = df.append(row)"
   ]
  },
  {
   "cell_type": "markdown",
   "metadata": {},
   "source": [
    "#### Add new columns"
   ]
  },
  {
   "cell_type": "code",
   "execution_count": 96,
   "metadata": {},
   "outputs": [],
   "source": [
    "# add new column (list)\n",
    "df['age'] = [20,31,40,31,25,11,6]\n",
    "\n",
    "# add a new column by insert function\n",
    "df.insert(0, 'dept', 'Data Analytics')"
   ]
  },
  {
   "cell_type": "code",
   "execution_count": null,
   "metadata": {},
   "outputs": [],
   "source": [
    "# Row Bind\n",
    "pd.concat([df1,df2])\n",
    "df1.append(df2) # make sure the structure and column names are same\n",
    "\n",
    "# Column Bind\n",
    "pd.concat([df1, df2], axis=1, ignore_index=True)"
   ]
  },
  {
   "cell_type": "markdown",
   "metadata": {},
   "source": [
    "#### Iterate DF"
   ]
  },
  {
   "cell_type": "code",
   "execution_count": 98,
   "metadata": {},
   "outputs": [
    {
     "data": {
      "text/html": [
       "<div>\n",
       "<style scoped>\n",
       "    .dataframe tbody tr th:only-of-type {\n",
       "        vertical-align: middle;\n",
       "    }\n",
       "\n",
       "    .dataframe tbody tr th {\n",
       "        vertical-align: top;\n",
       "    }\n",
       "\n",
       "    .dataframe thead th {\n",
       "        text-align: right;\n",
       "    }\n",
       "</style>\n",
       "<table border=\"1\" class=\"dataframe\">\n",
       "  <thead>\n",
       "    <tr style=\"text-align: right;\">\n",
       "      <th></th>\n",
       "      <th>dept</th>\n",
       "      <th>name</th>\n",
       "      <th>year</th>\n",
       "      <th>reports</th>\n",
       "      <th>age</th>\n",
       "    </tr>\n",
       "  </thead>\n",
       "  <tbody>\n",
       "    <tr>\n",
       "      <th>Cochice</th>\n",
       "      <td>Data Analytics</td>\n",
       "      <td>Jason</td>\n",
       "      <td>2012</td>\n",
       "      <td>4</td>\n",
       "      <td>20</td>\n",
       "    </tr>\n",
       "    <tr>\n",
       "      <th>Pima</th>\n",
       "      <td>Data Analytics</td>\n",
       "      <td>Molly</td>\n",
       "      <td>2012</td>\n",
       "      <td>24</td>\n",
       "      <td>31</td>\n",
       "    </tr>\n",
       "    <tr>\n",
       "      <th>Santa Cruz</th>\n",
       "      <td>Data Analytics</td>\n",
       "      <td>Tina</td>\n",
       "      <td>2013</td>\n",
       "      <td>31</td>\n",
       "      <td>40</td>\n",
       "    </tr>\n",
       "    <tr>\n",
       "      <th>Maricopa</th>\n",
       "      <td>Data Analytics</td>\n",
       "      <td>Jake</td>\n",
       "      <td>2014</td>\n",
       "      <td>2</td>\n",
       "      <td>31</td>\n",
       "    </tr>\n",
       "    <tr>\n",
       "      <th>Yuma</th>\n",
       "      <td>Data Analytics</td>\n",
       "      <td>Amy</td>\n",
       "      <td>2014</td>\n",
       "      <td>3</td>\n",
       "      <td>25</td>\n",
       "    </tr>\n",
       "    <tr>\n",
       "      <th>April</th>\n",
       "      <td>Data Analytics</td>\n",
       "      <td>Wang</td>\n",
       "      <td>2013</td>\n",
       "      <td>5</td>\n",
       "      <td>11</td>\n",
       "    </tr>\n",
       "    <tr>\n",
       "      <th>Maggie</th>\n",
       "      <td>Data Analytics</td>\n",
       "      <td>Zhu</td>\n",
       "      <td>2013</td>\n",
       "      <td>30</td>\n",
       "      <td>6</td>\n",
       "    </tr>\n",
       "  </tbody>\n",
       "</table>\n",
       "</div>"
      ],
      "text/plain": [
       "                      dept   name  year reports  age\n",
       "Cochice     Data Analytics  Jason  2012       4   20\n",
       "Pima        Data Analytics  Molly  2012      24   31\n",
       "Santa Cruz  Data Analytics   Tina  2013      31   40\n",
       "Maricopa    Data Analytics   Jake  2014       2   31\n",
       "Yuma        Data Analytics    Amy  2014       3   25\n",
       "April       Data Analytics   Wang  2013       5   11\n",
       "Maggie      Data Analytics    Zhu  2013      30    6"
      ]
     },
     "execution_count": 98,
     "metadata": {},
     "output_type": "execute_result"
    }
   ],
   "source": [
    "df"
   ]
  },
  {
   "cell_type": "code",
   "execution_count": null,
   "metadata": {},
   "outputs": [],
   "source": [
    "for row in df.items(): # ??\n",
    "    print(row,'\\n')\n",
    "print('\\n\\n')\n",
    "for key in df.keys(): # columns\n",
    "    print(key)"
   ]
  },
  {
   "cell_type": "code",
   "execution_count": null,
   "metadata": {},
   "outputs": [],
   "source": [
    "# 1. iterate over DataFrame rows as namedtuples, with index value as first element of the tuple.\n",
    "for row in df.itertuples(): \n",
    "    print(row)\n",
    "print('\\n')\n",
    "\n",
    "# 2. iterate over DataFrame rows as (index, Series) pairs.\n",
    "for index, row in df.iterrows():\n",
    "    print(index)\n",
    "    print(row)\n",
    "    #print(index, row.A, row.B)\n",
    "print('\\n')\n",
    "\n",
    "# 3. iterator over (column name, Series) pairs.\n",
    "for index, column in df.iteritems():\n",
    "    print(index)\n",
    "    print(column)"
   ]
  },
  {
   "cell_type": "code",
   "execution_count": null,
   "metadata": {},
   "outputs": [],
   "source": [
    "df = pd.DataFrame({'A': [1, 2, 3], 'B': ['a', 'b', 'f']})\n",
    "df[df.isin([1, 3, 12, 'a'])]"
   ]
  },
  {
   "cell_type": "code",
   "execution_count": null,
   "metadata": {},
   "outputs": [],
   "source": [
    "# where\n",
    "df_where = pd.DataFrame(np.arange(10).reshape(-1, 2), columns=['A', 'B'])\n",
    "m = df_where % 3 == 0\n",
    "\n",
    "df_where.where(m, -df_where)"
   ]
  },
  {
   "cell_type": "code",
   "execution_count": null,
   "metadata": {},
   "outputs": [],
   "source": [
    "# query: query the columns of a frame with a boolean expression.\n",
    "from numpy.random import randn\n",
    "from pandas import DataFrame\n",
    "df = DataFrame(randn(10, 2), columns=list('ab'))\n",
    "df.query('a > b') # equal to df[df.a > df.b]"
   ]
  },
  {
   "cell_type": "code",
   "execution_count": 32,
   "metadata": {},
   "outputs": [
    {
     "data": {
      "text/html": [
       "<div>\n",
       "<style scoped>\n",
       "    .dataframe tbody tr th:only-of-type {\n",
       "        vertical-align: middle;\n",
       "    }\n",
       "\n",
       "    .dataframe tbody tr th {\n",
       "        vertical-align: top;\n",
       "    }\n",
       "\n",
       "    .dataframe thead th {\n",
       "        text-align: right;\n",
       "    }\n",
       "</style>\n",
       "<table border=\"1\" class=\"dataframe\">\n",
       "  <thead>\n",
       "    <tr style=\"text-align: right;\">\n",
       "      <th></th>\n",
       "      <th>dept</th>\n",
       "      <th>name</th>\n",
       "      <th>year</th>\n",
       "      <th>reports</th>\n",
       "      <th>age</th>\n",
       "    </tr>\n",
       "  </thead>\n",
       "  <tbody>\n",
       "    <tr>\n",
       "      <th>Cochice</th>\n",
       "      <td>Data Analytics</td>\n",
       "      <td>Jason</td>\n",
       "      <td>2012</td>\n",
       "      <td>4</td>\n",
       "      <td>20</td>\n",
       "    </tr>\n",
       "    <tr>\n",
       "      <th>Pima</th>\n",
       "      <td>Data Analytics</td>\n",
       "      <td>Molly</td>\n",
       "      <td>2012</td>\n",
       "      <td>24</td>\n",
       "      <td>31</td>\n",
       "    </tr>\n",
       "    <tr>\n",
       "      <th>Santa Cruz</th>\n",
       "      <td>Data Analytics</td>\n",
       "      <td>Tina</td>\n",
       "      <td>2013</td>\n",
       "      <td>31</td>\n",
       "      <td>40</td>\n",
       "    </tr>\n",
       "    <tr>\n",
       "      <th>Maricopa</th>\n",
       "      <td>Data Analytics</td>\n",
       "      <td>Jake</td>\n",
       "      <td>2014</td>\n",
       "      <td>2</td>\n",
       "      <td>31</td>\n",
       "    </tr>\n",
       "    <tr>\n",
       "      <th>Yuma</th>\n",
       "      <td>Data Analytics</td>\n",
       "      <td>Amy</td>\n",
       "      <td>2014</td>\n",
       "      <td>3</td>\n",
       "      <td>25</td>\n",
       "    </tr>\n",
       "    <tr>\n",
       "      <th>April</th>\n",
       "      <td>Data Analytics</td>\n",
       "      <td>Wang</td>\n",
       "      <td>2013</td>\n",
       "      <td>5</td>\n",
       "      <td>11</td>\n",
       "    </tr>\n",
       "    <tr>\n",
       "      <th>Maggie</th>\n",
       "      <td>Data Analytics</td>\n",
       "      <td>Zhu</td>\n",
       "      <td>2013</td>\n",
       "      <td>30</td>\n",
       "      <td>6</td>\n",
       "    </tr>\n",
       "  </tbody>\n",
       "</table>\n",
       "</div>"
      ],
      "text/plain": [
       "                      dept   name  year reports  age\n",
       "Cochice     Data Analytics  Jason  2012       4   20\n",
       "Pima        Data Analytics  Molly  2012      24   31\n",
       "Santa Cruz  Data Analytics   Tina  2013      31   40\n",
       "Maricopa    Data Analytics   Jake  2014       2   31\n",
       "Yuma        Data Analytics    Amy  2014       3   25\n",
       "April       Data Analytics   Wang  2013       5   11\n",
       "Maggie      Data Analytics    Zhu  2013      30    6"
      ]
     },
     "execution_count": 32,
     "metadata": {},
     "output_type": "execute_result"
    }
   ],
   "source": [
    "# find duplicate - not good ... only the second one will be selected as duplicates\n",
    "duplicates = df.duplicated(subset=['age'])\n",
    "\n",
    "\n",
    "# drop duplicate rows\n",
    "df.drop_duplicates()\n",
    "# drop duplicaate and keep last one\n",
    "df.drop_duplicates(keep='last')\n",
    "# drop duplicate by a column name\n",
    "df.drop_duplicates(['name'], keep='last')"
   ]
  },
  {
   "cell_type": "code",
   "execution_count": null,
   "metadata": {},
   "outputs": [],
   "source": [
    "# Find Nans in pd\n",
    "# List the NaN count for each column:\n",
    "df.isnull().sum()\n",
    "# Count the total number of NaNs present\n",
    "df.isnull().sum().sum()"
   ]
  },
  {
   "cell_type": "code",
   "execution_count": 34,
   "metadata": {},
   "outputs": [],
   "source": [
    "# set value base conditions\n",
    "import numpy as np\n",
    "df['performance'] = 'Not Bad'\n",
    "df.loc[df['reports'] >= 30, 'performance'] = 'Awesome!'\n",
    "\n",
    "# second method\n",
    "df['performance'] = np.where(df['reports']>=30, 'Awesome!', 'Not Bad')"
   ]
  },
  {
   "cell_type": "code",
   "execution_count": 36,
   "metadata": {},
   "outputs": [
    {
     "name": "stdout",
     "output_type": "stream",
     "text": [
      "index: Cochice | name: Jason | year: 2012\n",
      "index: Pima | name: Molly | year: 2012\n",
      "index: Santa Cruz | name: Tina | year: 2013\n",
      "index: Maricopa | name: Jake | year: 2014\n",
      "index: Yuma | name: Amy | year: 2014\n",
      "index: April | name: Wang | year: 2013\n",
      "index: Maggie | name: Zhu | year: 2013\n"
     ]
    }
   ],
   "source": [
    "# iterate rows and get valeus of a,b column\n",
    "for index, row in df.iterrows():\n",
    "    print(\"index: %s | name: %s | year: %s\" %(index, row['name'],row['year']))"
   ]
  },
  {
   "cell_type": "code",
   "execution_count": 37,
   "metadata": {},
   "outputs": [],
   "source": [
    "# group \n",
    "df_agg = df.groupby(['year'])['name'].count() # pd series \n",
    "df_agg_df = df.groupby(['year'])['name'].count().reset_index() # data frame"
   ]
  },
  {
   "cell_type": "code",
   "execution_count": 12,
   "metadata": {
    "scrolled": true
   },
   "outputs": [
    {
     "data": {
      "text/html": [
       "<div>\n",
       "<style scoped>\n",
       "    .dataframe tbody tr th:only-of-type {\n",
       "        vertical-align: middle;\n",
       "    }\n",
       "\n",
       "    .dataframe tbody tr th {\n",
       "        vertical-align: top;\n",
       "    }\n",
       "\n",
       "    .dataframe thead th {\n",
       "        text-align: right;\n",
       "    }\n",
       "</style>\n",
       "<table border=\"1\" class=\"dataframe\">\n",
       "  <thead>\n",
       "    <tr style=\"text-align: right;\">\n",
       "      <th></th>\n",
       "      <th>dept</th>\n",
       "      <th>name</th>\n",
       "      <th>year</th>\n",
       "      <th>reports</th>\n",
       "      <th>age</th>\n",
       "    </tr>\n",
       "  </thead>\n",
       "  <tbody>\n",
       "    <tr>\n",
       "      <th>Cochice</th>\n",
       "      <td>Data Analytics</td>\n",
       "      <td>Jason</td>\n",
       "      <td>2012</td>\n",
       "      <td>4</td>\n",
       "      <td>20</td>\n",
       "    </tr>\n",
       "    <tr>\n",
       "      <th>Pima</th>\n",
       "      <td>Data Analytics</td>\n",
       "      <td>Molly</td>\n",
       "      <td>2012</td>\n",
       "      <td>24</td>\n",
       "      <td>31</td>\n",
       "    </tr>\n",
       "    <tr>\n",
       "      <th>Santa Cruz</th>\n",
       "      <td>Data Analytics</td>\n",
       "      <td>Tina</td>\n",
       "      <td>2013</td>\n",
       "      <td>31</td>\n",
       "      <td>40</td>\n",
       "    </tr>\n",
       "    <tr>\n",
       "      <th>Maricopa</th>\n",
       "      <td>Data Analytics</td>\n",
       "      <td>Jake</td>\n",
       "      <td>2014</td>\n",
       "      <td>2</td>\n",
       "      <td>31</td>\n",
       "    </tr>\n",
       "    <tr>\n",
       "      <th>Yuma</th>\n",
       "      <td>Data Analytics</td>\n",
       "      <td>Amy</td>\n",
       "      <td>2014</td>\n",
       "      <td>3</td>\n",
       "      <td>25</td>\n",
       "    </tr>\n",
       "    <tr>\n",
       "      <th>April</th>\n",
       "      <td>Data Analytics</td>\n",
       "      <td>Wang</td>\n",
       "      <td>2013</td>\n",
       "      <td>5</td>\n",
       "      <td>11</td>\n",
       "    </tr>\n",
       "    <tr>\n",
       "      <th>Maggie</th>\n",
       "      <td>Data Analytics</td>\n",
       "      <td>Zhu</td>\n",
       "      <td>2013</td>\n",
       "      <td>30</td>\n",
       "      <td>6</td>\n",
       "    </tr>\n",
       "  </tbody>\n",
       "</table>\n",
       "</div>"
      ],
      "text/plain": [
       "                      dept   name  year reports  age\n",
       "Cochice     Data Analytics  Jason  2012       4   20\n",
       "Pima        Data Analytics  Molly  2012      24   31\n",
       "Santa Cruz  Data Analytics   Tina  2013      31   40\n",
       "Maricopa    Data Analytics   Jake  2014       2   31\n",
       "Yuma        Data Analytics    Amy  2014       3   25\n",
       "April       Data Analytics   Wang  2013       5   11\n",
       "Maggie      Data Analytics    Zhu  2013      30    6"
      ]
     },
     "execution_count": 12,
     "metadata": {},
     "output_type": "execute_result"
    }
   ],
   "source": [
    "df"
   ]
  },
  {
   "cell_type": "code",
   "execution_count": 173,
   "metadata": {},
   "outputs": [
    {
     "name": "stdout",
     "output_type": "stream",
     "text": [
      "['name', 'year', 'reports', 'age', 'performance']\n",
      "['name', 'year', 'reports', 'age', 'performance']\n"
     ]
    }
   ],
   "source": [
    "# get column names\n",
    "# 1. use .columns.values\n",
    "print(list(df.columns.values))\n",
    "# 2. list df directly\n",
    "print(list(df))"
   ]
  },
  {
   "cell_type": "code",
   "execution_count": 176,
   "metadata": {},
   "outputs": [],
   "source": [
    "# rank \n",
    "df['reports_ranked']=df['reports'].rank(ascending=1,method='dense')"
   ]
  },
  {
   "cell_type": "code",
   "execution_count": 95,
   "metadata": {},
   "outputs": [
    {
     "data": {
      "text/html": [
       "<div>\n",
       "<style scoped>\n",
       "    .dataframe tbody tr th:only-of-type {\n",
       "        vertical-align: middle;\n",
       "    }\n",
       "\n",
       "    .dataframe tbody tr th {\n",
       "        vertical-align: top;\n",
       "    }\n",
       "\n",
       "    .dataframe thead th {\n",
       "        text-align: right;\n",
       "    }\n",
       "</style>\n",
       "<table border=\"1\" class=\"dataframe\">\n",
       "  <thead>\n",
       "    <tr style=\"text-align: right;\">\n",
       "      <th></th>\n",
       "      <th>year</th>\n",
       "      <th>name</th>\n",
       "      <th>reports</th>\n",
       "    </tr>\n",
       "  </thead>\n",
       "  <tbody>\n",
       "    <tr>\n",
       "      <th>1</th>\n",
       "      <td>2012</td>\n",
       "      <td>Molly</td>\n",
       "      <td>24</td>\n",
       "    </tr>\n",
       "    <tr>\n",
       "      <th>2</th>\n",
       "      <td>2013</td>\n",
       "      <td>Tina</td>\n",
       "      <td>31</td>\n",
       "    </tr>\n",
       "    <tr>\n",
       "      <th>5</th>\n",
       "      <td>2014</td>\n",
       "      <td>Amy</td>\n",
       "      <td>3</td>\n",
       "    </tr>\n",
       "  </tbody>\n",
       "</table>\n",
       "</div>"
      ],
      "text/plain": [
       "   year   name  reports\n",
       "1  2012  Molly       24\n",
       "2  2013   Tina       31\n",
       "5  2014    Amy        3"
      ]
     },
     "execution_count": 95,
     "metadata": {},
     "output_type": "execute_result"
    }
   ],
   "source": [
    "# group + sort + top n = the most reports in each year, like in year 2012, Molly has the most report: 24\n",
    "df_agg = df.groupby(['year','name'])['reports'].sum().reset_index()\n",
    "df_agg_sort = df_agg.sort_values(['year','reports'],ascending=[True,False])\n",
    "df_agg_sort.groupby('year').head(1)"
   ]
  },
  {
   "cell_type": "code",
   "execution_count": 96,
   "metadata": {
    "scrolled": true
   },
   "outputs": [
    {
     "data": {
      "text/plain": [
       "year  name \n",
       "2012  Jason    1\n",
       "      Molly    1\n",
       "2013  Tina     1\n",
       "      Wang     1\n",
       "      Zhu      1\n",
       "2014  Amy      1\n",
       "      Jake     1\n",
       "Name: name, dtype: int64"
      ]
     },
     "execution_count": 96,
     "metadata": {},
     "output_type": "execute_result"
    }
   ],
   "source": [
    "# group + value counts\n",
    "df.groupby('year')['name'].value_counts() # pd series"
   ]
  },
  {
   "cell_type": "code",
   "execution_count": 97,
   "metadata": {},
   "outputs": [
    {
     "data": {
      "text/html": [
       "<div>\n",
       "<style scoped>\n",
       "    .dataframe tbody tr th:only-of-type {\n",
       "        vertical-align: middle;\n",
       "    }\n",
       "\n",
       "    .dataframe tbody tr th {\n",
       "        vertical-align: top;\n",
       "    }\n",
       "\n",
       "    .dataframe thead th {\n",
       "        text-align: right;\n",
       "    }\n",
       "</style>\n",
       "<table border=\"1\" class=\"dataframe\">\n",
       "  <thead>\n",
       "    <tr style=\"text-align: right;\">\n",
       "      <th>name</th>\n",
       "      <th>Amy</th>\n",
       "      <th>Jake</th>\n",
       "      <th>Jason</th>\n",
       "      <th>Molly</th>\n",
       "      <th>Tina</th>\n",
       "      <th>Wang</th>\n",
       "      <th>Zhu</th>\n",
       "    </tr>\n",
       "    <tr>\n",
       "      <th>year</th>\n",
       "      <th></th>\n",
       "      <th></th>\n",
       "      <th></th>\n",
       "      <th></th>\n",
       "      <th></th>\n",
       "      <th></th>\n",
       "      <th></th>\n",
       "    </tr>\n",
       "  </thead>\n",
       "  <tbody>\n",
       "    <tr>\n",
       "      <th>2012</th>\n",
       "      <td>Nan</td>\n",
       "      <td>Nan</td>\n",
       "      <td>1</td>\n",
       "      <td>1</td>\n",
       "      <td>Nan</td>\n",
       "      <td>Nan</td>\n",
       "      <td>Nan</td>\n",
       "    </tr>\n",
       "    <tr>\n",
       "      <th>2013</th>\n",
       "      <td>Nan</td>\n",
       "      <td>Nan</td>\n",
       "      <td>Nan</td>\n",
       "      <td>Nan</td>\n",
       "      <td>1</td>\n",
       "      <td>1</td>\n",
       "      <td>1</td>\n",
       "    </tr>\n",
       "    <tr>\n",
       "      <th>2014</th>\n",
       "      <td>1</td>\n",
       "      <td>1</td>\n",
       "      <td>Nan</td>\n",
       "      <td>Nan</td>\n",
       "      <td>Nan</td>\n",
       "      <td>Nan</td>\n",
       "      <td>Nan</td>\n",
       "    </tr>\n",
       "  </tbody>\n",
       "</table>\n",
       "</div>"
      ],
      "text/plain": [
       "name  Amy Jake Jason Molly Tina Wang  Zhu\n",
       "year                                     \n",
       "2012  Nan  Nan     1     1  Nan  Nan  Nan\n",
       "2013  Nan  Nan   Nan   Nan    1    1    1\n",
       "2014    1    1   Nan   Nan  Nan  Nan  Nan"
      ]
     },
     "execution_count": 97,
     "metadata": {},
     "output_type": "execute_result"
    }
   ],
   "source": [
    "# unstack: Unstack switches the rows to columns to get the activity counts as features.\n",
    "df.groupby('year')['name'].value_counts().unstack().fillna('Nan')"
   ]
  },
  {
   "cell_type": "code",
   "execution_count": 100,
   "metadata": {},
   "outputs": [],
   "source": [
    "# more example about unstack and stack: \n",
    "# http://www.datasciencemadesimple.com/reshape-using-stack-unstack-function-pandas-python/\n",
    "import pandas as pd\n",
    "import numpy as np\n",
    "\n",
    "header = pd.MultiIndex.from_product([['Semester1','Semester2'],['Maths','Science']])\n",
    "d=([[12,45,67,56],[78,89,45,67],[45,67,89,90],[67,44,56,55]])\n",
    " \n",
    "df = pd.DataFrame(d,index=['Alisa','Bobby','Cathrine','Jack'],columns=header)\n",
    "df\n",
    "\n",
    "stacked_df=df.stack()\n",
    "unstacked_df = stacked_df.unstack()\n",
    "\n",
    "#stack at level 1\n",
    "stacked_df_lvl=df.stack(level=0)\n",
    "unstacked_df1 = stacked_df_lvl.unstack()"
   ]
  },
  {
   "cell_type": "code",
   "execution_count": 115,
   "metadata": {},
   "outputs": [
    {
     "name": "stderr",
     "output_type": "stream",
     "text": [
      "/usr/local/lib/python3.6/site-packages/ipykernel_launcher.py:8: UserWarning: Boolean Series key will be reindexed to match DataFrame index.\n",
      "  \n"
     ]
    }
   ],
   "source": [
    "# df drop row by the index name \n",
    "df1 = df.drop(['Pima'], inplace = False) # inplace = true means we are changing the original df\n",
    "\n",
    "# Drop a row by row number - Santa Cruz\n",
    "df1.drop(df1.index[1], inplace = True) # or drop a range df.index[[1,2]]\n",
    "\n",
    "# drop row if it contains a certian value, tricky way\n",
    "df1 = df1[df.name != 'Jake']\n",
    "\n",
    "# df drop column by column name\n",
    "df1.drop('reports',axis=1, inplace = True)"
   ]
  },
  {
   "cell_type": "code",
   "execution_count": 127,
   "metadata": {},
   "outputs": [],
   "source": [
    "# df filter based on two columns value and select report column - return a series\n",
    "array_jason_2012_report = df.loc[(df['name']=='Jason') & (df['year']==2012)]['reports'].values # return a array\n",
    "value_jason_2012_report = df.loc[(df['name']=='Jason') & (df['year']==2012)]['reports'][0] # return a number\n",
    "\n",
    "# df filter based on a list of value of one column -return a pd\n",
    "df[df['year'].isin([2012,2013])]"
   ]
  },
  {
   "cell_type": "code",
   "execution_count": 201,
   "metadata": {},
   "outputs": [
    {
     "data": {
      "text/plain": [
       "MultiIndex(levels=[[2012, 2013, 2014], ['Awesome!', 'Not Bad']],\n",
       "           labels=[[0, 0, 1, 2, 2, 1, 1], [1, 1, 0, 1, 1, 1, 0]],\n",
       "           names=['year', 'performance'])"
      ]
     },
     "execution_count": 201,
     "metadata": {},
     "output_type": "execute_result"
    }
   ],
   "source": [
    "# Hierachical Index\n",
    "df1 = df.set_index(['year','performance'])\n",
    "df1.swaplevel('performance','year')\n",
    "df1.index"
   ]
  },
  {
   "cell_type": "markdown",
   "metadata": {},
   "source": [
    "### Working with Text Data"
   ]
  },
  {
   "cell_type": "markdown",
   "metadata": {},
   "source": [
    "### Data Manipulation"
   ]
  },
  {
   "cell_type": "markdown",
   "metadata": {},
   "source": [
    "pandas.melt"
   ]
  },
  {
   "cell_type": "code",
   "execution_count": 25,
   "metadata": {},
   "outputs": [
    {
     "data": {
      "text/html": [
       "<div>\n",
       "<style scoped>\n",
       "    .dataframe tbody tr th:only-of-type {\n",
       "        vertical-align: middle;\n",
       "    }\n",
       "\n",
       "    .dataframe tbody tr th {\n",
       "        vertical-align: top;\n",
       "    }\n",
       "\n",
       "    .dataframe thead th {\n",
       "        text-align: right;\n",
       "    }\n",
       "</style>\n",
       "<table border=\"1\" class=\"dataframe\">\n",
       "  <thead>\n",
       "    <tr style=\"text-align: right;\">\n",
       "      <th></th>\n",
       "      <th>name</th>\n",
       "      <th>year</th>\n",
       "      <th>age</th>\n",
       "      <th>type</th>\n",
       "      <th>values</th>\n",
       "    </tr>\n",
       "  </thead>\n",
       "  <tbody>\n",
       "    <tr>\n",
       "      <th>0</th>\n",
       "      <td>Jason</td>\n",
       "      <td>2012</td>\n",
       "      <td>20</td>\n",
       "      <td>reports</td>\n",
       "      <td>4</td>\n",
       "    </tr>\n",
       "    <tr>\n",
       "      <th>1</th>\n",
       "      <td>Molly</td>\n",
       "      <td>2012</td>\n",
       "      <td>31</td>\n",
       "      <td>reports</td>\n",
       "      <td>24</td>\n",
       "    </tr>\n",
       "  </tbody>\n",
       "</table>\n",
       "</div>"
      ],
      "text/plain": [
       "    name  year  age     type values\n",
       "0  Jason  2012   20  reports      4\n",
       "1  Molly  2012   31  reports     24"
      ]
     },
     "execution_count": 25,
     "metadata": {},
     "output_type": "execute_result"
    }
   ],
   "source": [
    "# Reshape wide to long in pandas python with melt() function - http://www.datasciencemadesimple.com/reshape-wide-long-pandas-python-melt-function/\n",
    "# parameters: id_vars, value_vars, var_name, value_name, col_level\n",
    "df_melt = pd.melt(df,id_vars=['name', 'year','age'],value_vars='reports', var_name='type', value_name='values')\n",
    "\n",
    "df_melt.head(2)"
   ]
  },
  {
   "cell_type": "markdown",
   "metadata": {},
   "source": [
    "pandas.cut"
   ]
  },
  {
   "cell_type": "code",
   "execution_count": 19,
   "metadata": {},
   "outputs": [
    {
     "data": {
      "text/html": [
       "<div>\n",
       "<style scoped>\n",
       "    .dataframe tbody tr th:only-of-type {\n",
       "        vertical-align: middle;\n",
       "    }\n",
       "\n",
       "    .dataframe tbody tr th {\n",
       "        vertical-align: top;\n",
       "    }\n",
       "\n",
       "    .dataframe thead th {\n",
       "        text-align: right;\n",
       "    }\n",
       "</style>\n",
       "<table border=\"1\" class=\"dataframe\">\n",
       "  <thead>\n",
       "    <tr style=\"text-align: right;\">\n",
       "      <th></th>\n",
       "      <th>dept</th>\n",
       "      <th>name</th>\n",
       "      <th>year</th>\n",
       "      <th>reports</th>\n",
       "      <th>age</th>\n",
       "      <th>report_range</th>\n",
       "    </tr>\n",
       "  </thead>\n",
       "  <tbody>\n",
       "    <tr>\n",
       "      <th>Cochice</th>\n",
       "      <td>Data Analytics</td>\n",
       "      <td>Jason</td>\n",
       "      <td>2012</td>\n",
       "      <td>4</td>\n",
       "      <td>20</td>\n",
       "      <td>range1</td>\n",
       "    </tr>\n",
       "    <tr>\n",
       "      <th>Pima</th>\n",
       "      <td>Data Analytics</td>\n",
       "      <td>Molly</td>\n",
       "      <td>2012</td>\n",
       "      <td>24</td>\n",
       "      <td>31</td>\n",
       "      <td>range3</td>\n",
       "    </tr>\n",
       "    <tr>\n",
       "      <th>Santa Cruz</th>\n",
       "      <td>Data Analytics</td>\n",
       "      <td>Tina</td>\n",
       "      <td>2013</td>\n",
       "      <td>31</td>\n",
       "      <td>40</td>\n",
       "      <td>range4</td>\n",
       "    </tr>\n",
       "    <tr>\n",
       "      <th>Maricopa</th>\n",
       "      <td>Data Analytics</td>\n",
       "      <td>Jake</td>\n",
       "      <td>2014</td>\n",
       "      <td>2</td>\n",
       "      <td>31</td>\n",
       "      <td>range1</td>\n",
       "    </tr>\n",
       "    <tr>\n",
       "      <th>Yuma</th>\n",
       "      <td>Data Analytics</td>\n",
       "      <td>Amy</td>\n",
       "      <td>2014</td>\n",
       "      <td>3</td>\n",
       "      <td>25</td>\n",
       "      <td>range1</td>\n",
       "    </tr>\n",
       "  </tbody>\n",
       "</table>\n",
       "</div>"
      ],
      "text/plain": [
       "                      dept   name  year reports  age report_range\n",
       "Cochice     Data Analytics  Jason  2012       4   20       range1\n",
       "Pima        Data Analytics  Molly  2012      24   31       range3\n",
       "Santa Cruz  Data Analytics   Tina  2013      31   40       range4\n",
       "Maricopa    Data Analytics   Jake  2014       2   31       range1\n",
       "Yuma        Data Analytics    Amy  2014       3   25       range1"
      ]
     },
     "execution_count": 19,
     "metadata": {},
     "output_type": "execute_result"
    }
   ],
   "source": [
    "# create bin using cut() function\n",
    "bins = [0, 5, 20, 30, 40]\n",
    "names = ['range1', 'range2', 'range3', 'range4']\n",
    "df_cut = df.copy()\n",
    "df_cut['report_range'] = pd.cut(df.reports, bins, labels=names)\n",
    "\n",
    "df_cut.head()"
   ]
  },
  {
   "cell_type": "markdown",
   "metadata": {},
   "source": [
    "Pandas concat Vs append\n",
    "1. Concat gives the flexibility to join based on the axis( all rows or all columns)\n",
    "    - Parameters: join, axis, ignore_index\n",
    "2. Append is the specific case(axis=0, join='outer') of concat"
   ]
  },
  {
   "cell_type": "code",
   "execution_count": 34,
   "metadata": {},
   "outputs": [],
   "source": [
    "s1 = pd.Series(['a', 'b'])\n",
    "s2 = pd.Series(['c', 'd'])\n",
    "pd.concat([s1, s2])"
   ]
  },
  {
   "cell_type": "code",
   "execution_count": null,
   "metadata": {},
   "outputs": [],
   "source": [
    "pandas.append"
   ]
  },
  {
   "cell_type": "code",
   "execution_count": 28,
   "metadata": {},
   "outputs": [],
   "source": [
    "df = pd.DataFrame([[1, 2], [3, 4]], columns=list('AB'))\n",
    "df2 = pd.DataFrame([[5, 6], [7, 8]], columns=list('AB'))\n",
    "df = df.append(df2, ignore_index=True)\n",
    "\n",
    "# less efficient\n",
    "df3 = pd.DataFrame(columns=['A'])\n",
    "for i in range(5):\n",
    "    df3 = df3.append({'A': i}, ignore_index=True)"
   ]
  },
  {
   "cell_type": "markdown",
   "metadata": {},
   "source": [
    "Pandas join Vs merge\n",
    "1. Join is based on the indexes (set by set_index) on how variable = ['left','right','inner','couter']\n",
    "2. Merge is based on any particular column each of the two dataframes, this columns are variables on like 'left_on', 'right_on', 'on: df_merged = pd.merge(left=df1, right=df2, on=None, left_on='col1', right_on='col2')"
   ]
  },
  {
   "cell_type": "code",
   "execution_count": 326,
   "metadata": {},
   "outputs": [
    {
     "name": "stdout",
     "output_type": "stream",
     "text": [
      "Missing values per column:\n",
      "name       0\n",
      "year       0\n",
      "reports    0\n",
      "dtype: int64\n",
      "\n",
      "Missing values per row:\n",
      "Cochice       0\n",
      "Pima          0\n",
      "Santa Cruz    0\n",
      "Maricopa      0\n",
      "Yuma          0\n",
      "dtype: int64\n"
     ]
    }
   ],
   "source": [
    "# pd, apply function\n",
    "def num_missing(x):\n",
    "    return sum(x.isnull())\n",
    "\n",
    "#Applying per column:\n",
    "print(\"Missing values per column:\")\n",
    "print(df.apply(num_missing, axis=0)) #axis=0 defines that function is to be applied on each column\n",
    "\n",
    "#Applying per row:\n",
    "print(\"\\nMissing values per row:\")\n",
    "print(df.apply(num_missing, axis=1).head()) #axis=1 defines that function is to be applied on each row"
   ]
  },
  {
   "cell_type": "code",
   "execution_count": null,
   "metadata": {},
   "outputs": [],
   "source": [
    "# DataFrame - reindexing/selection/label manipulation"
   ]
  },
  {
   "cell_type": "code",
   "execution_count": null,
   "metadata": {},
   "outputs": [],
   "source": [
    "# apply functions by group in pd\n",
    "# Create an example dataframe\n",
    "data = {'Platoon': ['A','A','A','A','A','A','B','B','B','B','B','C','C','C','C','C'],\n",
    "       'Casualties': [1,4,5,7,5,5,6,1,4,5,6,7,4,6,4,6]}\n",
    "df = pd.DataFrame(data)\n",
    "df.groupby('Platoon')['Casualties'].apply(lambda x:x.rolling(center=False,window=2).mean())"
   ]
  },
  {
   "cell_type": "code",
   "execution_count": null,
   "metadata": {},
   "outputs": [],
   "source": [
    "# filter by"
   ]
  },
  {
   "cell_type": "code",
   "execution_count": 135,
   "metadata": {},
   "outputs": [],
   "source": [
    "# pivot table\n",
    "df = pd.DataFrame({\"A\": [\"foo\", \"foo\", \"foo\", \"foo\", \"foo\",\n",
    "                         \"bar\", \"bar\", \"bar\", \"bar\"],\n",
    "                   \"B\": [\"one\", \"one\", \"one\", \"two\", \"two\",\n",
    "                         \"one\", \"one\", \"two\", \"two\"],\n",
    "                   \"C\": [\"small\", \"large\", \"large\", \"small\",\n",
    "                         \"small\", \"large\", \"small\", \"small\",\n",
    "                         \"large\"],\n",
    "                   \"D\": [1, 2, 2, 3, 3, 4, 5, 6, 7]})\n",
    "\n",
    "pivot_table = pd.pivot_table(df, values='D', index=['A', 'B'], columns=['C'], aggfunc=np.sum)"
   ]
  },
  {
   "cell_type": "code",
   "execution_count": 42,
   "metadata": {},
   "outputs": [
    {
     "data": {
      "text/html": [
       "<div>\n",
       "<style scoped>\n",
       "    .dataframe tbody tr th:only-of-type {\n",
       "        vertical-align: middle;\n",
       "    }\n",
       "\n",
       "    .dataframe tbody tr th {\n",
       "        vertical-align: top;\n",
       "    }\n",
       "\n",
       "    .dataframe thead th {\n",
       "        text-align: right;\n",
       "    }\n",
       "</style>\n",
       "<table border=\"1\" class=\"dataframe\">\n",
       "  <thead>\n",
       "    <tr style=\"text-align: right;\">\n",
       "      <th></th>\n",
       "      <th>A</th>\n",
       "      <th>B</th>\n",
       "      <th>C</th>\n",
       "      <th>D</th>\n",
       "    </tr>\n",
       "  </thead>\n",
       "  <tbody>\n",
       "    <tr>\n",
       "      <th>0</th>\n",
       "      <td>0.112288</td>\n",
       "      <td>0.852736</td>\n",
       "      <td>0.665070</td>\n",
       "      <td>0.553730</td>\n",
       "    </tr>\n",
       "    <tr>\n",
       "      <th>1</th>\n",
       "      <td>0.677584</td>\n",
       "      <td>0.046569</td>\n",
       "      <td>0.557092</td>\n",
       "      <td>0.669515</td>\n",
       "    </tr>\n",
       "  </tbody>\n",
       "</table>\n",
       "</div>"
      ],
      "text/plain": [
       "          A         B         C         D\n",
       "0  0.112288  0.852736  0.665070  0.553730\n",
       "1  0.677584  0.046569  0.557092  0.669515"
      ]
     },
     "execution_count": 42,
     "metadata": {},
     "output_type": "execute_result"
    }
   ],
   "source": [
    "# pd, iterate\n",
    "import numpy as np\n",
    "import pandas as pd\n",
    "\n",
    "df = pd.DataFrame(np.random.rand(2,4),columns=list('ABCD'))\n",
    "\n",
    "df.head()"
   ]
  },
  {
   "cell_type": "code",
   "execution_count": null,
   "metadata": {},
   "outputs": [],
   "source": [
    "# value_counts(normalize=True) * 100 -> percent"
   ]
  },
  {
   "cell_type": "code",
   "execution_count": 45,
   "metadata": {},
   "outputs": [
    {
     "name": "stdout",
     "output_type": "stream",
     "text": [
      "4629596816\n",
      "4629596816\n",
      "4629596984\n",
      "4629597432\n",
      "4629597544\n",
      "4629596816\n"
     ]
    }
   ],
   "source": [
    "# difference between assign and .copy()\n",
    "df1 = pd.DataFrame([1,2,3,4,5])\n",
    "print(id(df1))\n",
    "df2 = df1\n",
    "print(id(df2)) # Same id as df1\n",
    "df3 = df1.copy()\n",
    "print(id(df3)) # New object, new id.\n",
    "df4 = df1.copy(deep=False)\n",
    "print(id(df4)) # New object, new id.\n",
    "\n",
    "df1 = pd.DataFrame([9, 9, 9])\n",
    "print(id(df1)) # New object created and bound to name 'df1'.\n",
    "print(id(df2))  # Old object's id not impacted."
   ]
  },
  {
   "cell_type": "code",
   "execution_count": null,
   "metadata": {},
   "outputs": [],
   "source": [
    "# pd.to_numeric vs np.float64\n",
    "# To convert data we can use .astype() method on a series. \n",
    "# Also keep in mind the ‘category’ type — it reduces size of a dataframe and makes computations faster. \n",
    "# We can convert to any value that can be used as category — days of the week, gender, continent abbreviations — depends on a context.\n",
    "\n",
    "# errors : {‘ignore’, ‘raise’, ‘coerce’}, default ‘raise’\n",
    "         # If ‘raise’, then invalid parsing will raise an exception\n",
    "         # If ‘coerce’, then invalid parsing will be set as NaN\n",
    "         # If ‘ignore’, then invalid parsing will return the input\n",
    "\n",
    "\n",
    "# convert If you already have numeric dtypes (int8|16|32|64,float64,boolean) you can convert it to another \"numeric\" dtype using Pandas .astype() method.\n",
    "df.a = df['a'].astype(float)\n",
    "# convert object dytpes to numberic\n",
    "df.b = pd.to_numeric(df['b'], errors='coerce') "
   ]
  },
  {
   "cell_type": "code",
   "execution_count": 47,
   "metadata": {
    "scrolled": true
   },
   "outputs": [
    {
     "data": {
      "text/html": [
       "<div>\n",
       "<style scoped>\n",
       "    .dataframe tbody tr th:only-of-type {\n",
       "        vertical-align: middle;\n",
       "    }\n",
       "\n",
       "    .dataframe tbody tr th {\n",
       "        vertical-align: top;\n",
       "    }\n",
       "\n",
       "    .dataframe thead th {\n",
       "        text-align: right;\n",
       "    }\n",
       "</style>\n",
       "<table border=\"1\" class=\"dataframe\">\n",
       "  <thead>\n",
       "    <tr style=\"text-align: right;\">\n",
       "      <th></th>\n",
       "      <th>a</th>\n",
       "      <th>b</th>\n",
       "    </tr>\n",
       "  </thead>\n",
       "  <tbody>\n",
       "    <tr>\n",
       "      <th>0</th>\n",
       "      <td>-0.476457</td>\n",
       "      <td>1.023886</td>\n",
       "    </tr>\n",
       "    <tr>\n",
       "      <th>1</th>\n",
       "      <td>-2.418843</td>\n",
       "      <td>0.152334</td>\n",
       "    </tr>\n",
       "    <tr>\n",
       "      <th>2</th>\n",
       "      <td>-0.975074</td>\n",
       "      <td>0.337719</td>\n",
       "    </tr>\n",
       "    <tr>\n",
       "      <th>3</th>\n",
       "      <td>-0.586308</td>\n",
       "      <td>-0.714383</td>\n",
       "    </tr>\n",
       "    <tr>\n",
       "      <th>4</th>\n",
       "      <td>0.503497</td>\n",
       "      <td>0.244219</td>\n",
       "    </tr>\n",
       "    <tr>\n",
       "      <th>5</th>\n",
       "      <td>0.158147</td>\n",
       "      <td>-0.263069</td>\n",
       "    </tr>\n",
       "    <tr>\n",
       "      <th>6</th>\n",
       "      <td>0.060142</td>\n",
       "      <td>-1.283625</td>\n",
       "    </tr>\n",
       "    <tr>\n",
       "      <th>7</th>\n",
       "      <td>0.651882</td>\n",
       "      <td>0.182224</td>\n",
       "    </tr>\n",
       "    <tr>\n",
       "      <th>8</th>\n",
       "      <td>0.041512</td>\n",
       "      <td>-0.276535</td>\n",
       "    </tr>\n",
       "    <tr>\n",
       "      <th>9</th>\n",
       "      <td>-1.913913</td>\n",
       "      <td>1.434493</td>\n",
       "    </tr>\n",
       "  </tbody>\n",
       "</table>\n",
       "</div>"
      ],
      "text/plain": [
       "          a         b\n",
       "0 -0.476457  1.023886\n",
       "1 -2.418843  0.152334\n",
       "2 -0.975074  0.337719\n",
       "3 -0.586308 -0.714383\n",
       "4  0.503497  0.244219\n",
       "5  0.158147 -0.263069\n",
       "6  0.060142 -1.283625\n",
       "7  0.651882  0.182224\n",
       "8  0.041512 -0.276535\n",
       "9 -1.913913  1.434493"
      ]
     },
     "execution_count": 47,
     "metadata": {},
     "output_type": "execute_result"
    }
   ],
   "source": [
    "df"
   ]
  },
  {
   "cell_type": "markdown",
   "metadata": {},
   "source": [
    "Missing Value Handling\n",
    "\n",
    "**np.nan** allows for vectorized operations; its a float value, \n",
    "\n",
    "while **None**, by definition, forces object type, which basically disables all efficiency in numpy."
   ]
  },
  {
   "cell_type": "code",
   "execution_count": null,
   "metadata": {},
   "outputs": [],
   "source": [
    "import numpy as np\n",
    "s_bad = pd.Series([1, None], dtype=object)\n",
    "s_good = pd.Series([1, np.nan])\n",
    "s_unknown = pd.Series([1,pd.NaT])\n",
    "\n",
    "print(s_bad.dtype,s_good.dtype,s_unknown.dtype)\n",
    "\n",
    "\n",
    "print(s_bad.isnull())\n",
    "print(s_good.isnull())\n",
    "print(s_unknown.isnull())\n",
    "\n",
    "#print(np.isnan(s_bad)) -- cannot use isnan(), because s_bad is None type\n",
    "print(np.isnan(s_good))\n",
    "# print(np.isnan(s_unknown)) -- cannot use isnan(), because s_bad is None type"
   ]
  },
  {
   "cell_type": "markdown",
   "metadata": {},
   "source": [
    "1. dropna\n",
    "    - how: any(default), all (‘all’ : If all values are NA, drop that row or column.)\n",
    "    - thresh: require that how many non-NA values\n",
    "    - subset: define in which columns to look for missing values\n",
    "    - inpalce: false(default)\n",
    "2. fillna\n",
    "3. replace\n",
    "4. interpolate"
   ]
  },
  {
   "cell_type": "markdown",
   "metadata": {},
   "source": [
    "#### Numpy"
   ]
  },
  {
   "cell_type": "code",
   "execution_count": 81,
   "metadata": {},
   "outputs": [],
   "source": [
    "my_data = [1,2,3,4,5]\n",
    "my_data = np.array(my_data, dtype=np.float32)"
   ]
  },
  {
   "cell_type": "code",
   "execution_count": 90,
   "metadata": {},
   "outputs": [
    {
     "data": {
      "text/plain": [
       "array([5., 4., 3., 2., 1.], dtype=float32)"
      ]
     },
     "execution_count": 90,
     "metadata": {},
     "output_type": "execute_result"
    }
   ],
   "source": [
    "# sort numpy narray\n",
    "np.sort(my_data)\n",
    "np.sort(my_data)[::-1]"
   ]
  },
  {
   "cell_type": "markdown",
   "metadata": {},
   "source": [
    "# Series"
   ]
  },
  {
   "cell_type": "markdown",
   "metadata": {},
   "source": [
    "### Woking with Text data"
   ]
  },
  {
   "cell_type": "markdown",
   "metadata": {},
   "source": [
    "Methods like split return a Series of lists"
   ]
  },
  {
   "cell_type": "code",
   "execution_count": 68,
   "metadata": {},
   "outputs": [
    {
     "data": {
      "text/html": [
       "<div>\n",
       "<style scoped>\n",
       "    .dataframe tbody tr th:only-of-type {\n",
       "        vertical-align: middle;\n",
       "    }\n",
       "\n",
       "    .dataframe tbody tr th {\n",
       "        vertical-align: top;\n",
       "    }\n",
       "\n",
       "    .dataframe thead th {\n",
       "        text-align: right;\n",
       "    }\n",
       "</style>\n",
       "<table border=\"1\" class=\"dataframe\">\n",
       "  <thead>\n",
       "    <tr style=\"text-align: right;\">\n",
       "      <th></th>\n",
       "      <th>0</th>\n",
       "      <th>1</th>\n",
       "    </tr>\n",
       "  </thead>\n",
       "  <tbody>\n",
       "    <tr>\n",
       "      <th>0</th>\n",
       "      <td>a_b</td>\n",
       "      <td>c</td>\n",
       "    </tr>\n",
       "    <tr>\n",
       "      <th>1</th>\n",
       "      <td>c_d</td>\n",
       "      <td>e</td>\n",
       "    </tr>\n",
       "    <tr>\n",
       "      <th>2</th>\n",
       "      <td>NaN</td>\n",
       "      <td>NaN</td>\n",
       "    </tr>\n",
       "    <tr>\n",
       "      <th>3</th>\n",
       "      <td>f_g</td>\n",
       "      <td>h</td>\n",
       "    </tr>\n",
       "  </tbody>\n",
       "</table>\n",
       "</div>"
      ],
      "text/plain": [
       "     0    1\n",
       "0  a_b    c\n",
       "1  c_d    e\n",
       "2  NaN  NaN\n",
       "3  f_g    h"
      ]
     },
     "execution_count": 68,
     "metadata": {},
     "output_type": "execute_result"
    }
   ],
   "source": [
    "s1 = pd.Series(['a_b_c', 'c_d_e', np.nan, 'f_g_h'])\n",
    "s2 = s1.str.split('_')\n",
    "\n",
    "# Elements in the split lists can be accessed using get or [] notation:\n",
    "s2.str.get(1)\n",
    "s1.str.split('_').str[1]\n",
    "\n",
    "# Expand to a DataFrame using expand:\n",
    "s1.str.split('_', expand = True)\n",
    "s1.str.split('_', expand=True, n=1) # limit the number of splits\n",
    "s1.str.rsplit('_', expand=True, n=1) # from the end of the string to the beginning of the string:"
   ]
  },
  {
   "cell_type": "markdown",
   "metadata": {},
   "source": [
    "Replace By default replaces regular expressions"
   ]
  },
  {
   "cell_type": "code",
   "execution_count": 69,
   "metadata": {},
   "outputs": [
    {
     "data": {
      "text/plain": [
       "0           A\n",
       "1           B\n",
       "2           C\n",
       "3    XX-XX ba\n",
       "4    XX-XX ca\n",
       "5            \n",
       "6         NaN\n",
       "7    XX-XX BA\n",
       "8      XX-XX \n",
       "9     XX-XX t\n",
       "dtype: object"
      ]
     },
     "execution_count": 69,
     "metadata": {},
     "output_type": "execute_result"
    }
   ],
   "source": [
    "s3 = pd.Series(['A', 'B', 'C', 'Aaba', 'Baca', '', np.nan, 'CABA', 'dog', 'cat'])\n",
    "s3.str.replace('^.a|dog', 'XX-XX ', case=False)"
   ]
  },
  {
   "cell_type": "code",
   "execution_count": 37,
   "metadata": {},
   "outputs": [],
   "source": [
    "# create a series\n",
    "import pandas as pd\n",
    "import numpy as np\n",
    "data = np.array(['a','b','c','d'])\n",
    "s = pd.Series(data,index=[100,101,102,103])"
   ]
  },
  {
   "cell_type": "code",
   "execution_count": 38,
   "metadata": {},
   "outputs": [
    {
     "name": "stdout",
     "output_type": "stream",
     "text": [
      "a\n",
      "100    a\n",
      "101    b\n",
      "102    c\n",
      "dtype: object\n"
     ]
    }
   ],
   "source": [
    "# access data\n",
    "print(s[100]) # with index lable\n",
    "print(s[:3]) # with slice"
   ]
  },
  {
   "cell_type": "code",
   "execution_count": 13,
   "metadata": {
    "scrolled": true
   },
   "outputs": [
    {
     "name": "stdout",
     "output_type": "stream",
     "text": [
      "100 a\n",
      "101 b\n",
      "102 c\n",
      "103 d\n"
     ]
    }
   ],
   "source": [
    "# series iterate to get the index and value\n",
    "for i, v in s.items():\n",
    "    print(i,v)"
   ]
  },
  {
   "cell_type": "code",
   "execution_count": 21,
   "metadata": {},
   "outputs": [
    {
     "data": {
      "text/plain": [
       "{0: 1, 1: 2, 2: 3, 3: 4}"
      ]
     },
     "execution_count": 21,
     "metadata": {},
     "output_type": "execute_result"
    }
   ],
   "source": [
    "# series to dict\n",
    "s = pd.Series([1, 2, 3, 4])\n",
    "s.to_dict()\n",
    "{0: 1, 1: 2, 2: 3, 3: 4}"
   ]
  },
  {
   "cell_type": "code",
   "execution_count": null,
   "metadata": {},
   "outputs": [],
   "source": [
    "# create series from dict\n",
    "data = {'a' : 0., 'b' : 1., 'c' : 2.}\n",
    "s = pd.Series(data)"
   ]
  },
  {
   "cell_type": "code",
   "execution_count": 1,
   "metadata": {},
   "outputs": [
    {
     "name": "stdout",
     "output_type": "stream",
     "text": [
      "[6, 3, 4, 6] [0, 1, 2, 3]\n"
     ]
    }
   ],
   "source": [
    "# series to Value and Index (Arrary) to List\n",
    "import pandas as pd\n",
    "s= pd.Series([6,3,4,6])\n",
    "print(s.values.tolist(),s.index.values.tolist())"
   ]
  },
  {
   "cell_type": "code",
   "execution_count": null,
   "metadata": {},
   "outputs": [],
   "source": [
    "# sort: same as pd .sort_values(ascending=True)"
   ]
  },
  {
   "cell_type": "markdown",
   "metadata": {},
   "source": [
    "#### Filter Rows\n",
    "-  https://stackoverflow.com/questions/15325182/how-to-filter-rows-in-pandas-by-regex"
   ]
  },
  {
   "cell_type": "markdown",
   "metadata": {},
   "source": [
    "#### Write CSV"
   ]
  },
  {
   "cell_type": "code",
   "execution_count": 48,
   "metadata": {},
   "outputs": [],
   "source": [
    "import csv\n",
    "final = [{'Name':'A','Hour':0,'Time':120},{'Name':'A','Hour':1,'Time':219}]\n",
    "\n",
    "with open('/Users/mwang/Documents/Mine/output.csv', 'w') as output_file:\n",
    "    dict_writer = csv.DictWriter(output_file, keys, delimiter=',')\n",
    "    dict_writer.writeheader()\n",
    "    dict_writer.writerows(final)  "
   ]
  },
  {
   "cell_type": "code",
   "execution_count": 49,
   "metadata": {},
   "outputs": [],
   "source": [
    "import csv\n",
    "keys = ['Name','Hour','Time']\n",
    "final2 = [['B', 0, 110],['C', 1, 130]]\n",
    "\n",
    "with open('/Users/mwang/Documents/Mine/output2.csv','w') as f:\n",
    "    list_writer = csv.writer(f,delimiter=',')\n",
    "    list_writer.writerow(keys) # write first column name\n",
    "    for row in final2:\n",
    "        list_writer.writerow(row) # write each row"
   ]
  },
  {
   "cell_type": "markdown",
   "metadata": {},
   "source": [
    "#### Write TSV"
   ]
  },
  {
   "cell_type": "code",
   "execution_count": 27,
   "metadata": {},
   "outputs": [],
   "source": [
    "import csv\n",
    "keys = ['Name','Hour','Time']\n",
    "final = [{'Name':'A','Hour':0,'Time':120},{'Name':'A','Hour':1,'Time':219}]\n",
    "with open('/Users/mwang/Documents/Mine/output.tsv', 'w') as output_file:\n",
    "    dict_writer = csv.DictWriter(output_file, keys, delimiter='\\t')\n",
    "    dict_writer.writeheader()\n",
    "    dict_writer.writerows(final)  "
   ]
  },
  {
   "cell_type": "markdown",
   "metadata": {},
   "source": [
    "#### Dict"
   ]
  },
  {
   "cell_type": "code",
   "execution_count": 20,
   "metadata": {},
   "outputs": [
    {
     "name": "stdout",
     "output_type": "stream",
     "text": [
      "defaultdict(<class 'list'>, {1: [2, 6], 3: [4, 7], 5: [0, 'Nan']})\n"
     ]
    }
   ],
   "source": [
    "from collections import defaultdict\n",
    "d1 = {1: 2, 3: 4, 5: 0}\n",
    "d2 = {1: 6, 3: 7, 4: 8}\n",
    "\n",
    "\n",
    "# join the two dicts based on the same keys\n",
    "# create new dict\n",
    "dd = defaultdict(list)\n",
    "# 1: all join\n",
    "for d in (d1, d2): # you can list as many input dicts as you want here\n",
    "    for key, value in d.items():\n",
    "        dd[key].append(value)\n",
    "\n",
    "        \n",
    "        \n",
    "# create new dict\n",
    "dd = defaultdict(list)\n",
    "# 2: left join\n",
    "for k1,value in d1.items():\n",
    "    dd[k1].append(value)\n",
    "    if k1 in d2.keys():\n",
    "        dd[k1].append(d2[k1])\n",
    "    else:\n",
    "        dd[k1].append('Nan')\n",
    "\n",
    "print(dd)"
   ]
  },
  {
   "cell_type": "code",
   "execution_count": 2,
   "metadata": {},
   "outputs": [
    {
     "data": {
      "text/html": [
       "<div>\n",
       "<style scoped>\n",
       "    .dataframe tbody tr th:only-of-type {\n",
       "        vertical-align: middle;\n",
       "    }\n",
       "\n",
       "    .dataframe tbody tr th {\n",
       "        vertical-align: top;\n",
       "    }\n",
       "\n",
       "    .dataframe thead th {\n",
       "        text-align: right;\n",
       "    }\n",
       "</style>\n",
       "<table border=\"1\" class=\"dataframe\">\n",
       "  <thead>\n",
       "    <tr style=\"text-align: right;\">\n",
       "      <th></th>\n",
       "      <th>approved_by</th>\n",
       "      <th>archived</th>\n",
       "      <th>author</th>\n",
       "      <th>controversiality</th>\n",
       "      <th>user_reports</th>\n",
       "    </tr>\n",
       "  </thead>\n",
       "  <tbody>\n",
       "    <tr>\n",
       "      <th>0</th>\n",
       "      <td>None</td>\n",
       "      <td>False</td>\n",
       "      <td>des-tal</td>\n",
       "      <td>0</td>\n",
       "      <td>[]</td>\n",
       "    </tr>\n",
       "    <tr>\n",
       "      <th>1</th>\n",
       "      <td>None</td>\n",
       "      <td>True</td>\n",
       "      <td>des-tal</td>\n",
       "      <td>0</td>\n",
       "      <td>[]</td>\n",
       "    </tr>\n",
       "  </tbody>\n",
       "</table>\n",
       "</div>"
      ],
      "text/plain": [
       "  approved_by  archived   author  controversiality user_reports\n",
       "0        None     False  des-tal                 0           []\n",
       "1        None      True  des-tal                 0           []"
      ]
     },
     "execution_count": 2,
     "metadata": {},
     "output_type": "execute_result"
    }
   ],
   "source": [
    "# convert list of dict to df\n",
    "my_list = [{u'data': {u'approved_by': None,\n",
    "            u'archived': False,\n",
    "            u'author': u'des-tal',\n",
    "            u'controversiality': 0,\n",
    "            u'user_reports': []},\n",
    "            u'kind': u't1'},\n",
    "\n",
    "             {u'data': {u'approved_by': None,\n",
    "            u'archived': True,\n",
    "            u'author': u'des-tal',\n",
    "            u'controversiality': 0,\n",
    "            u'user_reports': []},\n",
    "            u'kind': u't1'}]\n",
    "\n",
    "import pandas as pd\n",
    "df = pd.DataFrame([i['data'] for i in my_list])\n",
    "df.head()"
   ]
  },
  {
   "cell_type": "code",
   "execution_count": 3,
   "metadata": {},
   "outputs": [
    {
     "name": "stdout",
     "output_type": "stream",
     "text": [
      "+----+---------------+------------+----------+--------------------+----------------+\n",
      "|    | approved_by   | archived   | author   |   controversiality | user_reports   |\n",
      "|----+---------------+------------+----------+--------------------+----------------|\n",
      "|  0 |               | False      | des-tal  |                  0 | []             |\n",
      "|  1 |               | True       | des-tal  |                  0 | []             |\n",
      "+----+---------------+------------+----------+--------------------+----------------+\n"
     ]
    }
   ],
   "source": [
    "# print\n",
    "from tabulate import tabulate\n",
    "print(tabulate(df, headers='keys', tablefmt='psql'))"
   ]
  },
  {
   "cell_type": "code",
   "execution_count": 2,
   "metadata": {},
   "outputs": [
    {
     "data": {
      "text/plain": [
       "('b', 3000)"
      ]
     },
     "execution_count": 2,
     "metadata": {},
     "output_type": "execute_result"
    }
   ],
   "source": [
    "# find the max value in a dict as well its key\n",
    "import operator\n",
    "stats = {'a':1000, 'b':3000, 'c': 100}\n",
    "max(stats.items(), key=operator.itemgetter(1))[0]"
   ]
  },
  {
   "cell_type": "markdown",
   "metadata": {},
   "source": [
    "#### File"
   ]
  },
  {
   "cell_type": "code",
   "execution_count": null,
   "metadata": {},
   "outputs": [],
   "source": [
    "# Import necessary modules\n",
    "import glob\n",
    "import pandas as pd \n",
    "# Write the pattern: pattern \n",
    "pattern = '*.csv' \n",
    "# Save all file matches: csv_files\n",
    "csv_files = glob.glob(pattern) \n",
    "# Create an empty list: frames\n",
    "frames = [] \n",
    "# Iterate over csv_files \n",
    "for csv in csv_files: \n",
    "    # Read csv into a DataFrame: df \n",
    "    df = pd.read_csv(csv) \n",
    "    # Append df to frames \n",
    "    frames.append(df)\n",
    "# Concatenate frames into a single DataFrame: final_df\n",
    "final_df = pd.concat(frames)"
   ]
  },
  {
   "cell_type": "markdown",
   "metadata": {},
   "source": [
    "#### Good to know"
   ]
  },
  {
   "cell_type": "markdown",
   "metadata": {},
   "source": [
    "Inplace: https://stackoverflow.com/questions/45570984/pandas-is-inplace-true-considered-harmful-or-not"
   ]
  }
 ],
 "metadata": {
  "kernelspec": {
   "display_name": "Python 3",
   "language": "python",
   "name": "python3"
  },
  "language_info": {
   "codemirror_mode": {
    "name": "ipython",
    "version": 3
   },
   "file_extension": ".py",
   "mimetype": "text/x-python",
   "name": "python",
   "nbconvert_exporter": "python",
   "pygments_lexer": "ipython3",
   "version": "3.6.8"
  }
 },
 "nbformat": 4,
 "nbformat_minor": 2
}
