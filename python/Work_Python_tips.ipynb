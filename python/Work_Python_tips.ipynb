{
 "cells": [
  {
   "cell_type": "code",
   "execution_count": 34,
   "metadata": {},
   "outputs": [],
   "source": [
    "import pandas as pd\n",
    "import numpy as np\n",
    "import yaml"
   ]
  },
  {
   "cell_type": "markdown",
   "metadata": {},
   "source": [
    "## Table of Contents\n",
    "***\n",
    "#### [1. Replace column values based on another dataframe python pandas](#1)\n",
    "#### [2. Drop Nan value](#2)\n",
    "#### [3. Selection elements of a list based on another 'True'/'False' list](#3)\n",
    "#### [4. Flatten a list of lists](#4)\n",
    "#### [5. Filter columns name](#5)\n",
    "#### [6. Filter rows by str.match or str.contain function](#6)\n",
    "#### [7. Replace Nan in a column with another columns](#7)\n",
    "#### [8. Convert a string representation of a Dictionary to a dictionary?](#8)\n",
    "#### [9. Flatten a dict like column into multiple columns](#9)"
   ]
  },
  {
   "cell_type": "markdown",
   "metadata": {},
   "source": [
    "<a id=1></a>\n",
    "# 1. Replace column values based on another dataframe python pandas"
   ]
  },
  {
   "cell_type": "code",
   "execution_count": 49,
   "metadata": {},
   "outputs": [],
   "source": [
    "df1 = pd.DataFrame([[\"X\",1,1,0], [\"Y\",0,1,0], [\"Z\",0,0,0], [\"Y\",0,0,0]],\n",
    "                    columns=[\"Name\",\"Nonprofit\",\"Business\", \"Education\"])    \n",
    "\n",
    "df2 = pd.DataFrame([[\"Y\",1,1], [\"Z\",1,1]],columns=[\"Name\",\"Nonprofit\", \"Education\"])  "
   ]
  },
  {
   "cell_type": "code",
   "execution_count": 5,
   "metadata": {},
   "outputs": [
    {
     "data": {
      "text/html": [
       "<div>\n",
       "<style scoped>\n",
       "    .dataframe tbody tr th:only-of-type {\n",
       "        vertical-align: middle;\n",
       "    }\n",
       "\n",
       "    .dataframe tbody tr th {\n",
       "        vertical-align: top;\n",
       "    }\n",
       "\n",
       "    .dataframe thead th {\n",
       "        text-align: right;\n",
       "    }\n",
       "</style>\n",
       "<table border=\"1\" class=\"dataframe\">\n",
       "  <thead>\n",
       "    <tr style=\"text-align: right;\">\n",
       "      <th></th>\n",
       "      <th>Name</th>\n",
       "      <th>Nonprofit</th>\n",
       "      <th>Business</th>\n",
       "      <th>Education</th>\n",
       "    </tr>\n",
       "  </thead>\n",
       "  <tbody>\n",
       "    <tr>\n",
       "      <th>0</th>\n",
       "      <td>X</td>\n",
       "      <td>1</td>\n",
       "      <td>1</td>\n",
       "      <td>0</td>\n",
       "    </tr>\n",
       "    <tr>\n",
       "      <th>1</th>\n",
       "      <td>Y</td>\n",
       "      <td>0</td>\n",
       "      <td>1</td>\n",
       "      <td>0</td>\n",
       "    </tr>\n",
       "    <tr>\n",
       "      <th>2</th>\n",
       "      <td>Z</td>\n",
       "      <td>0</td>\n",
       "      <td>0</td>\n",
       "      <td>0</td>\n",
       "    </tr>\n",
       "    <tr>\n",
       "      <th>3</th>\n",
       "      <td>Y</td>\n",
       "      <td>0</td>\n",
       "      <td>0</td>\n",
       "      <td>0</td>\n",
       "    </tr>\n",
       "  </tbody>\n",
       "</table>\n",
       "</div>"
      ],
      "text/plain": [
       "  Name  Nonprofit  Business  Education\n",
       "0    X          1         1          0\n",
       "1    Y          0         1          0\n",
       "2    Z          0         0          0\n",
       "3    Y          0         0          0"
      ]
     },
     "execution_count": 5,
     "metadata": {},
     "output_type": "execute_result"
    }
   ],
   "source": [
    "df1"
   ]
  },
  {
   "cell_type": "code",
   "execution_count": 6,
   "metadata": {},
   "outputs": [
    {
     "data": {
      "text/html": [
       "<div>\n",
       "<style scoped>\n",
       "    .dataframe tbody tr th:only-of-type {\n",
       "        vertical-align: middle;\n",
       "    }\n",
       "\n",
       "    .dataframe tbody tr th {\n",
       "        vertical-align: top;\n",
       "    }\n",
       "\n",
       "    .dataframe thead th {\n",
       "        text-align: right;\n",
       "    }\n",
       "</style>\n",
       "<table border=\"1\" class=\"dataframe\">\n",
       "  <thead>\n",
       "    <tr style=\"text-align: right;\">\n",
       "      <th></th>\n",
       "      <th>Name</th>\n",
       "      <th>Nonprofit</th>\n",
       "      <th>Education</th>\n",
       "    </tr>\n",
       "  </thead>\n",
       "  <tbody>\n",
       "    <tr>\n",
       "      <th>0</th>\n",
       "      <td>Y</td>\n",
       "      <td>1</td>\n",
       "      <td>1</td>\n",
       "    </tr>\n",
       "    <tr>\n",
       "      <th>1</th>\n",
       "      <td>Z</td>\n",
       "      <td>1</td>\n",
       "      <td>1</td>\n",
       "    </tr>\n",
       "  </tbody>\n",
       "</table>\n",
       "</div>"
      ],
      "text/plain": [
       "  Name  Nonprofit  Education\n",
       "0    Y          1          1\n",
       "1    Z          1          1"
      ]
     },
     "execution_count": 6,
     "metadata": {},
     "output_type": "execute_result"
    }
   ],
   "source": [
    "df2"
   ]
  },
  {
   "cell_type": "code",
   "execution_count": 33,
   "metadata": {},
   "outputs": [],
   "source": [
    "# 1.1_method1: using pd.update()\n",
    "df1 = df1.set_index('Name')\n",
    "df2 = df2.set_index('Name')\n",
    "df1.update(df2)\n",
    "df1.reset_index(inplace=True)"
   ]
  },
  {
   "cell_type": "code",
   "execution_count": 40,
   "metadata": {},
   "outputs": [],
   "source": [
    "# 1.2_method2: merge\n",
    "df1 = df1.merge(df2,on='Name',how=\"left\")\n",
    "df1['Nonprofit_y'] = df1['Nonprofit_y'].fillna(df1['Nonprofit_x'])\n",
    "df1['Education_y'] = df1['Education_y'].fillna(df1['Education_x'])\n",
    "df1.drop([\"Education_x\",\"Nonprofit_x\"],inplace=True,axis=1)\n",
    "df1.rename(columns={'Education_y':'Education','Nonprofit_y':'Nonprofit'},inplace=True)"
   ]
  },
  {
   "cell_type": "markdown",
   "metadata": {},
   "source": [
    "<a id=2></a>\n",
    "# 2. Drop Nan value"
   ]
  },
  {
   "cell_type": "code",
   "execution_count": 57,
   "metadata": {},
   "outputs": [],
   "source": [
    "df = pd.DataFrame(np.random.randn(10,3))\n",
    "df.iloc[::2,0] = np.nan; df.iloc[::4,1] = np.nan; df.iloc[::3,2] = np.nan"
   ]
  },
  {
   "cell_type": "code",
   "execution_count": 60,
   "metadata": {
    "scrolled": true
   },
   "outputs": [
    {
     "data": {
      "text/html": [
       "<div>\n",
       "<style scoped>\n",
       "    .dataframe tbody tr th:only-of-type {\n",
       "        vertical-align: middle;\n",
       "    }\n",
       "\n",
       "    .dataframe tbody tr th {\n",
       "        vertical-align: top;\n",
       "    }\n",
       "\n",
       "    .dataframe thead th {\n",
       "        text-align: right;\n",
       "    }\n",
       "</style>\n",
       "<table border=\"1\" class=\"dataframe\">\n",
       "  <thead>\n",
       "    <tr style=\"text-align: right;\">\n",
       "      <th></th>\n",
       "      <th>0</th>\n",
       "      <th>1</th>\n",
       "      <th>2</th>\n",
       "    </tr>\n",
       "  </thead>\n",
       "  <tbody>\n",
       "    <tr>\n",
       "      <th>1</th>\n",
       "      <td>-2.966789</td>\n",
       "      <td>1.179701</td>\n",
       "      <td>1.428787</td>\n",
       "    </tr>\n",
       "    <tr>\n",
       "      <th>2</th>\n",
       "      <td>NaN</td>\n",
       "      <td>-0.886587</td>\n",
       "      <td>1.549733</td>\n",
       "    </tr>\n",
       "    <tr>\n",
       "      <th>3</th>\n",
       "      <td>-0.744843</td>\n",
       "      <td>0.823238</td>\n",
       "      <td>NaN</td>\n",
       "    </tr>\n",
       "    <tr>\n",
       "      <th>5</th>\n",
       "      <td>-1.398450</td>\n",
       "      <td>1.236819</td>\n",
       "      <td>-0.324916</td>\n",
       "    </tr>\n",
       "    <tr>\n",
       "      <th>6</th>\n",
       "      <td>NaN</td>\n",
       "      <td>0.627484</td>\n",
       "      <td>NaN</td>\n",
       "    </tr>\n",
       "    <tr>\n",
       "      <th>7</th>\n",
       "      <td>-1.744728</td>\n",
       "      <td>-0.077998</td>\n",
       "      <td>-0.306381</td>\n",
       "    </tr>\n",
       "    <tr>\n",
       "      <th>9</th>\n",
       "      <td>1.655729</td>\n",
       "      <td>0.987490</td>\n",
       "      <td>NaN</td>\n",
       "    </tr>\n",
       "  </tbody>\n",
       "</table>\n",
       "</div>"
      ],
      "text/plain": [
       "          0         1         2\n",
       "1 -2.966789  1.179701  1.428787\n",
       "2       NaN -0.886587  1.549733\n",
       "3 -0.744843  0.823238       NaN\n",
       "5 -1.398450  1.236819 -0.324916\n",
       "6       NaN  0.627484       NaN\n",
       "7 -1.744728 -0.077998 -0.306381\n",
       "9  1.655729  0.987490       NaN"
      ]
     },
     "execution_count": 60,
     "metadata": {},
     "output_type": "execute_result"
    }
   ],
   "source": [
    "df.dropna()\n",
    "\n",
    "df.dropna(how='all')\n",
    "\n",
    "df.dropna(thresh=2) \n",
    "\n",
    "df.dropna(subset=[1]) \n",
    "df[df[2].notnull()]\n",
    "df[~df[2].isnull()]\n",
    "df[~np.isnan(df[2])]"
   ]
  },
  {
   "cell_type": "markdown",
   "metadata": {},
   "source": [
    "<a id=3></a>\n",
    "# 3. Selection elements of a list based on another 'True'/'False' list"
   ]
  },
  {
   "cell_type": "code",
   "execution_count": 80,
   "metadata": {},
   "outputs": [
    {
     "name": "stdout",
     "output_type": "stream",
     "text": [
      "['sth1', 'sth3']\n",
      "['sth1', 'sth3']\n",
      "['sth1', 'sth3']\n"
     ]
    }
   ],
   "source": [
    "xs = ['sth1','sth2','sth3','sth4']\n",
    "ys = [True, False, True, False]\n",
    "\n",
    "# 3.1_method1: zip()\n",
    "result = [x for x, y in zip(xs, ys) if y == True]\n",
    "print(result)\n",
    "# 3.2_method2: np.array()\n",
    "np_xs = np.array(xs)\n",
    "np_ys = np.array(ys)\n",
    "print(np_xs[np_ys].tolist())\n",
    "# 3.3_method3: compress\n",
    "from itertools import compress\n",
    "print(list(compress(xs, ys)))"
   ]
  },
  {
   "cell_type": "markdown",
   "metadata": {},
   "source": [
    "<a id=4></a>\n",
    "# 4. Flatten a list of lists"
   ]
  },
  {
   "cell_type": "code",
   "execution_count": 4,
   "metadata": {},
   "outputs": [
    {
     "name": "stdout",
     "output_type": "stream",
     "text": [
      "[range(0, 4), range(0, 7)]\n",
      "[0, 1, 2, 3, 0, 1, 2, 3, 4, 5, 6]\n",
      "[0, 1, 2, 3, 0, 1, 2, 3, 4, 5, 6]\n"
     ]
    }
   ],
   "source": [
    "#The list of lists\n",
    "list_of_lists = [range(4), range(7)]\n",
    "print(list_of_lists)\n",
    "#flatten the lists\n",
    "flattened_list = [y for x in list_of_lists for y in x]\n",
    "\n",
    "print(flattened_list)\n",
    "\n",
    "\n",
    "import itertools\n",
    "flattened_list  = list(itertools.chain(*list_of_lists))\n",
    "print(flattened_list)"
   ]
  },
  {
   "cell_type": "markdown",
   "metadata": {},
   "source": [
    "<a id=5></a> \n",
    " # 5. Filter columns name"
   ]
  },
  {
   "cell_type": "code",
   "execution_count": 18,
   "metadata": {},
   "outputs": [
    {
     "name": "stdout",
     "output_type": "stream",
     "text": [
      "   spike-2\n",
      "0        1\n",
      "1        2\n",
      "2        3\n"
     ]
    }
   ],
   "source": [
    "import pandas as pd\n",
    "# https://pandas.pydata.org/pandas-docs/stable/reference/api/pandas.DataFrame.filter.html\n",
    "data = {'spike-2': [1,2,3], 'hey spke': [4,5,6]}\n",
    "df = pd.DataFrame(data)\n",
    "\n",
    "print(df.filter(like='spike'))"
   ]
  },
  {
   "cell_type": "markdown",
   "metadata": {},
   "source": [
    "<a id=6></a>\n",
    "# 6. Filter rows by str.match or str.contain function"
   ]
  },
  {
   "cell_type": "code",
   "execution_count": 10,
   "metadata": {},
   "outputs": [],
   "source": [
    "data = [\"1345677+@gmail.com\", \"2345678+556@gmail.com\", \n",
    "        \"Testing+22@gmail.com\", \"test223+22@gmail.com\"]\n",
    "df = pd.DataFrame(data, columns=[\"email\"])\n",
    "\n",
    "df[df.email.str.match(\"\\d+\\+.*\")]'\n",
    "df[df.email.str.contains('^\\d+\\+.*\\@')]'"
   ]
  },
  {
   "cell_type": "markdown",
   "metadata": {},
   "source": [
    "<a id=7></a>\n",
    "# 7. Replace Nan in a column with another columns"
   ]
  },
  {
   "cell_type": "code",
   "execution_count": 51,
   "metadata": {},
   "outputs": [
    {
     "data": {
      "text/html": [
       "<div>\n",
       "<style scoped>\n",
       "    .dataframe tbody tr th:only-of-type {\n",
       "        vertical-align: middle;\n",
       "    }\n",
       "\n",
       "    .dataframe tbody tr th {\n",
       "        vertical-align: top;\n",
       "    }\n",
       "\n",
       "    .dataframe thead th {\n",
       "        text-align: right;\n",
       "    }\n",
       "</style>\n",
       "<table border=\"1\" class=\"dataframe\">\n",
       "  <thead>\n",
       "    <tr style=\"text-align: right;\">\n",
       "      <th></th>\n",
       "      <th>File</th>\n",
       "      <th>heat</th>\n",
       "      <th>Farheit</th>\n",
       "      <th>Temp</th>\n",
       "    </tr>\n",
       "  </thead>\n",
       "  <tbody>\n",
       "    <tr>\n",
       "      <th>0</th>\n",
       "      <td>1</td>\n",
       "      <td>YesQ</td>\n",
       "      <td>75</td>\n",
       "      <td>NaN</td>\n",
       "    </tr>\n",
       "    <tr>\n",
       "      <th>1</th>\n",
       "      <td>1</td>\n",
       "      <td>NoR</td>\n",
       "      <td>115</td>\n",
       "      <td>NaN</td>\n",
       "    </tr>\n",
       "    <tr>\n",
       "      <th>2</th>\n",
       "      <td>1</td>\n",
       "      <td>NoT</td>\n",
       "      <td>63</td>\n",
       "      <td>13.0</td>\n",
       "    </tr>\n",
       "    <tr>\n",
       "      <th>3</th>\n",
       "      <td>2</td>\n",
       "      <td>YesT</td>\n",
       "      <td>43</td>\n",
       "      <td>71.0</td>\n",
       "    </tr>\n",
       "  </tbody>\n",
       "</table>\n",
       "</div>"
      ],
      "text/plain": [
       "   File  heat  Farheit  Temp\n",
       "0     1  YesQ       75   NaN\n",
       "1     1   NoR      115   NaN\n",
       "2     1   NoT       63  13.0\n",
       "3     2  YesT       43  71.0"
      ]
     },
     "execution_count": 51,
     "metadata": {},
     "output_type": "execute_result"
    }
   ],
   "source": [
    "ts_df = pd.DataFrame([[1,\"YesQ\",75,],\n",
    "                      [1,\"NoR\",115,],\n",
    "                      [1,\"NoT\",63,13],\n",
    "                      [2,\"YesT\",43,71]],\n",
    "                     columns=['File','heat','Farheit','Temp'])\n",
    "ts_df"
   ]
  },
  {
   "cell_type": "code",
   "execution_count": 16,
   "metadata": {},
   "outputs": [],
   "source": [
    "# 7.1_method1: .fillna()\n",
    "ts_df.Temp.fillna(ts_df.Farheit, inplace=True)\n",
    "del ts_df['Farheit']"
   ]
  },
  {
   "cell_type": "code",
   "execution_count": 21,
   "metadata": {},
   "outputs": [],
   "source": [
    "# 7.2_method2: .loc replace\n",
    "ts_df.loc[ts_df.Temp.isnull(), 'Temp'] = ts_df.Farheit\n",
    "del ts_df['Farheit']"
   ]
  },
  {
   "cell_type": "code",
   "execution_count": 26,
   "metadata": {},
   "outputs": [],
   "source": [
    "# 7.3_method2: .apply() with np.isnan()\n",
    "ts_df.Temp = ts_df.apply(lambda x: x.Farheit if np.isnan(x.Temp) else x.Temp, axis=1)\n",
    "del ts_df['Farheit']"
   ]
  },
  {
   "cell_type": "markdown",
   "metadata": {},
   "source": [
    "<a id=8></a>\n",
    "# 8. Convert a string representation of a Dictionary to a dictionary?"
   ]
  },
  {
   "cell_type": "code",
   "execution_count": 52,
   "metadata": {},
   "outputs": [
    {
     "name": "stdout",
     "output_type": "stream",
     "text": [
      "<class 'str'>\n",
      "{'muffin' : 'lolz', 'foo' : 'kitty'}\n"
     ]
    }
   ],
   "source": [
    "s = \"{'muffin' : 'lolz', 'foo' : 'kitty'}\"\n",
    "print(type(s))\n",
    "print(s)"
   ]
  },
  {
   "cell_type": "code",
   "execution_count": 30,
   "metadata": {},
   "outputs": [
    {
     "name": "stdout",
     "output_type": "stream",
     "text": [
      "<class 'dict'> {'muffin': 'lolz', 'foo': 'kitty'}\n",
      "\n",
      "\n"
     ]
    }
   ],
   "source": [
    "# 8.1_method1: ast.literal_eval()\n",
    "import ast\n",
    "print(type(ast.literal_eval(\"{'muffin' : 'lolz', 'foo' : 'kitty'}\")),\n",
    "      ast.literal_eval(\"{'muffin' : 'lolz', 'foo' : 'kitty'}\"))\n",
    "\n",
    "print('\\n')"
   ]
  },
  {
   "cell_type": "code",
   "execution_count": 41,
   "metadata": {},
   "outputs": [
    {
     "name": "stdout",
     "output_type": "stream",
     "text": [
      "{\"muffin\" : \"lolz\", \"foo\" : \"kitty\"}\n",
      "<class 'str'> {\"muffin\" : \"lolz\", \"foo\" : \"kitty\"}\n",
      "<class 'dict'> {'muffin': 'lolz', 'foo': 'kitty'}\n",
      "\n",
      "\n"
     ]
    }
   ],
   "source": [
    "# 8.2_method2: json.loads() \n",
    "import json\n",
    "json_acceptable_string = s.replace(\"'\",\"\\\"\")\n",
    "print(json_acceptable_string)\n",
    "print(type(json_acceptable_string), json_acceptable_string)\n",
    "print(type(json.loads(json_acceptable_string)), \n",
    "      json.loads(json_acceptable_string))\n",
    "\n",
    "print('\\n')"
   ]
  },
  {
   "cell_type": "code",
   "execution_count": 44,
   "metadata": {},
   "outputs": [
    {
     "name": "stdout",
     "output_type": "stream",
     "text": [
      "<class 'dict'> {'muffin': 'lolz', 'foo': 'kitty'}\n"
     ]
    }
   ],
   "source": [
    "# 8.3_method3: json.loads() \n",
    "print(type(yaml.load(s, Loader=yaml.FullLoader)),\n",
    "     yaml.load(s, Loader=yaml.FullLoader))="
   ]
  },
  {
   "cell_type": "code",
   "execution_count": null,
   "metadata": {},
   "outputs": [],
   "source": [
    "# 8.4_method4: json.loads() \n",
    "d = {}\n",
    "elems  = list(filter(str.isalnum,s.split(\"'\")))\n",
    "print(elems)\n",
    "values = elems[1::2]\n",
    "keys   = elems[0::2]\n",
    "d.update(zip(keys,values))\n",
    "print(type(d),d)"
   ]
  },
  {
   "cell_type": "markdown",
   "metadata": {},
   "source": [
    "<a id=9></a>\n",
    "# 9. Flatten a dict like column into multiple columns"
   ]
  },
  {
   "cell_type": "code",
   "execution_count": null,
   "metadata": {},
   "outputs": [],
   "source": [
    "# 1. pd.Series\n",
    "df[['a', 'b']] = output['ab'].apply(pd.Series)"
   ]
  },
  {
   "cell_type": "code",
   "execution_count": null,
   "metadata": {},
   "outputs": [],
   "source": [
    "# 2. json_normalized\n",
    "df[['a', 'b']] = json_normalize(output['ab'])"
   ]
  }
 ],
 "metadata": {
  "kernelspec": {
   "display_name": "Python 3",
   "language": "python",
   "name": "python3"
  },
  "language_info": {
   "codemirror_mode": {
    "name": "ipython",
    "version": 3
   },
   "file_extension": ".py",
   "mimetype": "text/x-python",
   "name": "python",
   "nbconvert_exporter": "python",
   "pygments_lexer": "ipython3",
   "version": "3.6.8"
  }
 },
 "nbformat": 4,
 "nbformat_minor": 2
}
