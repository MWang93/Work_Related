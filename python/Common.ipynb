{
 "cells": [
  {
   "cell_type": "code",
   "execution_count": 54,
   "metadata": {},
   "outputs": [],
   "source": [
    "import pandas as pd\n",
    "import numpy as np"
   ]
  },
  {
   "cell_type": "code",
   "execution_count": 52,
   "metadata": {},
   "outputs": [],
   "source": [
    "# 1. Replace column values based on another dataframe python pandas - better way?\n",
    "df1 = pd.DataFrame([[\"X\",1,1,0], [\"Y\",0,1,0], [\"Z\",0,0,0], [\"Y\",0,0,0]],\n",
    "                    columns=[\"Name\",\"Nonprofit\",\"Business\", \"Education\"])    \n",
    "\n",
    "df2 = pd.DataFrame([[\"Y\",1,1], [\"Z\",1,1]],columns=[\"Name\",\"Nonprofit\", \"Education\"])  "
   ]
  },
  {
   "cell_type": "code",
   "execution_count": 33,
   "metadata": {},
   "outputs": [],
   "source": [
    "# 1.1_method1: using pd.update()\n",
    "df2 = df1.set_index('Name')\n",
    "df2 = df2.set_index('Name')\n",
    "df1.update(df2)\n",
    "df1.reset_index(inplace=True)"
   ]
  },
  {
   "cell_type": "code",
   "execution_count": 40,
   "metadata": {},
   "outputs": [],
   "source": [
    "# 1.2_method2: merge\n",
    "df1 = df1.merge(df2,on='Name',how=\"left\")\n",
    "df1['Nonprofit_y'] = df1['Nonprofit_y'].fillna(df1['Nonprofit_x'])\n",
    "df1['Education_y'] = df1['Education_y'].fillna(df1['Education_x'])\n",
    "df1.drop([\"Education_x\",\"Nonprofit_x\"],inplace=True,axis=1)\n",
    "df1.rename(columns={'Education_y':'Education','Nonprofit_y':'Nonprofit'},inplace=True)"
   ]
  },
  {
   "cell_type": "code",
   "execution_count": 57,
   "metadata": {},
   "outputs": [],
   "source": [
    "# 2. Drop Nan value\n",
    "df = pd.DataFrame(np.random.randn(10,3))\n",
    "df.iloc[::2,0] = np.nan; df.iloc[::4,1] = np.nan; df.iloc[::3,2] = np.nan"
   ]
  },
  {
   "cell_type": "code",
   "execution_count": 60,
   "metadata": {
    "scrolled": true
   },
   "outputs": [
    {
     "data": {
      "text/html": [
       "<div>\n",
       "<style scoped>\n",
       "    .dataframe tbody tr th:only-of-type {\n",
       "        vertical-align: middle;\n",
       "    }\n",
       "\n",
       "    .dataframe tbody tr th {\n",
       "        vertical-align: top;\n",
       "    }\n",
       "\n",
       "    .dataframe thead th {\n",
       "        text-align: right;\n",
       "    }\n",
       "</style>\n",
       "<table border=\"1\" class=\"dataframe\">\n",
       "  <thead>\n",
       "    <tr style=\"text-align: right;\">\n",
       "      <th></th>\n",
       "      <th>0</th>\n",
       "      <th>1</th>\n",
       "      <th>2</th>\n",
       "    </tr>\n",
       "  </thead>\n",
       "  <tbody>\n",
       "    <tr>\n",
       "      <th>1</th>\n",
       "      <td>-2.966789</td>\n",
       "      <td>1.179701</td>\n",
       "      <td>1.428787</td>\n",
       "    </tr>\n",
       "    <tr>\n",
       "      <th>2</th>\n",
       "      <td>NaN</td>\n",
       "      <td>-0.886587</td>\n",
       "      <td>1.549733</td>\n",
       "    </tr>\n",
       "    <tr>\n",
       "      <th>3</th>\n",
       "      <td>-0.744843</td>\n",
       "      <td>0.823238</td>\n",
       "      <td>NaN</td>\n",
       "    </tr>\n",
       "    <tr>\n",
       "      <th>5</th>\n",
       "      <td>-1.398450</td>\n",
       "      <td>1.236819</td>\n",
       "      <td>-0.324916</td>\n",
       "    </tr>\n",
       "    <tr>\n",
       "      <th>6</th>\n",
       "      <td>NaN</td>\n",
       "      <td>0.627484</td>\n",
       "      <td>NaN</td>\n",
       "    </tr>\n",
       "    <tr>\n",
       "      <th>7</th>\n",
       "      <td>-1.744728</td>\n",
       "      <td>-0.077998</td>\n",
       "      <td>-0.306381</td>\n",
       "    </tr>\n",
       "    <tr>\n",
       "      <th>9</th>\n",
       "      <td>1.655729</td>\n",
       "      <td>0.987490</td>\n",
       "      <td>NaN</td>\n",
       "    </tr>\n",
       "  </tbody>\n",
       "</table>\n",
       "</div>"
      ],
      "text/plain": [
       "          0         1         2\n",
       "1 -2.966789  1.179701  1.428787\n",
       "2       NaN -0.886587  1.549733\n",
       "3 -0.744843  0.823238       NaN\n",
       "5 -1.398450  1.236819 -0.324916\n",
       "6       NaN  0.627484       NaN\n",
       "7 -1.744728 -0.077998 -0.306381\n",
       "9  1.655729  0.987490       NaN"
      ]
     },
     "execution_count": 60,
     "metadata": {},
     "output_type": "execute_result"
    }
   ],
   "source": [
    "df.dropna()\n",
    "\n",
    "df.dropna(how='all')\n",
    "\n",
    "df.dropna(thresh=2) \n",
    "\n",
    "df.dropna(subset=[1]) \n",
    "df[df[2].notnull()]\n",
    "df[~df[2].isnull()]\n",
    "df[~np.isnan(df[2])]"
   ]
  },
  {
   "cell_type": "code",
   "execution_count": 80,
   "metadata": {},
   "outputs": [
    {
     "name": "stdout",
     "output_type": "stream",
     "text": [
      "['sth1', 'sth3']\n",
      "['sth1', 'sth3']\n",
      "['sth1', 'sth3']\n"
     ]
    }
   ],
   "source": [
    "# 3. Selection elements of a list based on another 'True'/'False' list\n",
    "xs = ['sth1','sth2','sth3','sth4']\n",
    "ys = [True, False, True, False]\n",
    "\n",
    "# 3.1_method1: zip()\n",
    "result = [x for x, y in zip(xs, ys) if y == True]\n",
    "print(result)\n",
    "# 3.2_method2: np.array()\n",
    "np_xs = np.array(xs)\n",
    "np_ys = np.array(ys)\n",
    "print(np_xs[np_ys].tolist())\n",
    "# 3.3_method3: compress\n",
    "from itertools import compress\n",
    "print(list(compress(xs, ys)))"
   ]
  },
  {
   "cell_type": "code",
   "execution_count": 4,
   "metadata": {},
   "outputs": [
    {
     "name": "stdout",
     "output_type": "stream",
     "text": [
      "[range(0, 4), range(0, 7)]\n",
      "[0, 1, 2, 3, 0, 1, 2, 3, 4, 5, 6]\n",
      "[0, 1, 2, 3, 0, 1, 2, 3, 4, 5, 6]\n"
     ]
    }
   ],
   "source": [
    "# 4. Flatten a list of lists\n",
    "#The list of lists\n",
    "list_of_lists = [range(4), range(7)]\n",
    "print(list_of_lists)\n",
    "#flatten the lists\n",
    "flattened_list = [y for x in list_of_lists for y in x]\n",
    "\n",
    "print(flattened_list)\n",
    "\n",
    "\n",
    "import itertools\n",
    "flattened_list  = list(itertools.chain(*list_of_lists))\n",
    "print(flattened_list)"
   ]
  },
  {
   "cell_type": "code",
   "execution_count": 18,
   "metadata": {},
   "outputs": [
    {
     "name": "stdout",
     "output_type": "stream",
     "text": [
      "   spike-2\n",
      "0        1\n",
      "1        2\n",
      "2        3\n"
     ]
    }
   ],
   "source": [
    " # 5. Filter columns name\n",
    "import pandas as pd\n",
    "# https://pandas.pydata.org/pandas-docs/stable/reference/api/pandas.DataFrame.filter.html\n",
    "data = {'spike-2': [1,2,3], 'hey spke': [4,5,6]}\n",
    "df = pd.DataFrame(data)\n",
    "\n",
    "print(df.filter(like='spike'))"
   ]
  },
  {
   "cell_type": "code",
   "execution_count": 10,
   "metadata": {},
   "outputs": [],
   "source": [
    "# 6. Filter rows by str.match or str.contain function\n",
    "data = [\"1345677+@gmail.com\", \"2345678+556@gmail.com\", \n",
    "        \"Testing+22@gmail.com\", \"test223+22@gmail.com\"]\n",
    "df = pd.DataFrame(data, columns=[\"email\"])\n",
    "\n",
    "df[df.email.str.match(\"\\d+\\+.*\")]'\n",
    "df[df.email.str.contains('^\\d+\\+.*\\@')]'"
   ]
  }
 ],
 "metadata": {
  "kernelspec": {
   "display_name": "Python 3",
   "language": "python",
   "name": "python3"
  },
  "language_info": {
   "codemirror_mode": {
    "name": "ipython",
    "version": 3
   },
   "file_extension": ".py",
   "mimetype": "text/x-python",
   "name": "python",
   "nbconvert_exporter": "python",
   "pygments_lexer": "ipython3",
   "version": "3.6.8"
  }
 },
 "nbformat": 4,
 "nbformat_minor": 2
}
