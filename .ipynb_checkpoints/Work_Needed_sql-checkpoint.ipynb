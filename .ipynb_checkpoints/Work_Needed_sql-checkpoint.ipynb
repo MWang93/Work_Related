{
 "cells": [
  {
   "cell_type": "markdown",
   "metadata": {},
   "source": [
    "# Postgres Date Function"
   ]
  },
  {
   "cell_type": "markdown",
   "metadata": {},
   "source": [
    "#### Extract part of the timestamp with DATE_TRUNC()\n",
    "<pre>SELECT DATE_TRUNC('month','2015-04-12 14:44:18'::date)</pre> "
   ]
  },
  {
   "cell_type": "markdown",
   "metadata": {},
   "source": [
    "#### Find events relative to the present time with NOW() and CURRENT_DATE\n",
    "<pre>\n",
    "SELECT CURRENT_DATE, CURRENT_DATE - interval '12 hours' as \"twelve hours ago\", NOW(), NOW()::date - interval '1 month' as \"one month ago\"\n",
    "</pre>"
   ]
  },
  {
   "cell_type": "markdown",
   "metadata": {},
   "source": [
    "#### Isolate hour-of-day and day-of-week with EXTRACT\n",
    "<pre>SELECT EXTRACT(dow FROM '2015-02-12'::date)</pre>"
   ]
  },
  {
   "cell_type": "markdown",
   "metadata": {},
   "source": [
    "#### Calculate the difference between two timesetamps with  AGE, DATE_PART, EXTRACT\n",
    "<pre>\n",
    "SELECT '2019-01-01'::date - now()::date as diff_day, \n",
    "AGE(now()::date, '2019-01-01'::date) as age_date, \n",
    "AGE('2019-01-01'::date) as age_until_now, \n",
    "(-DATE_PART('epoch', '2019-01-01'::date) + DATE_PART('epoch', now()::date))/(60*60*24) as date_part_diff_days,\n",
    "(-extract(epoch from '2019-01-01'::date) + extract(epoch from now()::date))/(60*60*24) as extract_diff_days\n",
    "</pre>"
   ]
  },
  {
   "cell_type": "markdown",
   "metadata": {},
   "source": [
    "#### How long does it take users to complete their profile each month, on average?\n",
    "\n",
    "    Note: extract(epoch 'timestamp' or 'interval') | http://www.postgresqltutorial.com/postgresql-extract/\n",
    "<pre>\n",
    "SELECT DATE_TRUNC('month',started_at) AS month,\n",
    "       EXTRACT(EPOCH FROM AVG(AGE(ended_at,started_at))) AS avg_seconds\n",
    "FROM modeanalytics.profile_creation_events \n",
    "GROUP BY 1\n",
    "ORDER BY 1  \n",
    " </pre>"
   ]
  },
  {
   "cell_type": "markdown",
   "metadata": {},
   "source": [
    "# Analysis"
   ]
  },
  {
   "cell_type": "markdown",
   "metadata": {},
   "source": [
    "#### Get the first row per group\n",
    "<pre>\n",
    "WITH _events (\n",
    "  SELECT *, \n",
    "  row_number() OVER (PARTITION BY  user_id ORDER BY created_at DESC) AS row_number\n",
    "  FROM events\n",
    "  WHERE day = '2018-01-01'::date\n",
    ")\n",
    "\n",
    "SELECT *\n",
    "FROM _events\n",
    "WHERE row_number = 1\n",
    "</pre>"
   ]
  },
  {
   "cell_type": "markdown",
   "metadata": {},
   "source": [
    "#### Avoid Gaps in Data\n",
    "<pre>\n",
    "WITH days AS (\n",
    "  SELECT generate_series(\n",
    "    DATE_TRUNC('day', NOW()) - '30 days'::interval,\n",
    "    DATE_TRUNC('day', NOW()),'1 day'::interval\n",
    "  ) AS day\n",
    ")\n",
    "\n",
    "SELECT days.day, COALESCE(COUNT(users.id),0)\n",
    "FROM days\n",
    "LEFT JOIN users ON DATE_TRUNC('day', users.created_at) = days.day\n",
    "GROUP BY 1\n",
    "</pre>"
   ]
  },
  {
   "cell_type": "markdown",
   "metadata": {},
   "source": [
    "#### Type Casting\n",
    "<pre>\n",
    "-- Cast text to boolean\n",
    "select 'true'::boolean;\n",
    "\n",
    "-- Cast float to integer\n",
    "select 1.0::integer;\n",
    "\n",
    "-- Cast integer to float\n",
    "select '3.33'::float;\n",
    "select 10/3.0; -- This will return a float too\n",
    "\n",
    "-- Cast text to integer\n",
    "select '1'::integer;\n",
    "\n",
    "-- Cast text to timestamp\n",
    "select '2018-01-01 09:00:00'::timestamp;\n",
    "\n",
    "-- Cast text to date\n",
    "select '2018-01-01'::date;\n",
    "\n",
    "-- Cast text to interval\n",
    "select '1 minute'::interval;\n",
    "select '1 hour'::interval;\n",
    "select '1 day'::interval;\n",
    "select '1 week'::interval;\n",
    "select '1 month'::interval;\n",
    "</pre>"
   ]
  },
  {
   "cell_type": "markdown",
   "metadata": {},
   "source": [
    "#### Compare Two Values when One is Null\n",
    "<pre>\n",
    "SELECT count(1)\n",
    "FROM items\n",
    "WHERE width is distinct from height;\n",
    "</pre>\n",
    "\n",
    "<pre>\n",
    "SELECT count(1)\n",
    "FROM items\n",
    "WHERE width != height or width is Null or height is Null\n",
    "</pre>"
   ]
  },
  {
   "cell_type": "markdown",
   "metadata": {},
   "source": [
    "#### Case\n",
    "<pre>\n",
    "SELECT\n",
    "  CASE\n",
    "    WHEN precipitation = 0 THEN 'none'\n",
    "    WHEN precipitation <= 5 THEN 'little'\n",
    "    WHEN precipitation > 5 THEN 'lots'\n",
    "    ELSE 'unknown'\n",
    "  END AS amount_of_rain\n",
    "FROM weather_data;\n",
    "</pre>"
   ]
  },
  {
   "cell_type": "markdown",
   "metadata": {},
   "source": [
    "#### Filter while Doing Multiple Counts\n",
    "<pre>\n",
    "SELECT\n",
    "  COUNT(1), -- Count all users\n",
    "  COUNT(1) FILTER (WHERE gender = 'male'), -- Count male users\n",
    "  COUNT(1) FILTER (WHERE beta IS TRUE) -- Count beta users\n",
    "  COUNT(1) FILTER (WHERE active IS TRUE AND beta IS FALSE) -- Count active non-beta users\n",
    "FROM users\n",
    "</pre>"
   ]
  },
  {
   "cell_type": "markdown",
   "metadata": {},
   "source": [
    "#### Cumulative Sum Total \n",
    "<pre>\n",
    "WITH data AS (\n",
    "  SELECT DATE_TRUNC('day', created_at) AS day, count(1)\n",
    "  FROM users\n",
    "  GROUP BY 1\n",
    ")\n",
    "\n",
    "SELECT day, \n",
    "  SUM(count) OVER (ORDER BY day ROWS BETWEEN UNBOUNDED PRECEDING AND CURRENT ROW)\n",
    "FROM data\n",
    "</pre>"
   ]
  }
 ],
 "metadata": {
  "kernelspec": {
   "display_name": "Python 3",
   "language": "python",
   "name": "python3"
  },
  "language_info": {
   "codemirror_mode": {
    "name": "ipython",
    "version": 3
   },
   "file_extension": ".py",
   "mimetype": "text/x-python",
   "name": "python",
   "nbconvert_exporter": "python",
   "pygments_lexer": "ipython3",
   "version": "3.6.8"
  }
 },
 "nbformat": 4,
 "nbformat_minor": 2
}
